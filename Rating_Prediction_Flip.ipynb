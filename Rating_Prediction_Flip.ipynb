{
 "cells": [
  {
   "cell_type": "code",
   "execution_count": 1,
   "id": "7d9d4392",
   "metadata": {},
   "outputs": [
    {
     "name": "stdout",
     "output_type": "stream",
     "text": [
      "Requirement already satisfied: selenium in c:\\programdata\\anaconda3\\lib\\site-packages (4.3.0)"
     ]
    },
    {
     "name": "stderr",
     "output_type": "stream",
     "text": [
      "WARNING: Ignoring invalid distribution -rkupsafe (c:\\programdata\\anaconda3\\lib\\site-packages)\n",
      "WARNING: Ignoring invalid distribution - (c:\\programdata\\anaconda3\\lib\\site-packages)\n",
      "WARNING: Ignoring invalid distribution -dna (c:\\programdata\\anaconda3\\lib\\site-packages)\n",
      "WARNING: Ignoring invalid distribution -arkupsafe (c:\\programdata\\anaconda3\\lib\\site-packages)\n",
      "WARNING: Ignoring invalid distribution -rkupsafe (c:\\programdata\\anaconda3\\lib\\site-packages)\n",
      "WARNING: Ignoring invalid distribution - (c:\\programdata\\anaconda3\\lib\\site-packages)\n",
      "WARNING: Ignoring invalid distribution -dna (c:\\programdata\\anaconda3\\lib\\site-packages)\n",
      "WARNING: Ignoring invalid distribution -arkupsafe (c:\\programdata\\anaconda3\\lib\\site-packages)\n"
     ]
    },
    {
     "name": "stdout",
     "output_type": "stream",
     "text": [
      "\n",
      "Requirement already satisfied: urllib3[secure,socks]~=1.26 in c:\\programdata\\anaconda3\\lib\\site-packages (from selenium) (1.26.7)\n",
      "Requirement already satisfied: trio-websocket~=0.9 in c:\\programdata\\anaconda3\\lib\\site-packages (from selenium) (0.9.2)\n",
      "Requirement already satisfied: trio~=0.17 in c:\\programdata\\anaconda3\\lib\\site-packages (from selenium) (0.21.0)\n",
      "Requirement already satisfied: sniffio in c:\\programdata\\anaconda3\\lib\\site-packages (from trio~=0.17->selenium) (1.2.0)\n",
      "Requirement already satisfied: idna in c:\\programdata\\anaconda3\\lib\\site-packages (from trio~=0.17->selenium) (3.2)\n",
      "Requirement already satisfied: async-generator>=1.9 in c:\\programdata\\anaconda3\\lib\\site-packages (from trio~=0.17->selenium) (1.10)\n",
      "Requirement already satisfied: cffi>=1.14 in c:\\programdata\\anaconda3\\lib\\site-packages (from trio~=0.17->selenium) (1.14.6)\n",
      "Requirement already satisfied: attrs>=19.2.0 in c:\\programdata\\anaconda3\\lib\\site-packages (from trio~=0.17->selenium) (21.2.0)\n",
      "Requirement already satisfied: sortedcontainers in c:\\programdata\\anaconda3\\lib\\site-packages (from trio~=0.17->selenium) (2.4.0)\n",
      "Requirement already satisfied: outcome in c:\\programdata\\anaconda3\\lib\\site-packages (from trio~=0.17->selenium) (1.2.0)\n",
      "Requirement already satisfied: pycparser in c:\\programdata\\anaconda3\\lib\\site-packages (from cffi>=1.14->trio~=0.17->selenium) (2.20)\n",
      "Requirement already satisfied: wsproto>=0.14 in c:\\programdata\\anaconda3\\lib\\site-packages (from trio-websocket~=0.9->selenium) (1.1.0)\n",
      "Requirement already satisfied: PySocks!=1.5.7,<2.0,>=1.5.6 in c:\\programdata\\anaconda3\\lib\\site-packages (from urllib3[secure,socks]~=1.26->selenium) (1.7.1)\n",
      "Requirement already satisfied: pyOpenSSL>=0.14 in c:\\programdata\\anaconda3\\lib\\site-packages (from urllib3[secure,socks]~=1.26->selenium) (21.0.0)\n",
      "Requirement already satisfied: cryptography>=1.3.4 in c:\\programdata\\anaconda3\\lib\\site-packages (from urllib3[secure,socks]~=1.26->selenium) (3.4.8)\n",
      "Requirement already satisfied: certifi in c:\\programdata\\anaconda3\\lib\\site-packages (from urllib3[secure,socks]~=1.26->selenium) (2021.10.8)\n",
      "Requirement already satisfied: six>=1.5.2 in c:\\programdata\\anaconda3\\lib\\site-packages (from pyOpenSSL>=0.14->urllib3[secure,socks]~=1.26->selenium) (1.16.0)\n",
      "Requirement already satisfied: h11<1,>=0.9.0 in c:\\programdata\\anaconda3\\lib\\site-packages (from wsproto>=0.14->trio-websocket~=0.9->selenium) (0.9.0)\n"
     ]
    },
    {
     "name": "stderr",
     "output_type": "stream",
     "text": [
      "WARNING: Ignoring invalid distribution -rkupsafe (c:\\programdata\\anaconda3\\lib\\site-packages)\n",
      "WARNING: Ignoring invalid distribution - (c:\\programdata\\anaconda3\\lib\\site-packages)\n",
      "WARNING: Ignoring invalid distribution -dna (c:\\programdata\\anaconda3\\lib\\site-packages)\n",
      "WARNING: Ignoring invalid distribution -arkupsafe (c:\\programdata\\anaconda3\\lib\\site-packages)\n",
      "WARNING: Ignoring invalid distribution -rkupsafe (c:\\programdata\\anaconda3\\lib\\site-packages)\n",
      "WARNING: Ignoring invalid distribution - (c:\\programdata\\anaconda3\\lib\\site-packages)\n",
      "WARNING: Ignoring invalid distribution -dna (c:\\programdata\\anaconda3\\lib\\site-packages)\n",
      "WARNING: Ignoring invalid distribution -arkupsafe (c:\\programdata\\anaconda3\\lib\\site-packages)\n",
      "WARNING: Ignoring invalid distribution -rkupsafe (c:\\programdata\\anaconda3\\lib\\site-packages)\n",
      "WARNING: Ignoring invalid distribution - (c:\\programdata\\anaconda3\\lib\\site-packages)\n",
      "WARNING: Ignoring invalid distribution -dna (c:\\programdata\\anaconda3\\lib\\site-packages)\n",
      "WARNING: Ignoring invalid distribution -arkupsafe (c:\\programdata\\anaconda3\\lib\\site-packages)\n",
      "WARNING: Ignoring invalid distribution -rkupsafe (c:\\programdata\\anaconda3\\lib\\site-packages)\n",
      "WARNING: Ignoring invalid distribution - (c:\\programdata\\anaconda3\\lib\\site-packages)\n",
      "WARNING: Ignoring invalid distribution -dna (c:\\programdata\\anaconda3\\lib\\site-packages)\n",
      "WARNING: Ignoring invalid distribution -arkupsafe (c:\\programdata\\anaconda3\\lib\\site-packages)\n"
     ]
    }
   ],
   "source": [
    "!pip install selenium"
   ]
  },
  {
   "cell_type": "code",
   "execution_count": 55,
   "id": "62c79cb1",
   "metadata": {},
   "outputs": [],
   "source": [
    "import selenium\n",
    "from selenium import webdriver\n",
    "import pandas as pd\n",
    "import warnings\n",
    "warnings.filterwarnings(\"ignore\")\n",
    "from selenium.webdriver.common.by import By\n",
    "import requests\n",
    "import time\n",
    "from selenium.common.exceptions import NoSuchElementException"
   ]
  },
  {
   "cell_type": "code",
   "execution_count": 3,
   "id": "c94bfa41",
   "metadata": {},
   "outputs": [],
   "source": [
    "# Connect to webdriver\n",
    "driver = webdriver.Chrome(r'C:\\Users\\COTMAC\\Downloads\\chromedriver_win32\\chromedriver.exe')"
   ]
  },
  {
   "cell_type": "code",
   "execution_count": 4,
   "id": "b16c3c2f",
   "metadata": {},
   "outputs": [],
   "source": [
    "url = 'https://www.flipkart.com/'\n",
    "driver.get(url)"
   ]
  },
  {
   "cell_type": "code",
   "execution_count": 39,
   "id": "fe0c19ca",
   "metadata": {},
   "outputs": [
    {
     "data": {
      "text/plain": [
       "<selenium.webdriver.remote.webelement.WebElement (session=\"54d84cdf0ada016a29fa7f5bcc182cfe\", element=\"f00c087f-a0cd-45ee-8ab8-abb71ab764f8\")>"
      ]
     },
     "execution_count": 39,
     "metadata": {},
     "output_type": "execute_result"
    }
   ],
   "source": [
    "Close=driver.find_element(By.XPATH,\"/html/body/div[2]/div/div/button\")\n",
    "Close"
   ]
  },
  {
   "cell_type": "code",
   "execution_count": 40,
   "id": "41a9c0c0",
   "metadata": {},
   "outputs": [],
   "source": [
    "Close.click()"
   ]
  },
  {
   "cell_type": "code",
   "execution_count": 41,
   "id": "4bc02140",
   "metadata": {},
   "outputs": [
    {
     "data": {
      "text/plain": [
       "<selenium.webdriver.remote.webelement.WebElement (session=\"54d84cdf0ada016a29fa7f5bcc182cfe\", element=\"69183133-d65f-4f31-8163-0db8eba25d5b\")>"
      ]
     },
     "execution_count": 41,
     "metadata": {},
     "output_type": "execute_result"
    }
   ],
   "source": [
    "search_name=driver.find_element(By.XPATH,\"/html/body/div[1]/div/div[1]/div[1]/div[2]/div[2]/form/div/div/input\")\n",
    "search_name"
   ]
  },
  {
   "cell_type": "code",
   "execution_count": 42,
   "id": "63788fb5",
   "metadata": {},
   "outputs": [],
   "source": [
    "search_name.send_keys(\"laptops\")"
   ]
  },
  {
   "cell_type": "code",
   "execution_count": 43,
   "id": "b97a7bc2",
   "metadata": {},
   "outputs": [
    {
     "data": {
      "text/plain": [
       "<selenium.webdriver.remote.webelement.WebElement (session=\"54d84cdf0ada016a29fa7f5bcc182cfe\", element=\"415223c7-13d0-43e0-b6d6-62a3e38407ed\")>"
      ]
     },
     "execution_count": 43,
     "metadata": {},
     "output_type": "execute_result"
    }
   ],
   "source": [
    "search4=driver.find_element(By.XPATH,\"/html/body/div/div/div[1]/div[1]/div[2]/div[2]/form/div/button\")\n",
    "search4"
   ]
  },
  {
   "cell_type": "code",
   "execution_count": 44,
   "id": "50c8250b",
   "metadata": {},
   "outputs": [],
   "source": [
    "search4.click()"
   ]
  },
  {
   "cell_type": "code",
   "execution_count": 57,
   "id": "41d909d8",
   "metadata": {},
   "outputs": [],
   "source": [
    "# scrape all product urls\n",
    "Laptop_urls = []\n",
    "start=0\n",
    "end=1\n",
    "for page in range(start,end):#for loop for scrapping 3 page\n",
    "    url=driver.find_elements(By.XPATH,\"//a[@class='_1fQZEK']\")       #scraping urls\n",
    "    for i in url:\n",
    "        Laptop_urls.append(i.get_attribute('href'))                        #appending the urls in product_urls list\n",
    "    nxt_button=driver.find_element(By.XPATH,\"//a[@class='_1LKTO3']\")     #scraping the list of buttons from the page\n",
    "    nxt_button.click()\n",
    "    time.sleep(2)"
   ]
  },
  {
   "cell_type": "code",
   "execution_count": null,
   "id": "455557b3",
   "metadata": {},
   "outputs": [],
   "source": [
    "len(Laptop_urls)"
   ]
  },
  {
   "cell_type": "code",
   "execution_count": 14,
   "id": "1b729085",
   "metadata": {},
   "outputs": [],
   "source": [
    "# blank list variables   \n",
    "Laptop_Name = []\n",
    "complete_review=[]\n",
    "stars=[]\n",
    "time.sleep(2)\n",
    "\n",
    "for i in Laptop_urls:\n",
    "    driver.get(i)\n",
    "    #for scrapping the number of stars\n",
    "    try:\n",
    "        for j in driver.find_elements(By.XPATH,\"//span[@class='B_NuCI']\"):\n",
    "            Laptop_Name.append(j.text)\n",
    "    except NoSuchElementException:\n",
    "            Laptop_Name.append('-')\n",
    "    #for scrapping the short review\n",
    "    try:\n",
    "        for k in driver.find_elements(By.XPATH,\"//div[@class='t-ZTKy']/div/div\"):\n",
    "            complete_review.append(k.text)\n",
    "    except NoSuchElementException:\n",
    "            complete_review.append('-')\n",
    "    #for scrapping the complete review\n",
    "    try:\n",
    "        for l in driver.find_elements(By.XPATH,\"//div[@class='_3LWZlK _1BLPMq']\"):\n",
    "            stars.append(l.text)\n",
    "    except NoSuchElementException:\n",
    "            stars.append('-')"
   ]
  },
  {
   "cell_type": "code",
   "execution_count": null,
   "id": "f819ac6f",
   "metadata": {},
   "outputs": [],
   "source": [
    "print(len(Laptop_Name),len(complete_review),len(stars))"
   ]
  },
  {
   "cell_type": "code",
   "execution_count": null,
   "id": "a776d5fd",
   "metadata": {},
   "outputs": [],
   "source": [
    "import pandas as pd\n",
    "df=pd.DataFrame()\n",
    "df['complete_review'] = complete_review[0:188]\n",
    "df['Rating'] = stars[0:188]"
   ]
  },
  {
   "cell_type": "code",
   "execution_count": null,
   "id": "5c4a4a63",
   "metadata": {},
   "outputs": [],
   "source": [
    "df"
   ]
  },
  {
   "cell_type": "code",
   "execution_count": null,
   "id": "9ef09dd7",
   "metadata": {},
   "outputs": [],
   "source": [
    "df.to_csv(r'D:\\I\\02.Flip Robo Assignments\\01.Flip Robo Assignments\\12.Ratings Prediction Project\\RatingPrediction.csv', index=False)"
   ]
  },
  {
   "cell_type": "code",
   "execution_count": null,
   "id": "3ba82996",
   "metadata": {},
   "outputs": [],
   "source": [
    "Laptop_Name = []\n",
    "for i in Laptop_urls:\n",
    "    driver.get(i)\n",
    "    #for scrapping the number of stars\n",
    "    try:\n",
    "        for j in driver.find_elements(By.XPATH,\"//span[@class='B_NuCI']\"):\n",
    "            Laptop_Name.append(j.text)\n",
    "    except NoSuchElementException:\n",
    "            Laptop_Name.append('-')"
   ]
  },
  {
   "cell_type": "code",
   "execution_count": null,
   "id": "d1bcf073",
   "metadata": {},
   "outputs": [],
   "source": []
  },
  {
   "cell_type": "code",
   "execution_count": null,
   "id": "aee6c2bf",
   "metadata": {},
   "outputs": [],
   "source": []
  },
  {
   "cell_type": "code",
   "execution_count": null,
   "id": "31f455b5",
   "metadata": {},
   "outputs": [],
   "source": []
  },
  {
   "cell_type": "code",
   "execution_count": null,
   "id": "f0b0b716",
   "metadata": {},
   "outputs": [],
   "source": []
  },
  {
   "cell_type": "code",
   "execution_count": null,
   "id": "9466474b",
   "metadata": {},
   "outputs": [],
   "source": []
  },
  {
   "cell_type": "code",
   "execution_count": null,
   "id": "7e157617",
   "metadata": {},
   "outputs": [],
   "source": []
  },
  {
   "cell_type": "code",
   "execution_count": 83,
   "id": "924af4a2",
   "metadata": {},
   "outputs": [],
   "source": [
    "# Connect to webdriver\n",
    "driver = webdriver.Chrome(r'C:\\Users\\COTMAC\\Downloads\\chromedriver_win32\\chromedriver.exe')"
   ]
  },
  {
   "cell_type": "code",
   "execution_count": 84,
   "id": "fc561c72",
   "metadata": {},
   "outputs": [],
   "source": [
    "url = 'https://www.flipkart.com/'\n",
    "driver.get(url)"
   ]
  },
  {
   "cell_type": "code",
   "execution_count": 85,
   "id": "07aada0c",
   "metadata": {},
   "outputs": [
    {
     "data": {
      "text/plain": [
       "<selenium.webdriver.remote.webelement.WebElement (session=\"3a669dd7aaec871ca62024a4f038853b\", element=\"f265219e-1d85-492b-805d-90f532c6d1da\")>"
      ]
     },
     "execution_count": 85,
     "metadata": {},
     "output_type": "execute_result"
    }
   ],
   "source": [
    "Close=driver.find_element(By.XPATH,\"/html/body/div[2]/div/div/button\")\n",
    "Close"
   ]
  },
  {
   "cell_type": "code",
   "execution_count": 86,
   "id": "b0e6c6af",
   "metadata": {},
   "outputs": [],
   "source": [
    "Close.click()"
   ]
  },
  {
   "cell_type": "code",
   "execution_count": 87,
   "id": "cbb15202",
   "metadata": {},
   "outputs": [
    {
     "data": {
      "text/plain": [
       "<selenium.webdriver.remote.webelement.WebElement (session=\"3a669dd7aaec871ca62024a4f038853b\", element=\"418ec2ea-9a45-4e7f-a63b-8224343e0571\")>"
      ]
     },
     "execution_count": 87,
     "metadata": {},
     "output_type": "execute_result"
    }
   ],
   "source": [
    "search_name=driver.find_element(By.XPATH,\"/html/body/div[1]/div/div[1]/div[1]/div[2]/div[2]/form/div/div/input\")\n",
    "search_name"
   ]
  },
  {
   "cell_type": "code",
   "execution_count": 88,
   "id": "4681a0a8",
   "metadata": {},
   "outputs": [],
   "source": [
    "search_name.send_keys(\"Phones\")"
   ]
  },
  {
   "cell_type": "code",
   "execution_count": 89,
   "id": "230d1022",
   "metadata": {},
   "outputs": [
    {
     "data": {
      "text/plain": [
       "<selenium.webdriver.remote.webelement.WebElement (session=\"3a669dd7aaec871ca62024a4f038853b\", element=\"cc63d7ca-0442-4916-bb45-8ba94674fe94\")>"
      ]
     },
     "execution_count": 89,
     "metadata": {},
     "output_type": "execute_result"
    }
   ],
   "source": [
    "search4=driver.find_element(By.XPATH,\"/html/body/div/div/div[1]/div[1]/div[2]/div[2]/form/div/button\")\n",
    "search4"
   ]
  },
  {
   "cell_type": "code",
   "execution_count": 90,
   "id": "03141ad2",
   "metadata": {},
   "outputs": [],
   "source": [
    "search4.click()"
   ]
  },
  {
   "cell_type": "code",
   "execution_count": 92,
   "id": "31bd3337",
   "metadata": {},
   "outputs": [],
   "source": [
    "# scrape all product urls\n",
    "Phones_urls = []\n",
    "start=0\n",
    "end=1\n",
    "for page in range(start,end):#for loop for scrapping 3 page\n",
    "    url=driver.find_elements(By.XPATH,\"//a[@class='_1fQZEK']\")       #scraping urls\n",
    "    for i in url:\n",
    "        Phones_urls.append(i.get_attribute('href'))                        #appending the urls in product_urls list\n",
    "    nxt_button=driver.find_element(By.XPATH,\"//a[@class='_1LKTO3']\")     #scraping the list of buttons from the page\n",
    "    nxt_button.click()\n",
    "    time.sleep(2)"
   ]
  },
  {
   "cell_type": "code",
   "execution_count": 93,
   "id": "7e31173d",
   "metadata": {},
   "outputs": [
    {
     "data": {
      "text/plain": [
       "24"
      ]
     },
     "execution_count": 93,
     "metadata": {},
     "output_type": "execute_result"
    }
   ],
   "source": [
    "len(Phones_urls)"
   ]
  },
  {
   "cell_type": "code",
   "execution_count": 96,
   "id": "ede6c8cd",
   "metadata": {},
   "outputs": [],
   "source": [
    "# blank list variables \n",
    "Phone_review=[]\n",
    "Phone_stars=[]\n",
    "time.sleep(2)\n",
    "\n",
    "for i in Phones_urls:\n",
    "   driver.get(i)\n",
    "    #for scrapping the number of stars\n",
    "try:\n",
    "    for k in driver.find_elements(By.XPATH,\"//div[@class='t-ZTKy']/div/div\"):\n",
    "        Phone_review.append(k.text)\n",
    "except NoSuchElementException:\n",
    "        Phone_review.append('-')\n",
    "    #for scrapping the complete review\n",
    "try:\n",
    "    for l in driver.find_elements(By.XPATH,\"//div[@class='_3LWZlK _1BLPMq']\"):\n",
    "        Phone_stars.append(l.text)\n",
    "except NoSuchElementException:\n",
    "        Phone_stars.append('-')"
   ]
  },
  {
   "cell_type": "code",
   "execution_count": 98,
   "id": "a06c0061",
   "metadata": {},
   "outputs": [
    {
     "name": "stdout",
     "output_type": "stream",
     "text": [
      "10 10\n"
     ]
    }
   ],
   "source": [
    "print(len(Phone_review),len(Phone_stars))"
   ]
  },
  {
   "cell_type": "code",
   "execution_count": null,
   "id": "cb8c3e4c",
   "metadata": {},
   "outputs": [],
   "source": []
  },
  {
   "cell_type": "code",
   "execution_count": 102,
   "id": "d5ad5341",
   "metadata": {},
   "outputs": [],
   "source": [
    "Phone_review=[]\n",
    "for i in Phones_urls:\n",
    "   driver.get(i)\n",
    "    #for scrapping the number of stars\n",
    "try:\n",
    "    for k in driver.find_elements(By.XPATH,\"//div[@class='t-ZTKy']/div/div\"):\n",
    "        Phone_review.append(k.text)\n",
    "        nxt_button=driver.find_element(By.XPATH,\"//div[@class='_3UAT2v _16PBlm']\")     #scraping the list of buttons from the page\n",
    "        nxt_button.click()\n",
    "        nxt_button1=driver.find_element(By.XPATH,\"//a[@class='_1LKTO3']\")     #scraping the list of buttons from the page\n",
    "        nxt_button1.click()\n",
    "except NoSuchElementException:\n",
    "        Phone_review.append('-')"
   ]
  },
  {
   "cell_type": "code",
   "execution_count": 104,
   "id": "c2094027",
   "metadata": {},
   "outputs": [
    {
     "data": {
      "text/plain": [
       "2"
      ]
     },
     "execution_count": 104,
     "metadata": {},
     "output_type": "execute_result"
    }
   ],
   "source": [
    "len(Phone_review)"
   ]
  },
  {
   "cell_type": "code",
   "execution_count": null,
   "id": "428aea4f",
   "metadata": {},
   "outputs": [],
   "source": [
    "#I tried to extract above 20000 values but I am not able to scrap so I used one dataset from website and did the extraction method."
   ]
  },
  {
   "cell_type": "code",
   "execution_count": 5,
   "id": "3f052495",
   "metadata": {},
   "outputs": [],
   "source": [
    "import pandas as pd\n",
    "import numpy as np"
   ]
  },
  {
   "cell_type": "code",
   "execution_count": 6,
   "id": "eb738fda",
   "metadata": {},
   "outputs": [
    {
     "data": {
      "text/html": [
       "<div>\n",
       "<style scoped>\n",
       "    .dataframe tbody tr th:only-of-type {\n",
       "        vertical-align: middle;\n",
       "    }\n",
       "\n",
       "    .dataframe tbody tr th {\n",
       "        vertical-align: top;\n",
       "    }\n",
       "\n",
       "    .dataframe thead th {\n",
       "        text-align: right;\n",
       "    }\n",
       "</style>\n",
       "<table border=\"1\" class=\"dataframe\">\n",
       "  <thead>\n",
       "    <tr style=\"text-align: right;\">\n",
       "      <th></th>\n",
       "      <th>Rating</th>\n",
       "      <th>Review</th>\n",
       "    </tr>\n",
       "  </thead>\n",
       "  <tbody>\n",
       "    <tr>\n",
       "      <th>0</th>\n",
       "      <td>4</td>\n",
       "      <td>this album did it for stevie; after a decade o...</td>\n",
       "    </tr>\n",
       "    <tr>\n",
       "      <th>1</th>\n",
       "      <td>4</td>\n",
       "      <td>I bought this cd based on the video for &amp;quot;...</td>\n",
       "    </tr>\n",
       "    <tr>\n",
       "      <th>2</th>\n",
       "      <td>5</td>\n",
       "      <td>Mr. Rollins' muscular attack and powerful mid-...</td>\n",
       "    </tr>\n",
       "    <tr>\n",
       "      <th>3</th>\n",
       "      <td>5</td>\n",
       "      <td>Iggy Pop, all round mad man, extreme entertain...</td>\n",
       "    </tr>\n",
       "    <tr>\n",
       "      <th>4</th>\n",
       "      <td>5</td>\n",
       "      <td>The classic DP line-ups finest and most in-you...</td>\n",
       "    </tr>\n",
       "    <tr>\n",
       "      <th>...</th>\n",
       "      <td>...</td>\n",
       "      <td>...</td>\n",
       "    </tr>\n",
       "    <tr>\n",
       "      <th>32347</th>\n",
       "      <td>4</td>\n",
       "      <td>After hearing the singles &amp;quot;It's Been Awhi...</td>\n",
       "    </tr>\n",
       "    <tr>\n",
       "      <th>32348</th>\n",
       "      <td>5</td>\n",
       "      <td>The first time I listened to &amp;quot;Gran Turism...</td>\n",
       "    </tr>\n",
       "    <tr>\n",
       "      <th>32349</th>\n",
       "      <td>2</td>\n",
       "      <td>theres nothing wrong in making thought provoki...</td>\n",
       "    </tr>\n",
       "    <tr>\n",
       "      <th>32350</th>\n",
       "      <td>4</td>\n",
       "      <td>I generally dont listen to rap but I do feel t...</td>\n",
       "    </tr>\n",
       "    <tr>\n",
       "      <th>32351</th>\n",
       "      <td>5</td>\n",
       "      <td>A classic Neil Diamond album, and another one ...</td>\n",
       "    </tr>\n",
       "  </tbody>\n",
       "</table>\n",
       "<p>32352 rows × 2 columns</p>\n",
       "</div>"
      ],
      "text/plain": [
       "       Rating                                             Review\n",
       "0           4  this album did it for stevie; after a decade o...\n",
       "1           4  I bought this cd based on the video for &quot;...\n",
       "2           5  Mr. Rollins' muscular attack and powerful mid-...\n",
       "3           5  Iggy Pop, all round mad man, extreme entertain...\n",
       "4           5  The classic DP line-ups finest and most in-you...\n",
       "...       ...                                                ...\n",
       "32347       4  After hearing the singles &quot;It's Been Awhi...\n",
       "32348       5  The first time I listened to &quot;Gran Turism...\n",
       "32349       2  theres nothing wrong in making thought provoki...\n",
       "32350       4  I generally dont listen to rap but I do feel t...\n",
       "32351       5  A classic Neil Diamond album, and another one ...\n",
       "\n",
       "[32352 rows x 2 columns]"
      ]
     },
     "execution_count": 6,
     "metadata": {},
     "output_type": "execute_result"
    }
   ],
   "source": [
    "pd.read_csv('D:/I/02.Flip Robo Assignments/01.Flip Robo Assignments/12.Ratings Prediction Project/Amazon-Rating-Prediction-master/amazon_train.csv')"
   ]
  },
  {
   "cell_type": "code",
   "execution_count": 7,
   "id": "e34b1659",
   "metadata": {},
   "outputs": [],
   "source": [
    "train_data=pd.read_csv('D:/I/02.Flip Robo Assignments/01.Flip Robo Assignments/12.Ratings Prediction Project/Amazon-Rating-Prediction-master/amazon_train.csv')"
   ]
  },
  {
   "cell_type": "code",
   "execution_count": 8,
   "id": "bcf121ce",
   "metadata": {},
   "outputs": [
    {
     "data": {
      "text/html": [
       "<div>\n",
       "<style scoped>\n",
       "    .dataframe tbody tr th:only-of-type {\n",
       "        vertical-align: middle;\n",
       "    }\n",
       "\n",
       "    .dataframe tbody tr th {\n",
       "        vertical-align: top;\n",
       "    }\n",
       "\n",
       "    .dataframe thead th {\n",
       "        text-align: right;\n",
       "    }\n",
       "</style>\n",
       "<table border=\"1\" class=\"dataframe\">\n",
       "  <thead>\n",
       "    <tr style=\"text-align: right;\">\n",
       "      <th></th>\n",
       "      <th>Rating</th>\n",
       "      <th>Review</th>\n",
       "    </tr>\n",
       "  </thead>\n",
       "  <tbody>\n",
       "    <tr>\n",
       "      <th>0</th>\n",
       "      <td>4</td>\n",
       "      <td>this album did it for stevie; after a decade o...</td>\n",
       "    </tr>\n",
       "    <tr>\n",
       "      <th>1</th>\n",
       "      <td>4</td>\n",
       "      <td>I bought this cd based on the video for &amp;quot;...</td>\n",
       "    </tr>\n",
       "    <tr>\n",
       "      <th>2</th>\n",
       "      <td>5</td>\n",
       "      <td>Mr. Rollins' muscular attack and powerful mid-...</td>\n",
       "    </tr>\n",
       "    <tr>\n",
       "      <th>3</th>\n",
       "      <td>5</td>\n",
       "      <td>Iggy Pop, all round mad man, extreme entertain...</td>\n",
       "    </tr>\n",
       "    <tr>\n",
       "      <th>4</th>\n",
       "      <td>5</td>\n",
       "      <td>The classic DP line-ups finest and most in-you...</td>\n",
       "    </tr>\n",
       "    <tr>\n",
       "      <th>...</th>\n",
       "      <td>...</td>\n",
       "      <td>...</td>\n",
       "    </tr>\n",
       "    <tr>\n",
       "      <th>32347</th>\n",
       "      <td>4</td>\n",
       "      <td>After hearing the singles &amp;quot;It's Been Awhi...</td>\n",
       "    </tr>\n",
       "    <tr>\n",
       "      <th>32348</th>\n",
       "      <td>5</td>\n",
       "      <td>The first time I listened to &amp;quot;Gran Turism...</td>\n",
       "    </tr>\n",
       "    <tr>\n",
       "      <th>32349</th>\n",
       "      <td>2</td>\n",
       "      <td>theres nothing wrong in making thought provoki...</td>\n",
       "    </tr>\n",
       "    <tr>\n",
       "      <th>32350</th>\n",
       "      <td>4</td>\n",
       "      <td>I generally dont listen to rap but I do feel t...</td>\n",
       "    </tr>\n",
       "    <tr>\n",
       "      <th>32351</th>\n",
       "      <td>5</td>\n",
       "      <td>A classic Neil Diamond album, and another one ...</td>\n",
       "    </tr>\n",
       "  </tbody>\n",
       "</table>\n",
       "<p>32352 rows × 2 columns</p>\n",
       "</div>"
      ],
      "text/plain": [
       "       Rating                                             Review\n",
       "0           4  this album did it for stevie; after a decade o...\n",
       "1           4  I bought this cd based on the video for &quot;...\n",
       "2           5  Mr. Rollins' muscular attack and powerful mid-...\n",
       "3           5  Iggy Pop, all round mad man, extreme entertain...\n",
       "4           5  The classic DP line-ups finest and most in-you...\n",
       "...       ...                                                ...\n",
       "32347       4  After hearing the singles &quot;It's Been Awhi...\n",
       "32348       5  The first time I listened to &quot;Gran Turism...\n",
       "32349       2  theres nothing wrong in making thought provoki...\n",
       "32350       4  I generally dont listen to rap but I do feel t...\n",
       "32351       5  A classic Neil Diamond album, and another one ...\n",
       "\n",
       "[32352 rows x 2 columns]"
      ]
     },
     "execution_count": 8,
     "metadata": {},
     "output_type": "execute_result"
    }
   ],
   "source": [
    "train_data"
   ]
  },
  {
   "cell_type": "code",
   "execution_count": 9,
   "id": "4ac238b5",
   "metadata": {},
   "outputs": [
    {
     "data": {
      "text/html": [
       "<div>\n",
       "<style scoped>\n",
       "    .dataframe tbody tr th:only-of-type {\n",
       "        vertical-align: middle;\n",
       "    }\n",
       "\n",
       "    .dataframe tbody tr th {\n",
       "        vertical-align: top;\n",
       "    }\n",
       "\n",
       "    .dataframe thead th {\n",
       "        text-align: right;\n",
       "    }\n",
       "</style>\n",
       "<table border=\"1\" class=\"dataframe\">\n",
       "  <thead>\n",
       "    <tr style=\"text-align: right;\">\n",
       "      <th></th>\n",
       "      <th>Rating</th>\n",
       "      <th>Review</th>\n",
       "    </tr>\n",
       "  </thead>\n",
       "  <tbody>\n",
       "    <tr>\n",
       "      <th>0</th>\n",
       "      <td>4</td>\n",
       "      <td>this album did it for stevie; after a decade o...</td>\n",
       "    </tr>\n",
       "    <tr>\n",
       "      <th>1</th>\n",
       "      <td>4</td>\n",
       "      <td>I bought this cd based on the video for &amp;quot;...</td>\n",
       "    </tr>\n",
       "    <tr>\n",
       "      <th>2</th>\n",
       "      <td>5</td>\n",
       "      <td>Mr. Rollins' muscular attack and powerful mid-...</td>\n",
       "    </tr>\n",
       "    <tr>\n",
       "      <th>3</th>\n",
       "      <td>5</td>\n",
       "      <td>Iggy Pop, all round mad man, extreme entertain...</td>\n",
       "    </tr>\n",
       "    <tr>\n",
       "      <th>4</th>\n",
       "      <td>5</td>\n",
       "      <td>The classic DP line-ups finest and most in-you...</td>\n",
       "    </tr>\n",
       "  </tbody>\n",
       "</table>\n",
       "</div>"
      ],
      "text/plain": [
       "   Rating                                             Review\n",
       "0       4  this album did it for stevie; after a decade o...\n",
       "1       4  I bought this cd based on the video for &quot;...\n",
       "2       5  Mr. Rollins' muscular attack and powerful mid-...\n",
       "3       5  Iggy Pop, all round mad man, extreme entertain...\n",
       "4       5  The classic DP line-ups finest and most in-you..."
      ]
     },
     "execution_count": 9,
     "metadata": {},
     "output_type": "execute_result"
    }
   ],
   "source": [
    "train_data.head()"
   ]
  },
  {
   "cell_type": "code",
   "execution_count": 10,
   "id": "f405ae5f",
   "metadata": {},
   "outputs": [
    {
     "data": {
      "text/plain": [
       "(32352, 2)"
      ]
     },
     "execution_count": 10,
     "metadata": {},
     "output_type": "execute_result"
    }
   ],
   "source": [
    "train_data.shape"
   ]
  },
  {
   "cell_type": "code",
   "execution_count": 11,
   "id": "0a71d5f7",
   "metadata": {},
   "outputs": [
    {
     "data": {
      "text/plain": [
       "1"
      ]
     },
     "execution_count": 11,
     "metadata": {},
     "output_type": "execute_result"
    }
   ],
   "source": [
    "#3.Data Cleaning\n",
    "train_data.duplicated().sum()"
   ]
  },
  {
   "cell_type": "code",
   "execution_count": 12,
   "id": "de9bb764",
   "metadata": {},
   "outputs": [],
   "source": [
    "#3.1 Dropping duplicates rows \n",
    "train_data.drop_duplicates(inplace=True)"
   ]
  },
  {
   "cell_type": "code",
   "execution_count": 13,
   "id": "9140c2e9",
   "metadata": {},
   "outputs": [
    {
     "data": {
      "text/plain": [
       "0"
      ]
     },
     "execution_count": 13,
     "metadata": {},
     "output_type": "execute_result"
    }
   ],
   "source": [
    "train_data.duplicated().sum()"
   ]
  },
  {
   "cell_type": "code",
   "execution_count": 14,
   "id": "17e02326",
   "metadata": {},
   "outputs": [],
   "source": [
    "#3.2 Checking the missing values"
   ]
  },
  {
   "cell_type": "code",
   "execution_count": 15,
   "id": "92924ee0",
   "metadata": {},
   "outputs": [
    {
     "data": {
      "text/plain": [
       "Rating    0\n",
       "Review    1\n",
       "dtype: int64"
      ]
     },
     "execution_count": 15,
     "metadata": {},
     "output_type": "execute_result"
    }
   ],
   "source": [
    "train_data.isnull().sum()"
   ]
  },
  {
   "cell_type": "code",
   "execution_count": 16,
   "id": "174c22a9",
   "metadata": {},
   "outputs": [
    {
     "data": {
      "text/plain": [
       "Rating    0.000000\n",
       "Review    0.003091\n",
       "dtype: float64"
      ]
     },
     "execution_count": 16,
     "metadata": {},
     "output_type": "execute_result"
    }
   ],
   "source": [
    "train_data.isnull().sum()*100/train_data.shape[0]"
   ]
  },
  {
   "cell_type": "code",
   "execution_count": 17,
   "id": "b7a205d9",
   "metadata": {},
   "outputs": [],
   "source": [
    "train_data['Review'].fillna(' ',inplace=True)"
   ]
  },
  {
   "cell_type": "code",
   "execution_count": 18,
   "id": "4d327b3b",
   "metadata": {},
   "outputs": [
    {
     "data": {
      "text/plain": [
       "Rating    0\n",
       "Review    0\n",
       "dtype: int64"
      ]
     },
     "execution_count": 18,
     "metadata": {},
     "output_type": "execute_result"
    }
   ],
   "source": [
    "train_data.isnull().sum()"
   ]
  },
  {
   "cell_type": "code",
   "execution_count": 19,
   "id": "865d6e08",
   "metadata": {},
   "outputs": [],
   "source": [
    "#4.Data Prpcessing"
   ]
  },
  {
   "cell_type": "code",
   "execution_count": 20,
   "id": "bd1c28dc",
   "metadata": {},
   "outputs": [],
   "source": [
    "# epanding English contraction: https://stackoverflow.com/a/47091490/4084039\n",
    "import re\n",
    "\n",
    "def decontracted(phrase):\n",
    "    #specific\n",
    "    #phrase = re.sub(r\"\",\"\",phrase)\n",
    "    phrase = re.sub(r\"”\",'\"',phrase)\n",
    "    #phrase = re.sub(r\"'\",\"\",phrase)\n",
    "    phrase = re.sub(r\"won't\",\"will not\",phrase)\n",
    "    phrase = re.sub(r\"can\\'t\",\"can not\",phrase)\n",
    "    \n",
    "    #general\n",
    "    phrase = re.sub(r\"n\\'t\",\" not\",phrase)\n",
    "    phrase = re.sub(r\"\\'re\",\" are\",phrase)\n",
    "    phrase = re.sub(r\"\\'s\",\"s\",phrase)\n",
    "    phrase = re.sub(r\"\\'d\",\" would\",phrase)\n",
    "    phrase = re.sub(r\"\\'ll\",\" will\",phrase)\n",
    "    phrase = re.sub(r\"\\'t\",\" not\",phrase)\n",
    "    phrase = re.sub(r\"\\'ve\",\" have\",phrase)\n",
    "    phrase = re.sub(r\"\\'m\",\" am\",phrase)\n",
    "    return phrase"
   ]
  },
  {
   "cell_type": "code",
   "execution_count": 21,
   "id": "b84ef9ce",
   "metadata": {},
   "outputs": [
    {
     "data": {
      "text/plain": [
       "5    17789\n",
       "4     8268\n",
       "3     3394\n",
       "2     1505\n",
       "1     1395\n",
       "Name: Rating, dtype: int64"
      ]
     },
     "execution_count": 21,
     "metadata": {},
     "output_type": "execute_result"
    }
   ],
   "source": [
    "train_data['Rating'].value_counts()"
   ]
  },
  {
   "cell_type": "code",
   "execution_count": 22,
   "id": "52b3d4ce",
   "metadata": {},
   "outputs": [],
   "source": [
    "import nltk\n",
    "from nltk.corpus import stopwords\n",
    "from nltk.stem import WordNetLemmatizer"
   ]
  },
  {
   "cell_type": "code",
   "execution_count": 23,
   "id": "8324dc9a",
   "metadata": {},
   "outputs": [
    {
     "name": "stderr",
     "output_type": "stream",
     "text": [
      "[nltk_data] Downloading package stopwords to\n",
      "[nltk_data]     C:\\Users\\COTMAC\\AppData\\Roaming\\nltk_data...\n",
      "[nltk_data]   Package stopwords is already up-to-date!\n"
     ]
    },
    {
     "data": {
      "text/plain": [
       "True"
      ]
     },
     "execution_count": 23,
     "metadata": {},
     "output_type": "execute_result"
    }
   ],
   "source": [
    "nltk.download('stopwords')"
   ]
  },
  {
   "cell_type": "code",
   "execution_count": 24,
   "id": "bccb3f4b",
   "metadata": {},
   "outputs": [
    {
     "name": "stderr",
     "output_type": "stream",
     "text": [
      "[nltk_data] Downloading package punkt to\n",
      "[nltk_data]     C:\\Users\\COTMAC\\AppData\\Roaming\\nltk_data...\n",
      "[nltk_data]   Package punkt is already up-to-date!\n"
     ]
    },
    {
     "data": {
      "text/plain": [
       "True"
      ]
     },
     "execution_count": 24,
     "metadata": {},
     "output_type": "execute_result"
    }
   ],
   "source": [
    "nltk.download('punkt')"
   ]
  },
  {
   "cell_type": "code",
   "execution_count": 25,
   "id": "a90b2c93",
   "metadata": {},
   "outputs": [],
   "source": [
    "stop_words=stopwords.words('english')"
   ]
  },
  {
   "cell_type": "code",
   "execution_count": 26,
   "id": "5ebaa87c",
   "metadata": {},
   "outputs": [],
   "source": [
    "lemmatizer = WordNetLemmatizer()"
   ]
  },
  {
   "cell_type": "code",
   "execution_count": 27,
   "id": "52831893",
   "metadata": {},
   "outputs": [],
   "source": [
    "from tqdm import tqdm\n",
    "preprocessed_Review = []"
   ]
  },
  {
   "cell_type": "code",
   "execution_count": 28,
   "id": "531cbba6",
   "metadata": {},
   "outputs": [
    {
     "name": "stderr",
     "output_type": "stream",
     "text": [
      "100%|██████████| 32351/32351 [00:46<00:00, 698.10it/s]\n"
     ]
    }
   ],
   "source": [
    "#tqdm is for printing the status bar\n",
    "for sentance in tqdm(train_data['Review'].values):\n",
    "    sent = decontracted(sentance)\n",
    "    sent = re.sub(r'https?:\\/\\/.*[\\r\\n]*','', sent) #remove hyperlinks\n",
    "    sent = re.sub('A-Za-z]+', ' ', sent) #remove special character, numbers: https://stackoverflow.com/a/5943547/4084039\n",
    "    sent = ' '.join( e for e in sent.split() if e not in stop_words) # removing stop words\n",
    "    sent = ' '.join(lemmatizer.lemmatize(e) for e in sent.split()) #Lemmatization\n",
    "    preprocessed_Review.append(sent.lower().strip())"
   ]
  },
  {
   "cell_type": "code",
   "execution_count": 29,
   "id": "658e0236",
   "metadata": {},
   "outputs": [],
   "source": [
    "train_data['Review']=preprocessed_Review"
   ]
  },
  {
   "cell_type": "code",
   "execution_count": 30,
   "id": "36d2f703",
   "metadata": {},
   "outputs": [],
   "source": [
    "#splitting data into train, cv, test"
   ]
  },
  {
   "cell_type": "code",
   "execution_count": 31,
   "id": "effb2492",
   "metadata": {},
   "outputs": [],
   "source": [
    "from sklearn.model_selection import train_test_split"
   ]
  },
  {
   "cell_type": "code",
   "execution_count": 32,
   "id": "6bc75692",
   "metadata": {},
   "outputs": [],
   "source": [
    "#x ==> independant features\n",
    "#y ==> target"
   ]
  },
  {
   "cell_type": "code",
   "execution_count": null,
   "id": "cf6529b3",
   "metadata": {},
   "outputs": [],
   "source": []
  },
  {
   "cell_type": "code",
   "execution_count": 33,
   "id": "005a5d21",
   "metadata": {},
   "outputs": [],
   "source": [
    "x = train_data.drop(columns ={'Rating'})\n",
    "output=train_data['Rating']"
   ]
  },
  {
   "cell_type": "code",
   "execution_count": 34,
   "id": "ca5a3266",
   "metadata": {},
   "outputs": [],
   "source": [
    "train,test,train_output,test_output = train_test_split(x,\n",
    "                                                       output,\n",
    "                                                       test_size=0.3,\n",
    "                                                       stratify = output,\n",
    "                                                       random_state=0)\n",
    "\n",
    "train_modified,cv,train_output_modified,cv_output = train_test_split(train,\n",
    "                                                                     train_output,\n",
    "                                                                     test_size=0.3,\n",
    "                                                                     stratify=train_output,\n",
    "                                                                     random_state=0)"
   ]
  },
  {
   "cell_type": "code",
   "execution_count": 35,
   "id": "4038a59d",
   "metadata": {},
   "outputs": [
    {
     "data": {
      "text/plain": [
       "((22645, 1), (6794, 1), (9706, 1))"
      ]
     },
     "execution_count": 35,
     "metadata": {},
     "output_type": "execute_result"
    }
   ],
   "source": [
    "train.shape,cv.shape,test.shape"
   ]
  },
  {
   "cell_type": "code",
   "execution_count": 36,
   "id": "111a5501",
   "metadata": {},
   "outputs": [
    {
     "data": {
      "text/plain": [
       "((22645,), (6794,), (9706,))"
      ]
     },
     "execution_count": 36,
     "metadata": {},
     "output_type": "execute_result"
    }
   ],
   "source": [
    "train_output.shape,cv_output.shape,test_output.shape"
   ]
  },
  {
   "cell_type": "code",
   "execution_count": 37,
   "id": "de457312",
   "metadata": {},
   "outputs": [],
   "source": [
    "#6.Data Encoding\n",
    "#TFIDF Vectorization"
   ]
  },
  {
   "cell_type": "code",
   "execution_count": 38,
   "id": "0b07a50f",
   "metadata": {},
   "outputs": [],
   "source": [
    "from sklearn.feature_extraction.text import TfidfVectorizer"
   ]
  },
  {
   "cell_type": "code",
   "execution_count": 39,
   "id": "a9ad489b",
   "metadata": {},
   "outputs": [],
   "source": [
    "Review_tfidf_Vectorizer = TfidfVectorizer(min_df=5)"
   ]
  },
  {
   "cell_type": "code",
   "execution_count": 40,
   "id": "05288322",
   "metadata": {},
   "outputs": [],
   "source": [
    "train_Review_tfidf=Review_tfidf_Vectorizer.fit_transform(train['Review'].values)"
   ]
  },
  {
   "cell_type": "code",
   "execution_count": 41,
   "id": "0d529725",
   "metadata": {},
   "outputs": [],
   "source": [
    "cv_Review_tfidf=Review_tfidf_Vectorizer.transform(cv['Review'].values)\n",
    "test_Review_tfidf=Review_tfidf_Vectorizer.transform(test['Review'].values)"
   ]
  },
  {
   "cell_type": "code",
   "execution_count": 42,
   "id": "7205d3b0",
   "metadata": {},
   "outputs": [],
   "source": [
    "#solving tfidf vectorizer\n",
    "import pickle\n",
    "with open(\"Review_tfidf_Vectorizer.pickle\",\"wb\") as fp:\n",
    "    pickle.dump(Review_tfidf_Vectorizer,fp,protocol=pickle.HIGHEST_PROTOCOL)"
   ]
  },
  {
   "cell_type": "code",
   "execution_count": 43,
   "id": "7761724f",
   "metadata": {},
   "outputs": [
    {
     "data": {
      "text/plain": [
       "['00', '000', '00s', '01', '02', '03', '0304', '04', '05', '06']"
      ]
     },
     "execution_count": 43,
     "metadata": {},
     "output_type": "execute_result"
    }
   ],
   "source": [
    "Review_tfidf_Vectorizer.get_feature_names()[:10]"
   ]
  },
  {
   "cell_type": "code",
   "execution_count": 44,
   "id": "30850731",
   "metadata": {},
   "outputs": [],
   "source": [
    "# TFIDF and Linear SVM"
   ]
  },
  {
   "cell_type": "code",
   "execution_count": 45,
   "id": "eaa8b357",
   "metadata": {},
   "outputs": [],
   "source": [
    "from sklearn.feature_extraction.text import TfidfVectorizer\n",
    "from sklearn.model_selection import train_test_split\n",
    "from sklearn.svm import LinearSVC\n",
    "from sklearn.metrics import classification_report"
   ]
  },
  {
   "cell_type": "code",
   "execution_count": 46,
   "id": "72e13e10",
   "metadata": {},
   "outputs": [],
   "source": [
    "tfidf = TfidfVectorizer(max_features=20000, ngram_range=(1,3), analyzer ='char')"
   ]
  },
  {
   "cell_type": "code",
   "execution_count": 47,
   "id": "c3180ec5",
   "metadata": {},
   "outputs": [],
   "source": [
    "x = tfidf.fit_transform(train_data['Review'])\n",
    "y = train_data['Rating']"
   ]
  },
  {
   "cell_type": "code",
   "execution_count": 48,
   "id": "50835666",
   "metadata": {},
   "outputs": [
    {
     "data": {
      "text/plain": [
       "((32351, 20000), (32351,))"
      ]
     },
     "execution_count": 48,
     "metadata": {},
     "output_type": "execute_result"
    }
   ],
   "source": [
    "x.shape, y.shape"
   ]
  },
  {
   "cell_type": "code",
   "execution_count": 49,
   "id": "eda7163a",
   "metadata": {},
   "outputs": [],
   "source": [
    "x_train, x_test, y_train, y_test = train_test_split(x,y,test_size = 0.2, random_state = 0)"
   ]
  },
  {
   "cell_type": "code",
   "execution_count": 50,
   "id": "0205bdc6",
   "metadata": {},
   "outputs": [
    {
     "data": {
      "text/plain": [
       "(25880, 20000)"
      ]
     },
     "execution_count": 50,
     "metadata": {},
     "output_type": "execute_result"
    }
   ],
   "source": [
    "x_train.shape"
   ]
  },
  {
   "cell_type": "code",
   "execution_count": 51,
   "id": "e7df51fe",
   "metadata": {},
   "outputs": [
    {
     "name": "stderr",
     "output_type": "stream",
     "text": [
      "C:\\ProgramData\\Anaconda3\\lib\\site-packages\\sklearn\\svm\\_base.py:985: ConvergenceWarning: Liblinear failed to converge, increase the number of iterations.\n",
      "  warnings.warn(\"Liblinear failed to converge, increase \"\n"
     ]
    },
    {
     "data": {
      "text/plain": [
       "LinearSVC(C=10, class_weight='balanced')"
      ]
     },
     "execution_count": 51,
     "metadata": {},
     "output_type": "execute_result"
    }
   ],
   "source": [
    "clf = LinearSVC(C = 10, class_weight = 'balanced')\n",
    "clf.fit(x_train, y_train)"
   ]
  },
  {
   "cell_type": "code",
   "execution_count": 52,
   "id": "a1870edc",
   "metadata": {},
   "outputs": [],
   "source": [
    "y_pred = clf.predict(x_test)"
   ]
  },
  {
   "cell_type": "code",
   "execution_count": 53,
   "id": "297d8507",
   "metadata": {},
   "outputs": [
    {
     "name": "stdout",
     "output_type": "stream",
     "text": [
      "              precision    recall  f1-score   support\n",
      "\n",
      "           1       0.46      0.47      0.46       258\n",
      "           2       0.20      0.24      0.22       273\n",
      "           3       0.31      0.34      0.32       670\n",
      "           4       0.44      0.40      0.42      1644\n",
      "           5       0.77      0.77      0.77      3626\n",
      "\n",
      "    accuracy                           0.60      6471\n",
      "   macro avg       0.43      0.44      0.44      6471\n",
      "weighted avg       0.60      0.60      0.60      6471\n",
      "\n"
     ]
    }
   ],
   "source": [
    "print(classification_report(y_test, y_pred))"
   ]
  },
  {
   "cell_type": "code",
   "execution_count": null,
   "id": "92eca568",
   "metadata": {},
   "outputs": [],
   "source": []
  },
  {
   "cell_type": "code",
   "execution_count": 54,
   "id": "37a4b908",
   "metadata": {},
   "outputs": [
    {
     "name": "stderr",
     "output_type": "stream",
     "text": [
      "C:\\ProgramData\\Anaconda3\\lib\\site-packages\\sklearn\\svm\\_base.py:985: ConvergenceWarning: Liblinear failed to converge, increase the number of iterations.\n",
      "  warnings.warn(\"Liblinear failed to converge, increase \"\n"
     ]
    },
    {
     "data": {
      "text/plain": [
       "LinearSVC(C=20, class_weight='balanced')"
      ]
     },
     "execution_count": 54,
     "metadata": {},
     "output_type": "execute_result"
    }
   ],
   "source": [
    "clf = LinearSVC(C = 20, class_weight = 'balanced')\n",
    "clf.fit(x_train, y_train)"
   ]
  },
  {
   "cell_type": "code",
   "execution_count": 55,
   "id": "6ca7395a",
   "metadata": {},
   "outputs": [],
   "source": [
    "y_pred = clf.predict(x_test)"
   ]
  },
  {
   "cell_type": "code",
   "execution_count": 56,
   "id": "9028e129",
   "metadata": {},
   "outputs": [
    {
     "name": "stdout",
     "output_type": "stream",
     "text": [
      "              precision    recall  f1-score   support\n",
      "\n",
      "           1       0.45      0.44      0.45       258\n",
      "           2       0.20      0.23      0.22       273\n",
      "           3       0.30      0.34      0.32       670\n",
      "           4       0.43      0.41      0.42      1644\n",
      "           5       0.76      0.75      0.76      3626\n",
      "\n",
      "    accuracy                           0.59      6471\n",
      "   macro avg       0.43      0.43      0.43      6471\n",
      "weighted avg       0.59      0.59      0.59      6471\n",
      "\n"
     ]
    }
   ],
   "source": [
    "print(classification_report(y_test, y_pred))"
   ]
  },
  {
   "cell_type": "code",
   "execution_count": null,
   "id": "b2609121",
   "metadata": {},
   "outputs": [],
   "source": []
  },
  {
   "cell_type": "code",
   "execution_count": 57,
   "id": "c371dd14",
   "metadata": {},
   "outputs": [],
   "source": [
    "tfidf = TfidfVectorizer(max_features=20000, ngram_range=(1,5), analyzer ='char')"
   ]
  },
  {
   "cell_type": "code",
   "execution_count": 58,
   "id": "7fc1ab4a",
   "metadata": {},
   "outputs": [],
   "source": [
    "x = tfidf.fit_transform(train_data['Review'])\n",
    "y = train_data['Rating']"
   ]
  },
  {
   "cell_type": "code",
   "execution_count": 59,
   "id": "37b97cb8",
   "metadata": {},
   "outputs": [
    {
     "data": {
      "text/plain": [
       "((32351, 20000), (32351,))"
      ]
     },
     "execution_count": 59,
     "metadata": {},
     "output_type": "execute_result"
    }
   ],
   "source": [
    "x.shape, y.shape"
   ]
  },
  {
   "cell_type": "code",
   "execution_count": 60,
   "id": "63149f7f",
   "metadata": {},
   "outputs": [],
   "source": [
    "x_train, x_test, y_train, y_test = train_test_split(x,y,test_size = 0.2, random_state = 0)"
   ]
  },
  {
   "cell_type": "code",
   "execution_count": 61,
   "id": "5b804bb1",
   "metadata": {},
   "outputs": [
    {
     "data": {
      "text/plain": [
       "(25880, 20000)"
      ]
     },
     "execution_count": 61,
     "metadata": {},
     "output_type": "execute_result"
    }
   ],
   "source": [
    "x_train.shape"
   ]
  },
  {
   "cell_type": "code",
   "execution_count": 62,
   "id": "403d609d",
   "metadata": {},
   "outputs": [
    {
     "name": "stderr",
     "output_type": "stream",
     "text": [
      "C:\\ProgramData\\Anaconda3\\lib\\site-packages\\sklearn\\svm\\_base.py:985: ConvergenceWarning: Liblinear failed to converge, increase the number of iterations.\n",
      "  warnings.warn(\"Liblinear failed to converge, increase \"\n"
     ]
    },
    {
     "data": {
      "text/plain": [
       "LinearSVC(C=20, class_weight='balanced')"
      ]
     },
     "execution_count": 62,
     "metadata": {},
     "output_type": "execute_result"
    }
   ],
   "source": [
    "clf = LinearSVC(C = 20, class_weight = 'balanced')\n",
    "clf.fit(x_train, y_train)"
   ]
  },
  {
   "cell_type": "code",
   "execution_count": 63,
   "id": "a43186c6",
   "metadata": {},
   "outputs": [],
   "source": [
    "y_pred = clf.predict(x_test)"
   ]
  },
  {
   "cell_type": "code",
   "execution_count": 64,
   "id": "695af87d",
   "metadata": {},
   "outputs": [
    {
     "name": "stdout",
     "output_type": "stream",
     "text": [
      "              precision    recall  f1-score   support\n",
      "\n",
      "           1       0.46      0.41      0.43       258\n",
      "           2       0.21      0.22      0.21       273\n",
      "           3       0.30      0.33      0.31       670\n",
      "           4       0.41      0.41      0.41      1644\n",
      "           5       0.76      0.75      0.76      3626\n",
      "\n",
      "    accuracy                           0.59      6471\n",
      "   macro avg       0.43      0.42      0.43      6471\n",
      "weighted avg       0.59      0.59      0.59      6471\n",
      "\n"
     ]
    }
   ],
   "source": [
    "print(classification_report(y_test, y_pred))"
   ]
  },
  {
   "cell_type": "code",
   "execution_count": 65,
   "id": "0a3413c3",
   "metadata": {},
   "outputs": [],
   "source": [
    "from sklearn.naive_bayes import MultinomialNB\n",
    "from sklearn.model_selection import train_test_split\n",
    "from sklearn.metrics import accuracy_score, confusion_matrix, classification_report,roc_curve,roc_auc_score,auc\n",
    "from sklearn.model_selection import train_test_split\n",
    "from sklearn.metrics import accuracy_score,classification_report,confusion_matrix,f1_score\n",
    "from sklearn.linear_model import LogisticRegression\n",
    "from sklearn.model_selection import cross_val_score,GridSearchCV\n",
    "from sklearn.naive_bayes import MultinomialNB\n",
    "from sklearn.tree import DecisionTreeClassifier\n",
    "from sklearn.neighbors import KNeighborsClassifier\n",
    "from sklearn.ensemble import RandomForestClassifier,AdaBoostClassifier,GradientBoostingClassifier\n",
    "from sklearn.naive_bayes import GaussianNB\n",
    "from sklearn.linear_model import LogisticRegression\n",
    "from sklearn.svm import SVC\n",
    "from sklearn.tree import DecisionTreeClassifier"
   ]
  },
  {
   "cell_type": "code",
   "execution_count": 66,
   "id": "f9e59a6d",
   "metadata": {},
   "outputs": [
    {
     "name": "stdout",
     "output_type": "stream",
     "text": [
      "Training accuracy is 0.6880216383307574\n",
      "Test accuracy is 0.6309689383402874\n",
      "[[  83    8   28   35  104]\n",
      " [  23   12   48   92   98]\n",
      " [   4    4   87  302  273]\n",
      " [   7    0   27  566 1044]\n",
      " [  10    4   23  254 3335]]\n",
      "              precision    recall  f1-score   support\n",
      "\n",
      "           1       0.65      0.32      0.43       258\n",
      "           2       0.43      0.04      0.08       273\n",
      "           3       0.41      0.13      0.20       670\n",
      "           4       0.45      0.34      0.39      1644\n",
      "           5       0.69      0.92      0.79      3626\n",
      "\n",
      "    accuracy                           0.63      6471\n",
      "   macro avg       0.53      0.35      0.38      6471\n",
      "weighted avg       0.59      0.63      0.58      6471\n",
      "\n"
     ]
    }
   ],
   "source": [
    "# LogisticRegression\n",
    "LG = LogisticRegression(C=1, max_iter = 3000)\n",
    "\n",
    "LG.fit(x_train, y_train)\n",
    "\n",
    "y_pred_train = LG.predict(x_train)\n",
    "print('Training accuracy is {}'.format(accuracy_score(y_train, y_pred_train)))\n",
    "y_pred_test = LG.predict(x_test)\n",
    "print('Test accuracy is {}'.format(accuracy_score(y_test,y_pred_test)))\n",
    "print(confusion_matrix(y_test,y_pred_test))\n",
    "print(classification_report(y_test,y_pred_test))"
   ]
  },
  {
   "cell_type": "code",
   "execution_count": 92,
   "id": "309ed1d1",
   "metadata": {},
   "outputs": [
    {
     "name": "stdout",
     "output_type": "stream",
     "text": [
      "Training accuracy is 1.0\n",
      "Test accuracy is 0.4517076186060887\n",
      "[[  39   20   26   53  120]\n",
      " [  28   23   52   75   95]\n",
      " [  35   48   99  195  293]\n",
      " [  72   85  171  478  838]\n",
      " [  96  121  285  840 2284]]\n",
      "              precision    recall  f1-score   support\n",
      "\n",
      "           1       0.14      0.15      0.15       258\n",
      "           2       0.08      0.08      0.08       273\n",
      "           3       0.16      0.15      0.15       670\n",
      "           4       0.29      0.29      0.29      1644\n",
      "           5       0.63      0.63      0.63      3626\n",
      "\n",
      "    accuracy                           0.45      6471\n",
      "   macro avg       0.26      0.26      0.26      6471\n",
      "weighted avg       0.45      0.45      0.45      6471\n",
      "\n"
     ]
    }
   ],
   "source": [
    "# DecisionTreeClassifier\n",
    "DT = DecisionTreeClassifier()\n",
    "\n",
    "DT.fit(x_train, y_train)\n",
    "y_pred_train = DT.predict(x_train)\n",
    "print('Training accuracy is {}'.format(accuracy_score(y_train, y_pred_train)))\n",
    "y_pred_test = DT.predict(x_test)\n",
    "print('Test accuracy is {}'.format(accuracy_score(y_test,y_pred_test)))\n",
    "print(confusion_matrix(y_test,y_pred_test))\n",
    "print(classification_report(y_test,y_pred_test))"
   ]
  },
  {
   "cell_type": "code",
   "execution_count": 93,
   "id": "ad316528",
   "metadata": {},
   "outputs": [
    {
     "name": "stdout",
     "output_type": "stream",
     "text": [
      "Training accuracy is 1.0\n",
      "Test accuracy is 0.5812084685520013\n",
      "[[  16    0    1   27  214]\n",
      " [   2    0    1   36  234]\n",
      " [   1    0    5  117  547]\n",
      " [   1    0    0  185 1458]\n",
      " [   0    0    0   71 3555]]\n",
      "              precision    recall  f1-score   support\n",
      "\n",
      "           1       0.80      0.06      0.12       258\n",
      "           2       0.00      0.00      0.00       273\n",
      "           3       0.71      0.01      0.01       670\n",
      "           4       0.42      0.11      0.18      1644\n",
      "           5       0.59      0.98      0.74      3626\n",
      "\n",
      "    accuracy                           0.58      6471\n",
      "   macro avg       0.51      0.23      0.21      6471\n",
      "weighted avg       0.55      0.58      0.46      6471\n",
      "\n"
     ]
    },
    {
     "name": "stderr",
     "output_type": "stream",
     "text": [
      "C:\\ProgramData\\Anaconda3\\lib\\site-packages\\sklearn\\metrics\\_classification.py:1248: UndefinedMetricWarning: Precision and F-score are ill-defined and being set to 0.0 in labels with no predicted samples. Use `zero_division` parameter to control this behavior.\n",
      "  _warn_prf(average, modifier, msg_start, len(result))\n",
      "C:\\ProgramData\\Anaconda3\\lib\\site-packages\\sklearn\\metrics\\_classification.py:1248: UndefinedMetricWarning: Precision and F-score are ill-defined and being set to 0.0 in labels with no predicted samples. Use `zero_division` parameter to control this behavior.\n",
      "  _warn_prf(average, modifier, msg_start, len(result))\n",
      "C:\\ProgramData\\Anaconda3\\lib\\site-packages\\sklearn\\metrics\\_classification.py:1248: UndefinedMetricWarning: Precision and F-score are ill-defined and being set to 0.0 in labels with no predicted samples. Use `zero_division` parameter to control this behavior.\n",
      "  _warn_prf(average, modifier, msg_start, len(result))\n"
     ]
    }
   ],
   "source": [
    "#RandomForestClassifier\n",
    "RF = RandomForestClassifier()\n",
    "\n",
    "RF.fit(x_train, y_train)\n",
    "y_pred_train = RF.predict(x_train)\n",
    "print('Training accuracy is {}'.format(accuracy_score(y_train, y_pred_train)))\n",
    "y_pred_test = RF.predict(x_test)\n",
    "print('Test accuracy is {}'.format(accuracy_score(y_test,y_pred_test)))\n",
    "print(confusion_matrix(y_test,y_pred_test))\n",
    "print(classification_report(y_test,y_pred_test))"
   ]
  },
  {
   "cell_type": "code",
   "execution_count": null,
   "id": "e351eb34",
   "metadata": {},
   "outputs": [],
   "source": []
  },
  {
   "cell_type": "code",
   "execution_count": 95,
   "id": "747c87e1",
   "metadata": {},
   "outputs": [
    {
     "name": "stdout",
     "output_type": "stream",
     "text": [
      "Training accuracy is 0.5971020092735704\n",
      "Test accuracy is 0.5914078195023953\n",
      "[[  96   33   17   20   92]\n",
      " [  31   28   59   44  111]\n",
      " [  20   35  100  179  336]\n",
      " [  23   26   90  401 1104]\n",
      " [  49   18   45  312 3202]]\n",
      "              precision    recall  f1-score   support\n",
      "\n",
      "           1       0.44      0.37      0.40       258\n",
      "           2       0.20      0.10      0.14       273\n",
      "           3       0.32      0.15      0.20       670\n",
      "           4       0.42      0.24      0.31      1644\n",
      "           5       0.66      0.88      0.76      3626\n",
      "\n",
      "    accuracy                           0.59      6471\n",
      "   macro avg       0.41      0.35      0.36      6471\n",
      "weighted avg       0.54      0.59      0.54      6471\n",
      "\n"
     ]
    }
   ],
   "source": [
    "#AdaBoostClassifier\n",
    "ada=AdaBoostClassifier(n_estimators=100)\n",
    "ada.fit(x_train, y_train)\n",
    "y_pred_train = ada.predict(x_train)\n",
    "print('Training accuracy is {}'.format(accuracy_score(y_train, y_pred_train)))\n",
    "y_pred_test = ada.predict(x_test)\n",
    "print('Test accuracy is {}'.format(accuracy_score(y_test,y_pred_test)))\n",
    "print(confusion_matrix(y_test,y_pred_test))\n",
    "print(classification_report(y_test,y_pred_test))"
   ]
  },
  {
   "cell_type": "code",
   "execution_count": 96,
   "id": "d38454d0",
   "metadata": {},
   "outputs": [
    {
     "name": "stdout",
     "output_type": "stream",
     "text": [
      "Training accuracy is 0.5940494590417311\n",
      "Test accuracy is 0.5509194869417401\n",
      "[[   7    4    8   47  192]\n",
      " [   0    4    8   47  214]\n",
      " [   0    2   27  117  524]\n",
      " [   0    2   43  255 1344]\n",
      " [   0    2   46  306 3272]]\n",
      "              precision    recall  f1-score   support\n",
      "\n",
      "           1       1.00      0.03      0.05       258\n",
      "           2       0.29      0.01      0.03       273\n",
      "           3       0.20      0.04      0.07       670\n",
      "           4       0.33      0.16      0.21      1644\n",
      "           5       0.59      0.90      0.71      3626\n",
      "\n",
      "    accuracy                           0.55      6471\n",
      "   macro avg       0.48      0.23      0.21      6471\n",
      "weighted avg       0.49      0.55      0.46      6471\n",
      "\n"
     ]
    }
   ],
   "source": [
    "#KNeighborsClassifier\n",
    "knn=KNeighborsClassifier(n_neighbors=9)\n",
    "knn.fit(x_train, y_train)\n",
    "y_pred_train = knn.predict(x_train)\n",
    "print('Training accuracy is {}'.format(accuracy_score(y_train, y_pred_train)))\n",
    "y_pred_test = knn.predict(x_test)\n",
    "print('Test accuracy is {}'.format(accuracy_score(y_test,y_pred_test)))\n",
    "print(confusion_matrix(y_test,y_pred_test))\n",
    "print(classification_report(y_test,y_pred_test))"
   ]
  },
  {
   "cell_type": "code",
   "execution_count": 2,
   "id": "40269ee2",
   "metadata": {},
   "outputs": [],
   "source": [
    "#As compare multiple model Logistic Regression is better accuracy 0.63."
   ]
  },
  {
   "cell_type": "code",
   "execution_count": null,
   "id": "a066990e",
   "metadata": {},
   "outputs": [],
   "source": []
  },
  {
   "cell_type": "code",
   "execution_count": 71,
   "id": "b6a222c2",
   "metadata": {},
   "outputs": [],
   "source": [
    "import pickle\n",
    "filename ='Rating_Prediction'\n",
    "pickle.dump(LG,open(filename,'wb'))"
   ]
  },
  {
   "cell_type": "code",
   "execution_count": 72,
   "id": "f53c7e0c",
   "metadata": {},
   "outputs": [],
   "source": [
    "#Conclusion"
   ]
  },
  {
   "cell_type": "code",
   "execution_count": 73,
   "id": "ed8f9d36",
   "metadata": {},
   "outputs": [
    {
     "name": "stdout",
     "output_type": "stream",
     "text": [
      "0.6309689383402874\n"
     ]
    }
   ],
   "source": [
    "loaded_model=pickle.load(open('Rating_Prediction','rb'))\n",
    "result=loaded_model.score(x_test,y_test)\n",
    "print(result)"
   ]
  },
  {
   "cell_type": "code",
   "execution_count": 74,
   "id": "e78f5877",
   "metadata": {},
   "outputs": [],
   "source": [
    "conclusion = pd.DataFrame([loaded_model.predict(x_test)[:],y_pred_test[:]],index=[\"predicted\",\"origional\"])"
   ]
  },
  {
   "cell_type": "code",
   "execution_count": 75,
   "id": "7a2ad1f0",
   "metadata": {},
   "outputs": [
    {
     "data": {
      "text/html": [
       "<div>\n",
       "<style scoped>\n",
       "    .dataframe tbody tr th:only-of-type {\n",
       "        vertical-align: middle;\n",
       "    }\n",
       "\n",
       "    .dataframe tbody tr th {\n",
       "        vertical-align: top;\n",
       "    }\n",
       "\n",
       "    .dataframe thead th {\n",
       "        text-align: right;\n",
       "    }\n",
       "</style>\n",
       "<table border=\"1\" class=\"dataframe\">\n",
       "  <thead>\n",
       "    <tr style=\"text-align: right;\">\n",
       "      <th></th>\n",
       "      <th>0</th>\n",
       "      <th>1</th>\n",
       "      <th>2</th>\n",
       "      <th>3</th>\n",
       "      <th>4</th>\n",
       "      <th>5</th>\n",
       "      <th>6</th>\n",
       "      <th>7</th>\n",
       "      <th>8</th>\n",
       "      <th>9</th>\n",
       "      <th>...</th>\n",
       "      <th>6461</th>\n",
       "      <th>6462</th>\n",
       "      <th>6463</th>\n",
       "      <th>6464</th>\n",
       "      <th>6465</th>\n",
       "      <th>6466</th>\n",
       "      <th>6467</th>\n",
       "      <th>6468</th>\n",
       "      <th>6469</th>\n",
       "      <th>6470</th>\n",
       "    </tr>\n",
       "  </thead>\n",
       "  <tbody>\n",
       "    <tr>\n",
       "      <th>predicted</th>\n",
       "      <td>5</td>\n",
       "      <td>5</td>\n",
       "      <td>5</td>\n",
       "      <td>4</td>\n",
       "      <td>4</td>\n",
       "      <td>4</td>\n",
       "      <td>5</td>\n",
       "      <td>5</td>\n",
       "      <td>5</td>\n",
       "      <td>5</td>\n",
       "      <td>...</td>\n",
       "      <td>5</td>\n",
       "      <td>5</td>\n",
       "      <td>2</td>\n",
       "      <td>5</td>\n",
       "      <td>5</td>\n",
       "      <td>4</td>\n",
       "      <td>5</td>\n",
       "      <td>5</td>\n",
       "      <td>4</td>\n",
       "      <td>4</td>\n",
       "    </tr>\n",
       "    <tr>\n",
       "      <th>origional</th>\n",
       "      <td>5</td>\n",
       "      <td>5</td>\n",
       "      <td>5</td>\n",
       "      <td>4</td>\n",
       "      <td>4</td>\n",
       "      <td>4</td>\n",
       "      <td>5</td>\n",
       "      <td>5</td>\n",
       "      <td>5</td>\n",
       "      <td>5</td>\n",
       "      <td>...</td>\n",
       "      <td>5</td>\n",
       "      <td>5</td>\n",
       "      <td>2</td>\n",
       "      <td>5</td>\n",
       "      <td>5</td>\n",
       "      <td>4</td>\n",
       "      <td>5</td>\n",
       "      <td>5</td>\n",
       "      <td>4</td>\n",
       "      <td>4</td>\n",
       "    </tr>\n",
       "  </tbody>\n",
       "</table>\n",
       "<p>2 rows × 6471 columns</p>\n",
       "</div>"
      ],
      "text/plain": [
       "           0     1     2     3     4     5     6     7     8     9     ...  \\\n",
       "predicted     5     5     5     4     4     4     5     5     5     5  ...   \n",
       "origional     5     5     5     4     4     4     5     5     5     5  ...   \n",
       "\n",
       "           6461  6462  6463  6464  6465  6466  6467  6468  6469  6470  \n",
       "predicted     5     5     2     5     5     4     5     5     4     4  \n",
       "origional     5     5     2     5     5     4     5     5     4     4  \n",
       "\n",
       "[2 rows x 6471 columns]"
      ]
     },
     "execution_count": 75,
     "metadata": {},
     "output_type": "execute_result"
    }
   ],
   "source": [
    "conclusion"
   ]
  },
  {
   "cell_type": "code",
   "execution_count": null,
   "id": "3c0e3321",
   "metadata": {},
   "outputs": [],
   "source": []
  },
  {
   "cell_type": "code",
   "execution_count": null,
   "id": "bb99f63a",
   "metadata": {},
   "outputs": [],
   "source": []
  },
  {
   "cell_type": "code",
   "execution_count": null,
   "id": "f1085cec",
   "metadata": {},
   "outputs": [],
   "source": []
  },
  {
   "cell_type": "code",
   "execution_count": null,
   "id": "0ada5754",
   "metadata": {},
   "outputs": [],
   "source": []
  },
  {
   "cell_type": "code",
   "execution_count": null,
   "id": "0f2f93d8",
   "metadata": {},
   "outputs": [],
   "source": []
  }
 ],
 "metadata": {
  "kernelspec": {
   "display_name": "Python 3 (ipykernel)",
   "language": "python",
   "name": "python3"
  },
  "language_info": {
   "codemirror_mode": {
    "name": "ipython",
    "version": 3
   },
   "file_extension": ".py",
   "mimetype": "text/x-python",
   "name": "python",
   "nbconvert_exporter": "python",
   "pygments_lexer": "ipython3",
   "version": "3.9.7"
  }
 },
 "nbformat": 4,
 "nbformat_minor": 5
}
