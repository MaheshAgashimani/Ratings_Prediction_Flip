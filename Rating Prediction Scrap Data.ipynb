{
 "cells": [
  {
   "cell_type": "code",
   "execution_count": 1,
   "id": "8e8fd9a4",
   "metadata": {},
   "outputs": [
    {
     "name": "stdout",
     "output_type": "stream",
     "text": [
      "Requirement already satisfied: selenium in c:\\programdata\\anaconda3\\lib\\site-packages (4.3.0)\n",
      "Requirement already satisfied: trio-websocket~=0.9 in c:\\programdata\\anaconda3\\lib\\site-packages (from selenium) (0.9.2)\n",
      "Requirement already satisfied: trio~=0.17 in c:\\programdata\\anaconda3\\lib\\site-packages (from selenium) (0.21.0)\n",
      "Requirement already satisfied: urllib3[secure,socks]~=1.26 in c:\\programdata\\anaconda3\\lib\\site-packages (from selenium) (1.26.7)\n",
      "Requirement already satisfied: sortedcontainers in c:\\programdata\\anaconda3\\lib\\site-packages (from trio~=0.17->selenium) (2.4.0)\n",
      "Requirement already satisfied: async-generator>=1.9 in c:\\programdata\\anaconda3\\lib\\site-packages (from trio~=0.17->selenium) (1.10)\n",
      "Requirement already satisfied: outcome in c:\\programdata\\anaconda3\\lib\\site-packages (from trio~=0.17->selenium) (1.2.0)\n",
      "Requirement already satisfied: attrs>=19.2.0 in c:\\programdata\\anaconda3\\lib\\site-packages (from trio~=0.17->selenium) (21.2.0)\n",
      "Requirement already satisfied: cffi>=1.14 in c:\\programdata\\anaconda3\\lib\\site-packages (from trio~=0.17->selenium) (1.14.6)\n",
      "Requirement already satisfied: sniffio in c:\\programdata\\anaconda3\\lib\\site-packages (from trio~=0.17->selenium) (1.2.0)\n",
      "Requirement already satisfied: idna in c:\\programdata\\anaconda3\\lib\\site-packages (from trio~=0.17->selenium) (3.2)\n",
      "Requirement already satisfied: pycparser in c:\\programdata\\anaconda3\\lib\\site-packages (from cffi>=1.14->trio~=0.17->selenium) (2.20)\n",
      "Requirement already satisfied: wsproto>=0.14 in c:\\programdata\\anaconda3\\lib\\site-packages (from trio-websocket~=0.9->selenium) (1.1.0)\n",
      "Requirement already satisfied: PySocks!=1.5.7,<2.0,>=1.5.6 in c:\\programdata\\anaconda3\\lib\\site-packages (from urllib3[secure,socks]~=1.26->selenium) (1.7.1)\n",
      "Requirement already satisfied: pyOpenSSL>=0.14 in c:\\programdata\\anaconda3\\lib\\site-packages (from urllib3[secure,socks]~=1.26->selenium) (21.0.0)"
     ]
    },
    {
     "name": "stderr",
     "output_type": "stream",
     "text": [
      "WARNING: Ignoring invalid distribution -rkupsafe (c:\\programdata\\anaconda3\\lib\\site-packages)\n",
      "WARNING: Ignoring invalid distribution - (c:\\programdata\\anaconda3\\lib\\site-packages)\n",
      "WARNING: Ignoring invalid distribution -dna (c:\\programdata\\anaconda3\\lib\\site-packages)\n",
      "WARNING: Ignoring invalid distribution -arkupsafe (c:\\programdata\\anaconda3\\lib\\site-packages)\n",
      "WARNING: Ignoring invalid distribution -rkupsafe (c:\\programdata\\anaconda3\\lib\\site-packages)\n",
      "WARNING: Ignoring invalid distribution - (c:\\programdata\\anaconda3\\lib\\site-packages)\n",
      "WARNING: Ignoring invalid distribution -dna (c:\\programdata\\anaconda3\\lib\\site-packages)\n",
      "WARNING: Ignoring invalid distribution -arkupsafe (c:\\programdata\\anaconda3\\lib\\site-packages)\n",
      "WARNING: Ignoring invalid distribution -rkupsafe (c:\\programdata\\anaconda3\\lib\\site-packages)\n",
      "WARNING: Ignoring invalid distribution - (c:\\programdata\\anaconda3\\lib\\site-packages)\n",
      "WARNING: Ignoring invalid distribution -dna (c:\\programdata\\anaconda3\\lib\\site-packages)\n",
      "WARNING: Ignoring invalid distribution -arkupsafe (c:\\programdata\\anaconda3\\lib\\site-packages)\n",
      "WARNING: Ignoring invalid distribution -rkupsafe (c:\\programdata\\anaconda3\\lib\\site-packages)\n",
      "WARNING: Ignoring invalid distribution - (c:\\programdata\\anaconda3\\lib\\site-packages)\n",
      "WARNING: Ignoring invalid distribution -dna (c:\\programdata\\anaconda3\\lib\\site-packages)\n",
      "WARNING: Ignoring invalid distribution -arkupsafe (c:\\programdata\\anaconda3\\lib\\site-packages)\n",
      "WARNING: Ignoring invalid distribution -rkupsafe (c:\\programdata\\anaconda3\\lib\\site-packages)\n",
      "WARNING: Ignoring invalid distribution - (c:\\programdata\\anaconda3\\lib\\site-packages)\n",
      "WARNING: Ignoring invalid distribution -dna (c:\\programdata\\anaconda3\\lib\\site-packages)\n",
      "WARNING: Ignoring invalid distribution -arkupsafe (c:\\programdata\\anaconda3\\lib\\site-packages)\n",
      "WARNING: Ignoring invalid distribution -rkupsafe (c:\\programdata\\anaconda3\\lib\\site-packages)\n",
      "WARNING: Ignoring invalid distribution - (c:\\programdata\\anaconda3\\lib\\site-packages)\n",
      "WARNING: Ignoring invalid distribution -dna (c:\\programdata\\anaconda3\\lib\\site-packages)\n",
      "WARNING: Ignoring invalid distribution -arkupsafe (c:\\programdata\\anaconda3\\lib\\site-packages)\n"
     ]
    },
    {
     "name": "stdout",
     "output_type": "stream",
     "text": [
      "\n",
      "Requirement already satisfied: cryptography>=1.3.4 in c:\\programdata\\anaconda3\\lib\\site-packages (from urllib3[secure,socks]~=1.26->selenium) (3.4.8)\n",
      "Requirement already satisfied: certifi in c:\\programdata\\anaconda3\\lib\\site-packages (from urllib3[secure,socks]~=1.26->selenium) (2021.10.8)\n",
      "Requirement already satisfied: six>=1.5.2 in c:\\programdata\\anaconda3\\lib\\site-packages (from pyOpenSSL>=0.14->urllib3[secure,socks]~=1.26->selenium) (1.16.0)\n",
      "Requirement already satisfied: h11<1,>=0.9.0 in c:\\programdata\\anaconda3\\lib\\site-packages (from wsproto>=0.14->trio-websocket~=0.9->selenium) (0.9.0)\n"
     ]
    }
   ],
   "source": [
    "!pip install selenium"
   ]
  },
  {
   "cell_type": "code",
   "execution_count": 2,
   "id": "9876c4d8",
   "metadata": {},
   "outputs": [],
   "source": [
    "import selenium\n",
    "import pandas as pd\n",
    "from selenium import webdriver\n",
    "import warnings\n",
    "warnings.filterwarnings('ignore')\n",
    "from selenium.webdriver.common.by import By\n",
    "import requests\n",
    "import time\n",
    "from selenium.common.exceptions import NoSuchElementException"
   ]
  },
  {
   "cell_type": "code",
   "execution_count": 3,
   "id": "67f49897",
   "metadata": {},
   "outputs": [],
   "source": [
    "driver = webdriver.Chrome(r'C:\\Users\\COTMAC\\Downloads\\chromedriver_win32\\chromedriver.exe')"
   ]
  },
  {
   "cell_type": "code",
   "execution_count": 4,
   "id": "685bd7fb",
   "metadata": {},
   "outputs": [],
   "source": [
    "driver.get(\"https://www.amazon.in/\")\n",
    "time.sleep(2)"
   ]
  },
  {
   "cell_type": "code",
   "execution_count": 5,
   "id": "8f8cdecc",
   "metadata": {},
   "outputs": [
    {
     "data": {
      "text/plain": [
       "<selenium.webdriver.remote.webelement.WebElement (session=\"5d7eab2512ad364e2a588b65a39d42b2\", element=\"2eac4a69-684a-4f1d-b71f-4092550f534e\")>"
      ]
     },
     "execution_count": 5,
     "metadata": {},
     "output_type": "execute_result"
    }
   ],
   "source": [
    "search_name=driver.find_element(By.XPATH,\"/html/body/div[1]/header/div/div[1]/div[2]/div/form/div[2]/div[1]/input\")\n",
    "search_name"
   ]
  },
  {
   "cell_type": "code",
   "execution_count": 6,
   "id": "27b7069f",
   "metadata": {},
   "outputs": [],
   "source": [
    "search_name.send_keys(\"Musical Instruments\")"
   ]
  },
  {
   "cell_type": "code",
   "execution_count": 7,
   "id": "0b989a4a",
   "metadata": {},
   "outputs": [
    {
     "data": {
      "text/plain": [
       "<selenium.webdriver.remote.webelement.WebElement (session=\"5d7eab2512ad364e2a588b65a39d42b2\", element=\"b5b5f6a3-5738-4408-94a4-57ca07fdbed4\")>"
      ]
     },
     "execution_count": 7,
     "metadata": {},
     "output_type": "execute_result"
    }
   ],
   "source": [
    "search4=driver.find_element(By.XPATH,\"/html/body/div[1]/header/div/div[1]/div[2]/div/form/div[3]/div/span/input\")\n",
    "search4"
   ]
  },
  {
   "cell_type": "code",
   "execution_count": 8,
   "id": "52c28ef2",
   "metadata": {},
   "outputs": [],
   "source": [
    "search4.click()"
   ]
  },
  {
   "cell_type": "code",
   "execution_count": 9,
   "id": "c7f97a42",
   "metadata": {},
   "outputs": [],
   "source": [
    "# scrape all product urls\n",
    "product_urls = []\n",
    "start=0\n",
    "end=1\n",
    "for page in range(start,end):#for loop for scrapping 3 page\n",
    "    url=driver.find_elements(By.XPATH,'//a[@class = \"a-link-normal s-underline-text s-underline-link-text s-link-style a-text-normal\"]')       #scraping urls\n",
    "    for i in url:\n",
    "        product_urls.append(i.get_attribute(\"href\"))                        #appending the urls in product_urls list\n",
    "    nxt_button=driver.find_element(By.XPATH,'//a[@class=\"s-pagination-item s-pagination-next s-pagination-button s-pagination-separator\"]')     #scraping the list of buttons from the page\n",
    "    nxt_button.click()\n",
    "    time.sleep(2)"
   ]
  },
  {
   "cell_type": "code",
   "execution_count": 10,
   "id": "1340510a",
   "metadata": {},
   "outputs": [
    {
     "data": {
      "text/plain": [
       "60"
      ]
     },
     "execution_count": 10,
     "metadata": {},
     "output_type": "execute_result"
    }
   ],
   "source": [
    "len(product_urls)"
   ]
  },
  {
   "cell_type": "code",
   "execution_count": 11,
   "id": "b0d2ea13",
   "metadata": {},
   "outputs": [
    {
     "data": {
      "text/plain": [
       "['https://www.amazon.in/sspa/click?ie=UTF8&spc=MTo2NDQ3MjY3MTY3MzkwNzc4OjE2NjY3MTM5NjI6c3BfYXRmOjIwMDg3MDM5Nzg5Njk4OjowOjo&sp_csd=d2lkZ2V0TmFtZT1zcF9hdGY&url=%2FAdvit-Toys-Musical-Instruments-Encouraged%2Fdp%2FB09T6Q6JPX%2Fref%3Dsr_1_1_sspa%3Fcrid%3D2J01KTC9AWL62%26keywords%3DMusical%2BInstruments%26qid%3D1666713962%26qu%3DeyJxc2MiOiI3LjkxIiwicXNhIjoiNy41MiIsInFzcCI6IjUuMDkifQ%253D%253D%26sprefix%3Dmusical%2Binstruments%252Caps%252C1267%26sr%3D8-1-spons%26psc%3D1',\n",
       " 'https://www.amazon.in/sspa/click?ie=UTF8&spc=MTo2NDQ3MjY3MTY3MzkwNzc4OjE2NjY3MTM5NjI6c3BfYXRmOjIwMDY2NjAyMjQ4Mzk4OjowOjo&sp_csd=d2lkZ2V0TmFtZT1zcF9hdGY&url=%2FvGRASSP-Xylophone-Musical-Instrument-Songbook%2Fdp%2FB0831LYSSV%2Fref%3Dsr_1_2_sspa%3Fcrid%3D2J01KTC9AWL62%26keywords%3DMusical%2BInstruments%26qid%3D1666713962%26qu%3DeyJxc2MiOiI3LjkxIiwicXNhIjoiNy41MiIsInFzcCI6IjUuMDkifQ%253D%253D%26sprefix%3Dmusical%2Binstruments%252Caps%252C1267%26sr%3D8-2-spons%26psc%3D1',\n",
       " 'https://www.amazon.in/sspa/click?ie=UTF8&spc=MTo2NDQ3MjY3MTY3MzkwNzc4OjE2NjY3MTM5NjI6c3BfYXRmOjIwMDgxOTUyNzAxMzk4OjowOjo&sp_csd=d2lkZ2V0TmFtZT1zcF9hdGY&url=%2FDrum-Keyboard-Piano-Flashing-Operated%2Fdp%2FB0B5HF6BJT%2Fref%3Dsr_1_3_sspa%3Fcrid%3D2J01KTC9AWL62%26keywords%3DMusical%2BInstruments%26qid%3D1666713962%26qu%3DeyJxc2MiOiI3LjkxIiwicXNhIjoiNy41MiIsInFzcCI6IjUuMDkifQ%253D%253D%26sprefix%3Dmusical%2Binstruments%252Caps%252C1267%26sr%3D8-3-spons%26psc%3D1',\n",
       " 'https://www.amazon.in/sspa/click?ie=UTF8&spc=MTo2NDQ3MjY3MTY3MzkwNzc4OjE2NjY3MTM5NjI6c3BfYXRmOjIwMDgxOTUyNzAyOTk4OjowOjo&sp_csd=d2lkZ2V0TmFtZT1zcF9hdGY&url=%2FZest-Toyz-Battery-Operated-Flashing%2Fdp%2FB07QKLT2M1%2Fref%3Dsr_1_4_sspa%3Fcrid%3D2J01KTC9AWL62%26keywords%3DMusical%2BInstruments%26qid%3D1666713962%26qu%3DeyJxc2MiOiI3LjkxIiwicXNhIjoiNy41MiIsInFzcCI6IjUuMDkifQ%253D%253D%26sprefix%3Dmusical%2Binstruments%252Caps%252C1267%26sr%3D8-4-spons%26psc%3D1',\n",
       " 'https://www.amazon.in/JUAREZ-NDM6-Percussion-Handmade-Instrument/dp/B08JMT251M/ref=sr_1_5?crid=2J01KTC9AWL62&keywords=Musical+Instruments&qid=1666713962&qu=eyJxc2MiOiI3LjkxIiwicXNhIjoiNy41MiIsInFzcCI6IjUuMDkifQ%3D%3D&sprefix=musical+instruments%2Caps%2C1267&sr=8-5',\n",
       " 'https://www.amazon.in/Traditional-Musical-Instruments-Manjeera-Religious/dp/B00JXKWMWW/ref=sr_1_6?crid=2J01KTC9AWL62&keywords=Musical+Instruments&qid=1666713962&qu=eyJxc2MiOiI3LjkxIiwicXNhIjoiNy41MiIsInFzcCI6IjUuMDkifQ%3D%3D&sprefix=musical+instruments%2Caps%2C1267&sr=8-6',\n",
       " 'https://www.amazon.in/Kannan-Musical-Instruments-Maracas-Silver/dp/B07588FXC7/ref=sr_1_7?crid=2J01KTC9AWL62&keywords=Musical+Instruments&qid=1666713962&qu=eyJxc2MiOiI3LjkxIiwicXNhIjoiNy41MiIsInFzcCI6IjUuMDkifQ%3D%3D&sprefix=musical+instruments%2Caps%2C1267&sr=8-7',\n",
       " 'https://www.amazon.in/DronaIndia-Tambourine-Percussion-Musical-Instrument/dp/B00W7F12K8/ref=sr_1_8?crid=2J01KTC9AWL62&keywords=Musical+Instruments&qid=1666713962&qu=eyJxc2MiOiI3LjkxIiwicXNhIjoiNy41MiIsInFzcCI6IjUuMDkifQ%3D%3D&sprefix=musical+instruments%2Caps%2C1267&sr=8-8',\n",
       " 'https://www.amazon.in/Musical-Punjabi-Traditional-Indigenous-Instrument/dp/B091D2W6GC/ref=sr_1_9?crid=2J01KTC9AWL62&keywords=Musical+Instruments&qid=1666713962&qu=eyJxc2MiOiI3LjkxIiwicXNhIjoiNy41MiIsInFzcCI6IjUuMDkifQ%3D%3D&sprefix=musical+instruments%2Caps%2C1267&sr=8-9',\n",
       " 'https://www.amazon.in/Casio-SA-46-Musical-Keyboard-Black/dp/B003KZBFIS/ref=sr_1_10?crid=2J01KTC9AWL62&keywords=Musical+Instruments&qid=1666713962&qu=eyJxc2MiOiI3LjkxIiwicXNhIjoiNy41MiIsInFzcCI6IjUuMDkifQ%3D%3D&sprefix=musical+instruments%2Caps%2C1267&sr=8-10',\n",
       " 'https://www.amazon.in/Professional-Musical-Instrument-Beginners-Students/dp/B07H39GPMN/ref=sr_1_11?crid=2J01KTC9AWL62&keywords=Musical+Instruments&qid=1666713962&qu=eyJxc2MiOiI3LjkxIiwicXNhIjoiNy41MiIsInFzcCI6IjUuMDkifQ%3D%3D&sprefix=musical+instruments%2Caps%2C1267&sr=8-11',\n",
       " 'https://www.amazon.in/JRZ10HM-Diatonic-Harmonica-Beginners-Professionals/dp/B088KRHPG5/ref=sr_1_12?crid=2J01KTC9AWL62&keywords=Musical+Instruments&qid=1666713962&qu=eyJxc2MiOiI3LjkxIiwicXNhIjoiNy41MiIsInFzcCI6IjUuMDkifQ%3D%3D&sprefix=musical+instruments%2Caps%2C1267&sr=8-12',\n",
       " 'https://www.amazon.in/Akshar-Percussion-khanjari-Musical-Instrument/dp/B07TY7HZV3/ref=sr_1_13?crid=2J01KTC9AWL62&keywords=Musical+Instruments&qid=1666713962&qu=eyJxc2MiOiI3LjkxIiwicXNhIjoiNy41MiIsInFzcCI6IjUuMDkifQ%3D%3D&sprefix=musical+instruments%2Caps%2C1267&sr=8-13',\n",
       " 'https://www.amazon.in/PARIN-MUSICAL-Musical-Instruments-MULTICOLO/dp/B0B93S62MQ/ref=sr_1_14?crid=2J01KTC9AWL62&keywords=Musical+Instruments&qid=1666713962&qu=eyJxc2MiOiI3LjkxIiwicXNhIjoiNy41MiIsInFzcCI6IjUuMDkifQ%3D%3D&sprefix=musical+instruments%2Caps%2C1267&sr=8-14',\n",
       " 'https://www.amazon.in/JUAREZ-JRK661-Electronic-Keyboard-Percussions/dp/B08GJT1WQX/ref=sr_1_15?crid=2J01KTC9AWL62&keywords=Musical+Instruments&qid=1666713962&qu=eyJxc2MiOiI3LjkxIiwicXNhIjoiNy41MiIsInFzcCI6IjUuMDkifQ%3D%3D&sprefix=musical+instruments%2Caps%2C1267&sr=8-15',\n",
       " 'https://www.amazon.in/PARIN-MUSICAL-Instrument-Decorated-MULTICOLORWW/dp/B0B93SP34M/ref=sr_1_16?crid=2J01KTC9AWL62&keywords=Musical+Instruments&qid=1666713962&qu=eyJxc2MiOiI3LjkxIiwicXNhIjoiNy41MiIsInFzcCI6IjUuMDkifQ%3D%3D&sprefix=musical+instruments%2Caps%2C1267&sr=8-16',\n",
       " 'https://www.amazon.in/MUSTANG-Aluminium-Diaphragm-Membrane-Instruments/dp/B08XZR27C9/ref=sr_1_17?crid=2J01KTC9AWL62&keywords=Musical+Instruments&qid=1666713962&qu=eyJxc2MiOiI3LjkxIiwicXNhIjoiNy41MiIsInFzcCI6IjUuMDkifQ%3D%3D&sprefix=musical+instruments%2Caps%2C1267&sr=8-17',\n",
       " 'https://www.amazon.in/Reiki-Crystal-Products-Instrument-Meditation/dp/B07L5D84ZG/ref=sr_1_18?crid=2J01KTC9AWL62&keywords=Musical+Instruments&qid=1666713962&qu=eyJxc2MiOiI3LjkxIiwicXNhIjoiNy41MiIsInFzcCI6IjUuMDkifQ%3D%3D&sprefix=musical+instruments%2Caps%2C1267&sr=8-18',\n",
       " 'https://www.amazon.in/YAMAHA-YRS24B-Yamaha-Recorder-White/dp/B000RVYV3E/ref=sr_1_19?crid=2J01KTC9AWL62&keywords=Musical+Instruments&qid=1666713962&qu=eyJxc2MiOiI3LjkxIiwicXNhIjoiNy41MiIsInFzcCI6IjUuMDkifQ%3D%3D&sprefix=musical+instruments%2Caps%2C1267&sr=8-19',\n",
       " 'https://www.amazon.in/JAPS-BIZ-Handmade-Coconut-Instrument/dp/B099Z9X53V/ref=sr_1_20?crid=2J01KTC9AWL62&keywords=Musical+Instruments&qid=1666713962&qu=eyJxc2MiOiI3LjkxIiwicXNhIjoiNy41MiIsInFzcCI6IjUuMDkifQ%3D%3D&sprefix=musical+instruments%2Caps%2C1267&sr=8-20',\n",
       " 'https://www.amazon.in/sspa/click?ie=UTF8&spc=MTo2NDQ3MjY3MTY3MzkwNzc4OjE2NjY3MTM5NjI6c3BfbXRmOjIwMDQxMzE0Nzg1NDk4OjowOjo&sp_csd=d2lkZ2V0TmFtZT1zcF9tdGY&url=%2FActivity-Multicolor-Preschool-Develops-Reasoning%2Fdp%2FB09TBB9C88%2Fref%3Dsr_1_21_sspa%3Fcrid%3D2J01KTC9AWL62%26keywords%3DMusical%2BInstruments%26qid%3D1666713962%26qu%3DeyJxc2MiOiI3LjkxIiwicXNhIjoiNy41MiIsInFzcCI6IjUuMDkifQ%253D%253D%26sprefix%3Dmusical%2Binstruments%252Caps%252C1267%26sr%3D8-21-spons%26psc%3D1',\n",
       " 'https://www.amazon.in/sspa/click?ie=UTF8&spc=MTo2NDQ3MjY3MTY3MzkwNzc4OjE2NjY3MTM5NjI6c3BfbXRmOjIwMDc4Nzc5ODY3Mzk4OjowOjo&sp_csd=d2lkZ2V0TmFtZT1zcF9tdGY&url=%2FRotating-Activity-Functions-Learning-Educational%2Fdp%2FB0B1LWPKHS%2Fref%3Dsr_1_22_sspa%3Fcrid%3D2J01KTC9AWL62%26keywords%3DMusical%2BInstruments%26qid%3D1666713962%26qu%3DeyJxc2MiOiI3LjkxIiwicXNhIjoiNy41MiIsInFzcCI6IjUuMDkifQ%253D%253D%26sprefix%3Dmusical%2Binstruments%252Caps%252C1267%26sr%3D8-22-spons%26psc%3D1',\n",
       " 'https://www.amazon.in/sspa/click?ie=UTF8&spc=MTo2NDQ3MjY3MTY3MzkwNzc4OjE2NjY3MTM5NjI6c3BfbXRmOjIwMDc4Nzk0MjU0Njk4OjowOjo&sp_csd=d2lkZ2V0TmFtZT1zcF9tdGY&url=%2FZest-Toyz-Musical-Operated-Rotating%2Fdp%2FB0BB9PLSG2%2Fref%3Dsr_1_23_sspa%3Fcrid%3D2J01KTC9AWL62%26keywords%3DMusical%2BInstruments%26qid%3D1666713962%26qu%3DeyJxc2MiOiI3LjkxIiwicXNhIjoiNy41MiIsInFzcCI6IjUuMDkifQ%253D%253D%26sprefix%3Dmusical%2Binstruments%252Caps%252C1267%26sr%3D8-23-spons%26psc%3D1',\n",
       " 'https://www.amazon.in/sspa/click?ie=UTF8&spc=MTo2NDQ3MjY3MTY3MzkwNzc4OjE2NjY3MTM5NjI6c3BfbXRmOjIwMDQxNjIxMjczMDAzOjowOjo&sp_csd=d2lkZ2V0TmFtZT1zcF9tdGY&url=%2FButterflyEduFields-Best-Gift-Kids-Girls%2Fdp%2FB08LNVDN37%2Fref%3Dsr_1_24_sspa%3Fcrid%3D2J01KTC9AWL62%26keywords%3DMusical%2BInstruments%26qid%3D1666713962%26qu%3DeyJxc2MiOiI3LjkxIiwicXNhIjoiNy41MiIsInFzcCI6IjUuMDkifQ%253D%253D%26sprefix%3Dmusical%2Binstruments%252Caps%252C1267%26sr%3D8-24-spons%26psc%3D1',\n",
       " 'https://www.amazon.in/SG-Musical-instrument-Professional-FluteSGM-F3/dp/B0BDLWP5N3/ref=sr_1_25?crid=2J01KTC9AWL62&keywords=Musical+Instruments&qid=1666713962&qu=eyJxc2MiOiI3LjkxIiwicXNhIjoiNy41MiIsInFzcCI6IjUuMDkifQ%3D%3D&sprefix=musical+instruments%2Caps%2C1267&sr=8-25',\n",
       " 'https://www.amazon.in/Vinayakart-Aluminium-Diaphragm-Membrane-Instruments/dp/B089M2YPH6/ref=sr_1_26?crid=2J01KTC9AWL62&keywords=Musical+Instruments&qid=1666713962&qu=eyJxc2MiOiI3LjkxIiwicXNhIjoiNy41MiIsInFzcCI6IjUuMDkifQ%3D%3D&sprefix=musical+instruments%2Caps%2C1267&sr=8-26',\n",
       " 'https://www.amazon.in/Trading-Instruments-Manjeera-Traditional-Instrument/dp/B06X95TYG9/ref=sr_1_27?crid=2J01KTC9AWL62&keywords=Musical+Instruments&qid=1666713962&qu=eyJxc2MiOiI3LjkxIiwicXNhIjoiNy41MiIsInFzcCI6IjUuMDkifQ%3D%3D&sprefix=musical+instruments%2Caps%2C1267&sr=8-27',\n",
       " 'https://www.amazon.in/GT-manufacturers-Musical-Instrument-Percussion/dp/B085B1935B/ref=sr_1_28?crid=2J01KTC9AWL62&keywords=Musical+Instruments&qid=1666713962&qu=eyJxc2MiOiI3LjkxIiwicXNhIjoiNy41MiIsInFzcCI6IjUuMDkifQ%3D%3D&sprefix=musical+instruments%2Caps%2C1267&sr=8-28',\n",
       " 'https://www.amazon.in/musicals-music-instrument-Dholak-multi/dp/B09L4YX4PH/ref=sr_1_29?crid=2J01KTC9AWL62&keywords=Musical+Instruments&qid=1666713962&qu=eyJxc2MiOiI3LjkxIiwicXNhIjoiNy41MiIsInFzcCI6IjUuMDkifQ%3D%3D&sprefix=musical+instruments%2Caps%2C1267&sr=8-29',\n",
       " 'https://www.amazon.in/Foxit-Musical-Acrylic-Bansuri-Natural/dp/B08RXWLWR7/ref=sr_1_30?crid=2J01KTC9AWL62&keywords=Musical+Instruments&qid=1666713962&qu=eyJxc2MiOiI3LjkxIiwicXNhIjoiNy41MiIsInFzcCI6IjUuMDkifQ%3D%3D&sprefix=musical+instruments%2Caps%2C1267&sr=8-30',\n",
       " 'https://www.amazon.in/SHAHAZ-CRAFTS-Harmonica-Colorful-Instruments/dp/B0B4KPT4LQ/ref=sr_1_31?crid=2J01KTC9AWL62&keywords=Musical+Instruments&qid=1666713962&qu=eyJxc2MiOiI3LjkxIiwicXNhIjoiNy41MiIsInFzcCI6IjUuMDkifQ%3D%3D&sprefix=musical+instruments%2Caps%2C1267&sr=8-31',\n",
       " 'https://www.amazon.in/Tijarat-Tambourine-Percussion-Musical-Instrument/dp/B07X19K79J/ref=sr_1_32?crid=2J01KTC9AWL62&keywords=Musical+Instruments&qid=1666713962&qu=eyJxc2MiOiI3LjkxIiwicXNhIjoiNy41MiIsInFzcCI6IjUuMDkifQ%3D%3D&sprefix=musical+instruments%2Caps%2C1267&sr=8-32',\n",
       " 'https://www.amazon.in/ARTIBETTER-Portable-Percussion-Beginners-Instrument/dp/B092VRX13Z/ref=sr_1_33?crid=2J01KTC9AWL62&keywords=Musical+Instruments&qid=1666713962&qu=eyJxc2MiOiI3LjkxIiwicXNhIjoiNy41MiIsInFzcCI6IjUuMDkifQ%3D%3D&sprefix=musical+instruments%2Caps%2C1267&sr=8-33',\n",
       " 'https://www.amazon.in/Rifa-Artism-Xylophone-Instrument-Multicolor/dp/B09HSGV91H/ref=sr_1_34?crid=2J01KTC9AWL62&keywords=Musical+Instruments&qid=1666713962&qu=eyJxc2MiOiI3LjkxIiwicXNhIjoiNy41MiIsInFzcCI6IjUuMDkifQ%3D%3D&sprefix=musical+instruments%2Caps%2C1267&sr=8-34',\n",
       " 'https://www.amazon.in/Foxit-Professional-Flutes-Medium-Bansuri/dp/B07V44Y48M/ref=sr_1_35?crid=2J01KTC9AWL62&keywords=Musical+Instruments&qid=1666713962&qu=eyJxc2MiOiI3LjkxIiwicXNhIjoiNy41MiIsInFzcCI6IjUuMDkifQ%3D%3D&sprefix=musical+instruments%2Caps%2C1267&sr=8-35',\n",
       " 'https://www.amazon.in/NewYouth-Aluminum-Diaphragm-Musical-Instruments/dp/B0BGPJBC57/ref=sr_1_36?crid=2J01KTC9AWL62&keywords=Musical+Instruments&qid=1666713962&qu=eyJxc2MiOiI3LjkxIiwicXNhIjoiNy41MiIsInFzcCI6IjUuMDkifQ%3D%3D&sprefix=musical+instruments%2Caps%2C1267&sr=8-36',\n",
       " 'https://www.amazon.in/Palap-Kalimba-Thumb-Piano-Engraved/dp/B095CMS2JK/ref=sr_1_37?crid=2J01KTC9AWL62&keywords=Musical+Instruments&qid=1666713962&qu=eyJxc2MiOiI3LjkxIiwicXNhIjoiNy41MiIsInFzcCI6IjUuMDkifQ%3D%3D&sprefix=musical+instruments%2Caps%2C1267&sr=8-37',\n",
       " 'https://www.amazon.in/Famous-Flute-Set-Instruments-Professional/dp/B095Y84WX4/ref=sr_1_38?crid=2J01KTC9AWL62&keywords=Musical+Instruments&qid=1666713962&qu=eyJxc2MiOiI3LjkxIiwicXNhIjoiNy41MiIsInFzcCI6IjUuMDkifQ%3D%3D&sprefix=musical+instruments%2Caps%2C1267&sr=8-38',\n",
       " 'https://www.amazon.in/Blue-Panther-Scale-Bamboo-Flute/dp/B09MWHVKFP/ref=sr_1_39?crid=2J01KTC9AWL62&keywords=Musical+Instruments&qid=1666713962&qu=eyJxc2MiOiI3LjkxIiwicXNhIjoiNy41MiIsInFzcCI6IjUuMDkifQ%3D%3D&sprefix=musical+instruments%2Caps%2C1267&sr=8-39',\n",
       " 'https://www.amazon.in/Generic-Aluminium-Alloy-Diaphragm-Silver-15013494MG/dp/B019H1HR6C/ref=sr_1_40?crid=2J01KTC9AWL62&keywords=Musical+Instruments&qid=1666713962&qu=eyJxc2MiOiI3LjkxIiwicXNhIjoiNy41MiIsInFzcCI6IjUuMDkifQ%3D%3D&sprefix=musical+instruments%2Caps%2C1267&sr=8-40',\n",
       " 'https://www.amazon.in/KHALSA-MUSICAL-B-Scale-C-Scale-G-Scale/dp/B0B1356HC1/ref=sr_1_41?crid=2J01KTC9AWL62&keywords=Musical+Instruments&qid=1666713962&qu=eyJxc2MiOiI3LjkxIiwicXNhIjoiNy41MiIsInFzcCI6IjUuMDkifQ%3D%3D&sprefix=musical+instruments%2Caps%2C1267&sr=8-41',\n",
       " 'https://www.amazon.in/Juarez-Percussion-Handmade-Musical-Instrument/dp/B08JMT3KPV/ref=sr_1_42?crid=2J01KTC9AWL62&keywords=Musical+Instruments&qid=1666713962&qu=eyJxc2MiOiI3LjkxIiwicXNhIjoiNy41MiIsInFzcCI6IjUuMDkifQ%3D%3D&sprefix=musical+instruments%2Caps%2C1267&sr=8-42',\n",
       " 'https://www.amazon.in/Alligator-Tambourine-Percussion-Musical-Instrument/dp/B077PJ565H/ref=sr_1_43?crid=2J01KTC9AWL62&keywords=Musical+Instruments&qid=1666713962&qu=eyJxc2MiOiI3LjkxIiwicXNhIjoiNy41MiIsInFzcCI6IjUuMDkifQ%3D%3D&sprefix=musical+instruments%2Caps%2C1267&sr=8-43',\n",
       " 'https://www.amazon.in/Musical-Khartal-Instrument-KHARTAAL-Professional/dp/B09TL8QDXH/ref=sr_1_44?crid=2J01KTC9AWL62&keywords=Musical+Instruments&qid=1666713962&qu=eyJxc2MiOiI3LjkxIiwicXNhIjoiNy41MiIsInFzcCI6IjUuMDkifQ%3D%3D&sprefix=musical+instruments%2Caps%2C1267&sr=8-44',\n",
       " 'https://www.amazon.in/HRB-MUSICALS-Shakers-Handle-Colour/dp/B09BZYKGCC/ref=sr_1_45?crid=2J01KTC9AWL62&keywords=Musical+Instruments&qid=1666713962&qu=eyJxc2MiOiI3LjkxIiwicXNhIjoiNy41MiIsInFzcCI6IjUuMDkifQ%3D%3D&sprefix=musical+instruments%2Caps%2C1267&sr=8-45',\n",
       " 'https://www.amazon.in/Clapbox-Adjustable-Snare-Cajon-CB50/dp/B07SQC9JMG/ref=sr_1_46?crid=2J01KTC9AWL62&keywords=Musical+Instruments&qid=1666713962&qu=eyJxc2MiOiI3LjkxIiwicXNhIjoiNy41MiIsInFzcCI6IjUuMDkifQ%3D%3D&sprefix=musical+instruments%2Caps%2C1267&sr=8-46',\n",
       " 'https://www.amazon.in/Kannan-Musical-Instruments-Tambourine-inch/dp/B077J1XJBH/ref=sr_1_47?crid=2J01KTC9AWL62&keywords=Musical+Instruments&qid=1666713962&qu=eyJxc2MiOiI3LjkxIiwicXNhIjoiNy41MiIsInFzcCI6IjUuMDkifQ%3D%3D&sprefix=musical+instruments%2Caps%2C1267&sr=8-47',\n",
       " 'https://www.amazon.in/YAMAHA-PSR-F52-PORTABLE-KEYBOARD-VDN0990/dp/B09N75RFX1/ref=sr_1_48?crid=2J01KTC9AWL62&keywords=Musical+Instruments&qid=1666713962&qu=eyJxc2MiOiI3LjkxIiwicXNhIjoiNy41MiIsInFzcCI6IjUuMDkifQ%3D%3D&sprefix=musical+instruments%2Caps%2C1267&sr=8-48',\n",
       " 'https://www.amazon.in/DronaIndia-Musical-Percussion-Instrument-Hand-Cymbals/dp/B00W7EXWXO/ref=sr_1_49?crid=2J01KTC9AWL62&keywords=Musical+Instruments&qid=1666713962&qu=eyJxc2MiOiI3LjkxIiwicXNhIjoiNy41MiIsInFzcCI6IjUuMDkifQ%3D%3D&sprefix=musical+instruments%2Caps%2C1267&sr=8-49',\n",
       " 'https://www.amazon.in/SG-harmonium-instrument-original-Harmonium/dp/B09GV253DF/ref=sr_1_50?crid=2J01KTC9AWL62&keywords=Musical+Instruments&qid=1666713962&qu=eyJxc2MiOiI3LjkxIiwicXNhIjoiNy41MiIsInFzcCI6IjUuMDkifQ%3D%3D&sprefix=musical+instruments%2Caps%2C1267&sr=8-50',\n",
       " 'https://www.amazon.in/KHALSA-MUSICAL-Sharp-Professional-Bamboo/dp/B09Z87HM42/ref=sr_1_51?crid=2J01KTC9AWL62&keywords=Musical+Instruments&qid=1666713962&qu=eyJxc2MiOiI3LjkxIiwicXNhIjoiNy41MiIsInFzcCI6IjUuMDkifQ%3D%3D&sprefix=musical+instruments%2Caps%2C1267&sr=8-51',\n",
       " 'https://www.amazon.in/Bhaskari-creation-Damaru-Instrument-Brown-Mango/dp/B09V2ZX2XF/ref=sr_1_52?crid=2J01KTC9AWL62&keywords=Musical+Instruments&qid=1666713962&qu=eyJxc2MiOiI3LjkxIiwicXNhIjoiNy41MiIsInFzcCI6IjUuMDkifQ%3D%3D&sprefix=musical+instruments%2Caps%2C1267&sr=8-52',\n",
       " 'https://www.amazon.in/Juarez-Rosewood-Fingerboard-JRZ21UK-BL/dp/B08RY6Y639/ref=sr_1_53?crid=2J01KTC9AWL62&keywords=Musical+Instruments&qid=1666713962&qu=eyJxc2MiOiI3LjkxIiwicXNhIjoiNy41MiIsInFzcCI6IjUuMDkifQ%3D%3D&sprefix=musical+instruments%2Caps%2C1267&sr=8-53',\n",
       " 'https://www.amazon.in/Sajani-Musical-Instruments-Learning-Beginners/dp/B09MD2FQ8D/ref=sr_1_54?crid=2J01KTC9AWL62&keywords=Musical+Instruments&qid=1666713962&qu=eyJxc2MiOiI3LjkxIiwicXNhIjoiNy41MiIsInFzcCI6IjUuMDkifQ%3D%3D&sprefix=musical+instruments%2Caps%2C1267&sr=8-54',\n",
       " 'https://www.amazon.in/FYA-Tongue-Adults-Rubber-Mallets/dp/B09PFQ4JWW/ref=sr_1_55?crid=2J01KTC9AWL62&keywords=Musical+Instruments&qid=1666713962&qu=eyJxc2MiOiI3LjkxIiwicXNhIjoiNy41MiIsInFzcCI6IjUuMDkifQ%3D%3D&sprefix=musical+instruments%2Caps%2C1267&sr=8-55',\n",
       " 'https://www.amazon.in/MAGBOT-Singing-Mike-Multi-function-Microphone/dp/B09BL15L9C/ref=sr_1_56?crid=2J01KTC9AWL62&keywords=Musical+Instruments&qid=1666713962&qu=eyJxc2MiOiI3LjkxIiwicXNhIjoiNy41MiIsInFzcCI6IjUuMDkifQ%3D%3D&sprefix=musical+instruments%2Caps%2C1267&sr=8-56',\n",
       " 'https://www.amazon.in/sspa/click?ie=UTF8&spc=MTo2NDQ3MjY3MTY3MzkwNzc4OjE2NjY3MTM5NjI6c3BfYnRmOjIwMDgzODc1NzkyNjk4OjowOjo&sp_csd=d2lkZ2V0TmFtZT1zcF9idGY&url=%2FPATPAT%25C2%25AE-Musical-Keyboard-Education-Birthday%2Fdp%2FB0BHVGSFJJ%2Fref%3Dsr_1_57_sspa%3Fcrid%3D2J01KTC9AWL62%26keywords%3DMusical%2BInstruments%26qid%3D1666713962%26qu%3DeyJxc2MiOiI3LjkxIiwicXNhIjoiNy41MiIsInFzcCI6IjUuMDkifQ%253D%253D%26sprefix%3Dmusical%2Binstruments%252Caps%252C1267%26sr%3D8-57-spons%26psc%3D1',\n",
       " 'https://www.amazon.in/sspa/click?ie=UTF8&spc=MTo2NDQ3MjY3MTY3MzkwNzc4OjE2NjY3MTM5NjI6c3BfYnRmOjIwMDU1MTYxNTEzMDk4OjowOjo&sp_csd=d2lkZ2V0TmFtZT1zcF9idGY&url=%2FJugutoz-Xylophone-Educational-Instruments-Preschoolers%2Fdp%2FB08JPKNF2Y%2Fref%3Dsr_1_58_sspa%3Fcrid%3D2J01KTC9AWL62%26keywords%3DMusical%2BInstruments%26qid%3D1666713962%26qu%3DeyJxc2MiOiI3LjkxIiwicXNhIjoiNy41MiIsInFzcCI6IjUuMDkifQ%253D%253D%26sprefix%3Dmusical%2Binstruments%252Caps%252C1267%26sr%3D8-58-spons%26psc%3D1',\n",
       " 'https://www.amazon.in/sspa/click?ie=UTF8&spc=MTo2NDQ3MjY3MTY3MzkwNzc4OjE2NjY3MTM5NjI6c3BfYnRmOjIwMDg0NTg1NDEyNzk4OjowOjo&sp_csd=d2lkZ2V0TmFtZT1zcF9idGY&url=%2FNaughty-angels-Xylophone-Instrument-Non-Toxic%2Fdp%2FB0BH12QT5F%2Fref%3Dsr_1_59_sspa%3Fcrid%3D2J01KTC9AWL62%26keywords%3DMusical%2BInstruments%26qid%3D1666713962%26qu%3DeyJxc2MiOiI3LjkxIiwicXNhIjoiNy41MiIsInFzcCI6IjUuMDkifQ%253D%253D%26sprefix%3Dmusical%2Binstruments%252Caps%252C1267%26sr%3D8-59-spons%26psc%3D1',\n",
       " 'https://www.amazon.in/sspa/click?ie=UTF8&spc=MTo2NDQ3MjY3MTY3MzkwNzc4OjE2NjY3MTM5NjI6c3BfYnRmOjIwMDc3NTY4ODAyNjk4OjowOjo&sp_csd=d2lkZ2V0TmFtZT1zcF9idGY&url=%2FGT-manufacturers-Professional-Wooden-Golden%2Fdp%2FB08C5MZH9W%2Fref%3Dsr_1_60_sspa%3Fcrid%3D2J01KTC9AWL62%26keywords%3DMusical%2BInstruments%26qid%3D1666713962%26qu%3DeyJxc2MiOiI3LjkxIiwicXNhIjoiNy41MiIsInFzcCI6IjUuMDkifQ%253D%253D%26sprefix%3Dmusical%2Binstruments%252Caps%252C1267%26sr%3D8-60-spons%26psc%3D1']"
      ]
     },
     "execution_count": 11,
     "metadata": {},
     "output_type": "execute_result"
    }
   ],
   "source": [
    "product_urls"
   ]
  },
  {
   "cell_type": "code",
   "execution_count": 12,
   "id": "6471d6ab",
   "metadata": {},
   "outputs": [],
   "source": [
    "# blank list variables \n",
    "stars=[]\n",
    "complete_review=[]\n",
    "#time.sleep(2)\n",
    "\n",
    "for i in product_urls:\n",
    "    driver.get(i)\n",
    "    #for scrapping the number of stars\n",
    "    try:\n",
    "        for j in driver.find_elements(By.XPATH,'//span[@class=\"a-icon-alt\"]'):\n",
    "            stars.append(j.text)\n",
    "    except NoSuchElementException:\n",
    "            stars.append('-')\n",
    "    #for scrapping the short review\n",
    "    try:\n",
    "        for k in driver.find_elements(By.XPATH,\"//div[@class='a-row a-spacing-small review-data']/span/div/div[1]/span\"):\n",
    "            complete_review.append(k.text)\n",
    "    except NoSuchElementException:\n",
    "            complete_review.append('-')"
   ]
  },
  {
   "cell_type": "code",
   "execution_count": 87,
   "id": "96365331",
   "metadata": {},
   "outputs": [],
   "source": [
    "stars=[]\n",
    "try:\n",
    "    for j in driver.find_elements(By.XPATH,'//i[@class=\"a-icon a-icon-star-small a-star-small-4 aok-align-bottom\"]/span'):\n",
    "    #for j in driver.find_elements(By.XPATH,'/html/body/div[1]/div[2]/div[1]/div[1]/div/span[3]/div[2]/div[4]/div/div/div/div/div/div/div[2]/div[2]/div/span[1]/span/a/i[1]/span'):   \n",
    "        stars.append(j.text)\n",
    "except NoSuchElementException:\n",
    "        stars.append('-')"
   ]
  },
  {
   "cell_type": "code",
   "execution_count": 88,
   "id": "adc8d6fb",
   "metadata": {},
   "outputs": [
    {
     "data": {
      "text/plain": [
       "['', '', '', '', '', '', '', '', '', '', '', '', '', '']"
      ]
     },
     "execution_count": 88,
     "metadata": {},
     "output_type": "execute_result"
    }
   ],
   "source": [
    "stars"
   ]
  },
  {
   "cell_type": "code",
   "execution_count": 13,
   "id": "dce64e74",
   "metadata": {},
   "outputs": [
    {
     "name": "stdout",
     "output_type": "stream",
     "text": [
      "1032 308\n"
     ]
    }
   ],
   "source": [
    "print(len(stars),len(complete_review))"
   ]
  },
  {
   "cell_type": "code",
   "execution_count": 15,
   "id": "1e53c7cd",
   "metadata": {},
   "outputs": [
    {
     "data": {
      "text/html": [
       "<div>\n",
       "<style scoped>\n",
       "    .dataframe tbody tr th:only-of-type {\n",
       "        vertical-align: middle;\n",
       "    }\n",
       "\n",
       "    .dataframe tbody tr th {\n",
       "        vertical-align: top;\n",
       "    }\n",
       "\n",
       "    .dataframe thead th {\n",
       "        text-align: right;\n",
       "    }\n",
       "</style>\n",
       "<table border=\"1\" class=\"dataframe\">\n",
       "  <thead>\n",
       "    <tr style=\"text-align: right;\">\n",
       "      <th></th>\n",
       "      <th>stars</th>\n",
       "      <th>complete_review</th>\n",
       "    </tr>\n",
       "  </thead>\n",
       "  <tbody>\n",
       "    <tr>\n",
       "      <th>0</th>\n",
       "      <td></td>\n",
       "      <td>Here we can see that product is not worth for ...</td>\n",
       "    </tr>\n",
       "    <tr>\n",
       "      <th>1</th>\n",
       "      <td></td>\n",
       "      <td>It's size is disappointing for me as it's way ...</td>\n",
       "    </tr>\n",
       "    <tr>\n",
       "      <th>2</th>\n",
       "      <td></td>\n",
       "      <td>Rate was high</td>\n",
       "    </tr>\n",
       "    <tr>\n",
       "      <th>3</th>\n",
       "      <td></td>\n",
       "      <td>there is no switch ON /OFF button so its consu...</td>\n",
       "    </tr>\n",
       "    <tr>\n",
       "      <th>4</th>\n",
       "      <td></td>\n",
       "      <td>Baby using it for a month now and its still a...</td>\n",
       "    </tr>\n",
       "    <tr>\n",
       "      <th>...</th>\n",
       "      <td>...</td>\n",
       "      <td>...</td>\n",
       "    </tr>\n",
       "    <tr>\n",
       "      <th>295</th>\n",
       "      <td></td>\n",
       "      <td>Given as gift, so not much to say. However see...</td>\n",
       "    </tr>\n",
       "    <tr>\n",
       "      <th>296</th>\n",
       "      <td></td>\n",
       "      <td>Product is really nice. But only one problem. ...</td>\n",
       "    </tr>\n",
       "    <tr>\n",
       "      <th>297</th>\n",
       "      <td></td>\n",
       "      <td>👍👍👍👍</td>\n",
       "    </tr>\n",
       "    <tr>\n",
       "      <th>298</th>\n",
       "      <td></td>\n",
       "      <td>I like dis product so much.. sound is so melodies</td>\n",
       "    </tr>\n",
       "    <tr>\n",
       "      <th>299</th>\n",
       "      <td></td>\n",
       "      <td>Good product. You can buy. But please improve...</td>\n",
       "    </tr>\n",
       "  </tbody>\n",
       "</table>\n",
       "<p>300 rows × 2 columns</p>\n",
       "</div>"
      ],
      "text/plain": [
       "    stars                                    complete_review\n",
       "0          Here we can see that product is not worth for ...\n",
       "1          It's size is disappointing for me as it's way ...\n",
       "2                                              Rate was high\n",
       "3          there is no switch ON /OFF button so its consu...\n",
       "4           Baby using it for a month now and its still a...\n",
       "..    ...                                                ...\n",
       "295        Given as gift, so not much to say. However see...\n",
       "296        Product is really nice. But only one problem. ...\n",
       "297                                                     👍👍👍👍\n",
       "298        I like dis product so much.. sound is so melodies\n",
       "299         Good product. You can buy. But please improve...\n",
       "\n",
       "[300 rows x 2 columns]"
      ]
     },
     "execution_count": 15,
     "metadata": {},
     "output_type": "execute_result"
    }
   ],
   "source": [
    "df=pd.DataFrame({'stars':stars[0:300],'complete_review':complete_review[0:300]})\n",
    "df"
   ]
  },
  {
   "cell_type": "code",
   "execution_count": 16,
   "id": "6372c57e",
   "metadata": {},
   "outputs": [],
   "source": [
    "df.to_csv(r'D:\\I\\02.Flip Robo Assignments\\01.Flip Robo Assignments\\12.Ratings Prediction Project\\Musical_Instruments.csv', index=False)"
   ]
  },
  {
   "cell_type": "code",
   "execution_count": null,
   "id": "be74ffe7",
   "metadata": {},
   "outputs": [],
   "source": []
  },
  {
   "cell_type": "code",
   "execution_count": 17,
   "id": "30df3961",
   "metadata": {},
   "outputs": [],
   "source": []
  },
  {
   "cell_type": "code",
   "execution_count": null,
   "id": "d37d01d4",
   "metadata": {},
   "outputs": [],
   "source": []
  },
  {
   "cell_type": "code",
   "execution_count": null,
   "id": "ce132b49",
   "metadata": {},
   "outputs": [],
   "source": [
    "# For Laptop"
   ]
  },
  {
   "cell_type": "code",
   "execution_count": 17,
   "id": "27444dd8",
   "metadata": {},
   "outputs": [],
   "source": [
    "driver = webdriver.Chrome(r'C:\\Users\\COTMAC\\Downloads\\chromedriver_win32\\chromedriver.exe')"
   ]
  },
  {
   "cell_type": "code",
   "execution_count": 18,
   "id": "3e6c6406",
   "metadata": {},
   "outputs": [],
   "source": [
    "driver.get(\"https://www.amazon.in/\")\n",
    "time.sleep(2)"
   ]
  },
  {
   "cell_type": "code",
   "execution_count": 19,
   "id": "3fc405fe",
   "metadata": {},
   "outputs": [
    {
     "data": {
      "text/plain": [
       "<selenium.webdriver.remote.webelement.WebElement (session=\"43f1ad271099dbaf027336d476c1fe02\", element=\"6a40632a-9ba1-4f83-9ef9-bb861d926a53\")>"
      ]
     },
     "execution_count": 19,
     "metadata": {},
     "output_type": "execute_result"
    }
   ],
   "source": [
    "search_name=driver.find_element(By.XPATH,\"/html/body/div[1]/header/div/div[1]/div[2]/div/form/div[2]/div[1]/input\")\n",
    "search_name"
   ]
  },
  {
   "cell_type": "code",
   "execution_count": 20,
   "id": "9a9b9c38",
   "metadata": {},
   "outputs": [],
   "source": [
    "search_name.send_keys(\"Laptops\")"
   ]
  },
  {
   "cell_type": "code",
   "execution_count": 21,
   "id": "2c5ec270",
   "metadata": {},
   "outputs": [
    {
     "data": {
      "text/plain": [
       "<selenium.webdriver.remote.webelement.WebElement (session=\"43f1ad271099dbaf027336d476c1fe02\", element=\"cae4c24f-66d9-4aa4-81a3-26aa578c3d05\")>"
      ]
     },
     "execution_count": 21,
     "metadata": {},
     "output_type": "execute_result"
    }
   ],
   "source": [
    "search1=driver.find_element(By.XPATH,\"/html/body/div[1]/header/div/div[1]/div[2]/div/form/div[3]/div/span/input\")\n",
    "search1"
   ]
  },
  {
   "cell_type": "code",
   "execution_count": 22,
   "id": "f2bd1c3b",
   "metadata": {},
   "outputs": [],
   "source": [
    "search1.click()"
   ]
  },
  {
   "cell_type": "code",
   "execution_count": 23,
   "id": "12520fe4",
   "metadata": {},
   "outputs": [],
   "source": [
    "# scrape all product urls\n",
    "product_urls = []\n",
    "start=0\n",
    "end=1\n",
    "for page in range(start,end):#for loop for scrapping 3 page\n",
    "    url=driver.find_elements(By.XPATH,'//a[@class = \"a-link-normal s-underline-text s-underline-link-text s-link-style a-text-normal\"]')       #scraping urls\n",
    "    for i in url:\n",
    "        product_urls.append(i.get_attribute(\"href\"))                        #appending the urls in product_urls list\n",
    "    nxt_button=driver.find_element(By.XPATH,'//a[@class=\"s-pagination-item s-pagination-next s-pagination-button s-pagination-separator\"]')     #scraping the list of buttons from the page\n",
    "    nxt_button.click()\n",
    "    time.sleep(2)"
   ]
  },
  {
   "cell_type": "code",
   "execution_count": 24,
   "id": "5a383253",
   "metadata": {},
   "outputs": [
    {
     "data": {
      "text/plain": [
       "34"
      ]
     },
     "execution_count": 24,
     "metadata": {},
     "output_type": "execute_result"
    }
   ],
   "source": [
    "len(product_urls)"
   ]
  },
  {
   "cell_type": "code",
   "execution_count": 25,
   "id": "953c937b",
   "metadata": {},
   "outputs": [],
   "source": [
    "# blank list variables \n",
    "stars=[]\n",
    "complete_review=[]\n",
    "#time.sleep(2)\n",
    "\n",
    "for i in product_urls:\n",
    "    driver.get(i)\n",
    "    #for scrapping the number of stars\n",
    "    try:\n",
    "        for j in driver.find_elements(By.XPATH,'//span[@class=\"a-icon-alt\"]'):\n",
    "            stars.append(j.text)\n",
    "    except NoSuchElementException:\n",
    "            stars.append('-')\n",
    "    #for scrapping the short review\n",
    "    try:\n",
    "        for k in driver.find_elements(By.XPATH,\"//div[@class='a-row a-spacing-small review-data']/span/div/div[1]/span\"):\n",
    "            complete_review.append(k.text)\n",
    "    except NoSuchElementException:\n",
    "            complete_review.append('-')"
   ]
  },
  {
   "cell_type": "code",
   "execution_count": 26,
   "id": "79ce7d04",
   "metadata": {},
   "outputs": [
    {
     "name": "stdout",
     "output_type": "stream",
     "text": [
      "533 189\n"
     ]
    }
   ],
   "source": [
    "print(len(stars),len(complete_review))"
   ]
  },
  {
   "cell_type": "code",
   "execution_count": 27,
   "id": "b322b611",
   "metadata": {},
   "outputs": [
    {
     "data": {
      "text/html": [
       "<div>\n",
       "<style scoped>\n",
       "    .dataframe tbody tr th:only-of-type {\n",
       "        vertical-align: middle;\n",
       "    }\n",
       "\n",
       "    .dataframe tbody tr th {\n",
       "        vertical-align: top;\n",
       "    }\n",
       "\n",
       "    .dataframe thead th {\n",
       "        text-align: right;\n",
       "    }\n",
       "</style>\n",
       "<table border=\"1\" class=\"dataframe\">\n",
       "  <thead>\n",
       "    <tr style=\"text-align: right;\">\n",
       "      <th></th>\n",
       "      <th>stars</th>\n",
       "      <th>complete_review</th>\n",
       "    </tr>\n",
       "  </thead>\n",
       "  <tbody>\n",
       "    <tr>\n",
       "      <th>0</th>\n",
       "      <td></td>\n",
       "      <td>The value for money laptop...I bought this pro...</td>\n",
       "    </tr>\n",
       "    <tr>\n",
       "      <th>1</th>\n",
       "      <td></td>\n",
       "      <td>Light weight</td>\n",
       "    </tr>\n",
       "    <tr>\n",
       "      <th>2</th>\n",
       "      <td></td>\n",
       "      <td>No any body dislike</td>\n",
       "    </tr>\n",
       "    <tr>\n",
       "      <th>3</th>\n",
       "      <td></td>\n",
       "      <td>Best laptop for students or office use</td>\n",
       "    </tr>\n",
       "    <tr>\n",
       "      <th>4</th>\n",
       "      <td></td>\n",
       "      <td>Display was good\\nNo lag\\nPerformance was good...</td>\n",
       "    </tr>\n",
       "    <tr>\n",
       "      <th>...</th>\n",
       "      <td>...</td>\n",
       "      <td>...</td>\n",
       "    </tr>\n",
       "    <tr>\n",
       "      <th>175</th>\n",
       "      <td></td>\n",
       "      <td>Best in this price</td>\n",
       "    </tr>\n",
       "    <tr>\n",
       "      <th>176</th>\n",
       "      <td></td>\n",
       "      <td>nice product from hp</td>\n",
       "    </tr>\n",
       "    <tr>\n",
       "      <th>177</th>\n",
       "      <td></td>\n",
       "      <td>Let me keep this small and straight to the poi...</td>\n",
       "    </tr>\n",
       "    <tr>\n",
       "      <th>178</th>\n",
       "      <td></td>\n",
       "      <td>This laptop is good for general use only.Don't...</td>\n",
       "    </tr>\n",
       "    <tr>\n",
       "      <th>179</th>\n",
       "      <td></td>\n",
       "      <td>Light weight &amp; Good buy for students / home us...</td>\n",
       "    </tr>\n",
       "  </tbody>\n",
       "</table>\n",
       "<p>180 rows × 2 columns</p>\n",
       "</div>"
      ],
      "text/plain": [
       "    stars                                    complete_review\n",
       "0          The value for money laptop...I bought this pro...\n",
       "1                                               Light weight\n",
       "2                                        No any body dislike\n",
       "3                     Best laptop for students or office use\n",
       "4          Display was good\\nNo lag\\nPerformance was good...\n",
       "..    ...                                                ...\n",
       "175                                       Best in this price\n",
       "176                                     nice product from hp\n",
       "177        Let me keep this small and straight to the poi...\n",
       "178        This laptop is good for general use only.Don't...\n",
       "179        Light weight & Good buy for students / home us...\n",
       "\n",
       "[180 rows x 2 columns]"
      ]
     },
     "execution_count": 27,
     "metadata": {},
     "output_type": "execute_result"
    }
   ],
   "source": [
    "df=pd.DataFrame({'stars':stars[0:180],'complete_review':complete_review[0:180]})\n",
    "df"
   ]
  },
  {
   "cell_type": "code",
   "execution_count": 28,
   "id": "98dded56",
   "metadata": {},
   "outputs": [],
   "source": [
    "df.to_csv(r'D:\\I\\02.Flip Robo Assignments\\01.Flip Robo Assignments\\12.Ratings Prediction Project\\Laptop.csv', index=False)"
   ]
  },
  {
   "cell_type": "code",
   "execution_count": null,
   "id": "530e33d6",
   "metadata": {},
   "outputs": [],
   "source": []
  },
  {
   "cell_type": "code",
   "execution_count": 31,
   "id": "bfb44118",
   "metadata": {},
   "outputs": [],
   "source": [
    "#For Phones"
   ]
  },
  {
   "cell_type": "code",
   "execution_count": 32,
   "id": "0f327d40",
   "metadata": {},
   "outputs": [],
   "source": [
    "driver = webdriver.Chrome(r'C:\\Users\\COTMAC\\Downloads\\chromedriver_win32\\chromedriver.exe')"
   ]
  },
  {
   "cell_type": "code",
   "execution_count": 33,
   "id": "c4ee8eac",
   "metadata": {},
   "outputs": [],
   "source": [
    "driver.get(\"https://www.amazon.in/\")\n",
    "time.sleep(2)"
   ]
  },
  {
   "cell_type": "code",
   "execution_count": 34,
   "id": "7e77b7ce",
   "metadata": {},
   "outputs": [
    {
     "data": {
      "text/plain": [
       "<selenium.webdriver.remote.webelement.WebElement (session=\"1565a80e6f8fe219c276832b8d6760d5\", element=\"a4755aaa-fe02-4b74-8de4-0c90b928be5f\")>"
      ]
     },
     "execution_count": 34,
     "metadata": {},
     "output_type": "execute_result"
    }
   ],
   "source": [
    "search_name=driver.find_element(By.XPATH,\"/html/body/div[1]/header/div/div[1]/div[2]/div/form/div[2]/div[1]/input\")\n",
    "search_name"
   ]
  },
  {
   "cell_type": "code",
   "execution_count": 35,
   "id": "a55a71eb",
   "metadata": {},
   "outputs": [],
   "source": [
    "search_name.send_keys(\"Phones\")"
   ]
  },
  {
   "cell_type": "code",
   "execution_count": 36,
   "id": "4ad12ff5",
   "metadata": {},
   "outputs": [
    {
     "data": {
      "text/plain": [
       "<selenium.webdriver.remote.webelement.WebElement (session=\"1565a80e6f8fe219c276832b8d6760d5\", element=\"249450a5-fb5d-4513-9dc4-e906b37a5f3a\")>"
      ]
     },
     "execution_count": 36,
     "metadata": {},
     "output_type": "execute_result"
    }
   ],
   "source": [
    "search1=driver.find_element(By.XPATH,\"/html/body/div[1]/header/div/div[1]/div[2]/div/form/div[3]/div/span/input\")\n",
    "search1"
   ]
  },
  {
   "cell_type": "code",
   "execution_count": 37,
   "id": "4a570026",
   "metadata": {},
   "outputs": [],
   "source": [
    "search1.click()"
   ]
  },
  {
   "cell_type": "code",
   "execution_count": 38,
   "id": "e9d44738",
   "metadata": {},
   "outputs": [],
   "source": [
    "# scrape all product urls\n",
    "product_urls = []\n",
    "start=0\n",
    "end=3\n",
    "for page in range(start,end):#for loop for scrapping 3 page\n",
    "    url=driver.find_elements(By.XPATH,'//a[@class = \"a-link-normal s-underline-text s-underline-link-text s-link-style a-text-normal\"]')       #scraping urls\n",
    "    for i in url:\n",
    "        product_urls.append(i.get_attribute(\"href\"))                        #appending the urls in product_urls list\n",
    "    nxt_button=driver.find_element(By.XPATH,'//a[@class=\"s-pagination-item s-pagination-next s-pagination-button s-pagination-separator\"]')     #scraping the list of buttons from the page\n",
    "    nxt_button.click()\n",
    "    time.sleep(2)"
   ]
  },
  {
   "cell_type": "code",
   "execution_count": 39,
   "id": "c7ecaf12",
   "metadata": {},
   "outputs": [
    {
     "data": {
      "text/plain": [
       "54"
      ]
     },
     "execution_count": 39,
     "metadata": {},
     "output_type": "execute_result"
    }
   ],
   "source": [
    "len(product_urls)"
   ]
  },
  {
   "cell_type": "code",
   "execution_count": 40,
   "id": "6c236805",
   "metadata": {},
   "outputs": [],
   "source": [
    "# blank list variables \n",
    "stars=[]\n",
    "complete_review=[]\n",
    "#time.sleep(2)\n",
    "\n",
    "for i in product_urls:\n",
    "    driver.get(i)\n",
    "    #for scrapping the number of stars\n",
    "    try:\n",
    "        for j in driver.find_elements(By.XPATH,'//span[@class=\"a-icon-alt\"]'):\n",
    "            stars.append(j.text)\n",
    "    except NoSuchElementException:\n",
    "            stars.append('-')\n",
    "    #for scrapping the short review\n",
    "    try:\n",
    "        for k in driver.find_elements(By.XPATH,\"//div[@class='a-row a-spacing-small review-data']/span/div/div[1]/span\"):\n",
    "            complete_review.append(k.text)\n",
    "    except NoSuchElementException:\n",
    "            complete_review.append('-')"
   ]
  },
  {
   "cell_type": "code",
   "execution_count": 41,
   "id": "691f5dee",
   "metadata": {},
   "outputs": [
    {
     "name": "stdout",
     "output_type": "stream",
     "text": [
      "1435 500\n"
     ]
    }
   ],
   "source": [
    "print(len(stars),len(complete_review))"
   ]
  },
  {
   "cell_type": "code",
   "execution_count": 43,
   "id": "e782be33",
   "metadata": {},
   "outputs": [
    {
     "data": {
      "text/html": [
       "<div>\n",
       "<style scoped>\n",
       "    .dataframe tbody tr th:only-of-type {\n",
       "        vertical-align: middle;\n",
       "    }\n",
       "\n",
       "    .dataframe tbody tr th {\n",
       "        vertical-align: top;\n",
       "    }\n",
       "\n",
       "    .dataframe thead th {\n",
       "        text-align: right;\n",
       "    }\n",
       "</style>\n",
       "<table border=\"1\" class=\"dataframe\">\n",
       "  <thead>\n",
       "    <tr style=\"text-align: right;\">\n",
       "      <th></th>\n",
       "      <th>stars</th>\n",
       "      <th>complete_review</th>\n",
       "    </tr>\n",
       "  </thead>\n",
       "  <tbody>\n",
       "    <tr>\n",
       "      <th>0</th>\n",
       "      <td></td>\n",
       "      <td>Camera : Great. No words for it's outstanding ...</td>\n",
       "    </tr>\n",
       "    <tr>\n",
       "      <th>1</th>\n",
       "      <td></td>\n",
       "      <td>This is a very good budget phone from Samsung ...</td>\n",
       "    </tr>\n",
       "    <tr>\n",
       "      <th>2</th>\n",
       "      <td></td>\n",
       "      <td>I was expecting great camera but disappointed ...</td>\n",
       "    </tr>\n",
       "    <tr>\n",
       "      <th>3</th>\n",
       "      <td></td>\n",
       "      <td>Screen (5/5)\\nCamera (3.8/5)\\nBattery (4.5/5)\\...</td>\n",
       "    </tr>\n",
       "    <tr>\n",
       "      <th>4</th>\n",
       "      <td></td>\n",
       "      <td>I have always liked black, this time by mistak...</td>\n",
       "    </tr>\n",
       "    <tr>\n",
       "      <th>...</th>\n",
       "      <td>...</td>\n",
       "      <td>...</td>\n",
       "    </tr>\n",
       "    <tr>\n",
       "      <th>495</th>\n",
       "      <td></td>\n",
       "      <td>My phone is really good, nice quality and valu...</td>\n",
       "    </tr>\n",
       "    <tr>\n",
       "      <th>496</th>\n",
       "      <td></td>\n",
       "      <td>I bought this phone for my mom who is a first ...</td>\n",
       "    </tr>\n",
       "    <tr>\n",
       "      <th>497</th>\n",
       "      <td></td>\n",
       "      <td>First of all,I purchased this as a secondary d...</td>\n",
       "    </tr>\n",
       "    <tr>\n",
       "      <th>498</th>\n",
       "      <td></td>\n",
       "      <td>On off button is little slow</td>\n",
       "    </tr>\n",
       "    <tr>\n",
       "      <th>499</th>\n",
       "      <td></td>\n",
       "      <td>A decent phone at this price.</td>\n",
       "    </tr>\n",
       "  </tbody>\n",
       "</table>\n",
       "<p>500 rows × 2 columns</p>\n",
       "</div>"
      ],
      "text/plain": [
       "    stars                                    complete_review\n",
       "0          Camera : Great. No words for it's outstanding ...\n",
       "1          This is a very good budget phone from Samsung ...\n",
       "2          I was expecting great camera but disappointed ...\n",
       "3          Screen (5/5)\\nCamera (3.8/5)\\nBattery (4.5/5)\\...\n",
       "4          I have always liked black, this time by mistak...\n",
       "..    ...                                                ...\n",
       "495        My phone is really good, nice quality and valu...\n",
       "496        I bought this phone for my mom who is a first ...\n",
       "497        First of all,I purchased this as a secondary d...\n",
       "498                             On off button is little slow\n",
       "499                            A decent phone at this price.\n",
       "\n",
       "[500 rows x 2 columns]"
      ]
     },
     "execution_count": 43,
     "metadata": {},
     "output_type": "execute_result"
    }
   ],
   "source": [
    "df=pd.DataFrame({'stars':stars[0:500],'complete_review':complete_review[0:500]})\n",
    "df"
   ]
  },
  {
   "cell_type": "code",
   "execution_count": 44,
   "id": "7bb1ef5f",
   "metadata": {},
   "outputs": [],
   "source": [
    "df.to_csv(r'D:\\I\\02.Flip Robo Assignments\\01.Flip Robo Assignments\\12.Ratings Prediction Project\\Phones.csv', index=False)"
   ]
  },
  {
   "cell_type": "code",
   "execution_count": null,
   "id": "0de53f97",
   "metadata": {},
   "outputs": [],
   "source": []
  },
  {
   "cell_type": "code",
   "execution_count": 46,
   "id": "5c364b21",
   "metadata": {},
   "outputs": [],
   "source": [
    "#For Headphones"
   ]
  },
  {
   "cell_type": "code",
   "execution_count": 47,
   "id": "f72e17e1",
   "metadata": {},
   "outputs": [],
   "source": [
    "driver = webdriver.Chrome(r'C:\\Users\\COTMAC\\Downloads\\chromedriver_win32\\chromedriver.exe')"
   ]
  },
  {
   "cell_type": "code",
   "execution_count": 48,
   "id": "32ad39d2",
   "metadata": {},
   "outputs": [],
   "source": [
    "driver.get(\"https://www.amazon.in/\")\n",
    "time.sleep(2)"
   ]
  },
  {
   "cell_type": "code",
   "execution_count": 49,
   "id": "c44fc57a",
   "metadata": {},
   "outputs": [
    {
     "data": {
      "text/plain": [
       "<selenium.webdriver.remote.webelement.WebElement (session=\"be2197ae4eb18b30738fd0d0abc89e1b\", element=\"fd5cf6bc-17ca-414e-86f5-08bf32fd4717\")>"
      ]
     },
     "execution_count": 49,
     "metadata": {},
     "output_type": "execute_result"
    }
   ],
   "source": [
    "search_name=driver.find_element(By.XPATH,\"/html/body/div[1]/header/div/div[1]/div[2]/div/form/div[2]/div[1]/input\")\n",
    "search_name"
   ]
  },
  {
   "cell_type": "code",
   "execution_count": 50,
   "id": "b2b53120",
   "metadata": {},
   "outputs": [],
   "source": [
    "search_name.send_keys(\"Headphones\")"
   ]
  },
  {
   "cell_type": "code",
   "execution_count": 51,
   "id": "8a9ca103",
   "metadata": {},
   "outputs": [
    {
     "data": {
      "text/plain": [
       "<selenium.webdriver.remote.webelement.WebElement (session=\"be2197ae4eb18b30738fd0d0abc89e1b\", element=\"7f15cd3e-08b4-4573-9544-cede564b057d\")>"
      ]
     },
     "execution_count": 51,
     "metadata": {},
     "output_type": "execute_result"
    }
   ],
   "source": [
    "search1=driver.find_element(By.XPATH,\"/html/body/div[1]/header/div/div[1]/div[2]/div/form/div[3]/div/span/input\")\n",
    "search1"
   ]
  },
  {
   "cell_type": "code",
   "execution_count": 52,
   "id": "d99c0424",
   "metadata": {},
   "outputs": [],
   "source": [
    "search1.click()"
   ]
  },
  {
   "cell_type": "code",
   "execution_count": 54,
   "id": "19674f81",
   "metadata": {},
   "outputs": [],
   "source": [
    "# scrape all product urls\n",
    "product_urls = []\n",
    "start=0\n",
    "end=5\n",
    "for page in range(start,end):#for loop for scrapping 3 page\n",
    "    url=driver.find_elements(By.XPATH,'//a[@class = \"a-link-normal s-underline-text s-underline-link-text s-link-style a-text-normal\"]')       #scraping urls\n",
    "    for i in url:\n",
    "        product_urls.append(i.get_attribute(\"href\"))                        #appending the urls in product_urls list\n",
    "    nxt_button=driver.find_element(By.XPATH,'//a[@class=\"s-pagination-item s-pagination-next s-pagination-button s-pagination-separator\"]')     #scraping the list of buttons from the page\n",
    "    nxt_button.click()\n",
    "    time.sleep(2)"
   ]
  },
  {
   "cell_type": "code",
   "execution_count": 55,
   "id": "ca53e18c",
   "metadata": {},
   "outputs": [
    {
     "data": {
      "text/plain": [
       "110"
      ]
     },
     "execution_count": 55,
     "metadata": {},
     "output_type": "execute_result"
    }
   ],
   "source": [
    "len(product_urls)"
   ]
  },
  {
   "cell_type": "code",
   "execution_count": 56,
   "id": "dce64371",
   "metadata": {},
   "outputs": [],
   "source": [
    "# blank list variables \n",
    "stars=[]\n",
    "complete_review=[]\n",
    "#time.sleep(2)\n",
    "\n",
    "for i in product_urls:\n",
    "    driver.get(i)\n",
    "    #for scrapping the number of stars\n",
    "    try:\n",
    "        for j in driver.find_elements(By.XPATH,'//span[@class=\"a-icon-alt\"]'):\n",
    "            stars.append(j.text)\n",
    "    except NoSuchElementException:\n",
    "            stars.append('-')\n",
    "    #for scrapping the short review\n",
    "    try:\n",
    "        for k in driver.find_elements(By.XPATH,\"//div[@class='a-row a-spacing-small review-data']/span/div/div[1]/span\"):\n",
    "            complete_review.append(k.text)\n",
    "    except NoSuchElementException:\n",
    "            complete_review.append('-')"
   ]
  },
  {
   "cell_type": "code",
   "execution_count": 57,
   "id": "77019eb9",
   "metadata": {},
   "outputs": [
    {
     "name": "stdout",
     "output_type": "stream",
     "text": [
      "2577 987\n"
     ]
    }
   ],
   "source": [
    "print(len(stars),len(complete_review))"
   ]
  },
  {
   "cell_type": "code",
   "execution_count": 58,
   "id": "248111e1",
   "metadata": {},
   "outputs": [
    {
     "data": {
      "text/html": [
       "<div>\n",
       "<style scoped>\n",
       "    .dataframe tbody tr th:only-of-type {\n",
       "        vertical-align: middle;\n",
       "    }\n",
       "\n",
       "    .dataframe tbody tr th {\n",
       "        vertical-align: top;\n",
       "    }\n",
       "\n",
       "    .dataframe thead th {\n",
       "        text-align: right;\n",
       "    }\n",
       "</style>\n",
       "<table border=\"1\" class=\"dataframe\">\n",
       "  <thead>\n",
       "    <tr style=\"text-align: right;\">\n",
       "      <th></th>\n",
       "      <th>stars</th>\n",
       "      <th>complete_review</th>\n",
       "    </tr>\n",
       "  </thead>\n",
       "  <tbody>\n",
       "    <tr>\n",
       "      <th>0</th>\n",
       "      <td></td>\n",
       "      <td>The ENC that they claim is not there. I tested...</td>\n",
       "    </tr>\n",
       "    <tr>\n",
       "      <th>1</th>\n",
       "      <td></td>\n",
       "      <td>The Bluetooth range is just under 7 to 8 meter...</td>\n",
       "    </tr>\n",
       "    <tr>\n",
       "      <th>2</th>\n",
       "      <td></td>\n",
       "      <td>Very good sound and specially Bass, Light weig...</td>\n",
       "    </tr>\n",
       "    <tr>\n",
       "      <th>3</th>\n",
       "      <td></td>\n",
       "      <td>Sounds are good and looks also very nice. Aft...</td>\n",
       "    </tr>\n",
       "    <tr>\n",
       "      <th>4</th>\n",
       "      <td></td>\n",
       "      <td>value for money under Rs.800/-\\n\\nBattery bac...</td>\n",
       "    </tr>\n",
       "    <tr>\n",
       "      <th>...</th>\n",
       "      <td>...</td>\n",
       "      <td>...</td>\n",
       "    </tr>\n",
       "    <tr>\n",
       "      <th>945</th>\n",
       "      <td></td>\n",
       "      <td>The headphones are amazing . do not cause any ...</td>\n",
       "    </tr>\n",
       "    <tr>\n",
       "      <th>946</th>\n",
       "      <td></td>\n",
       "      <td>Nice backing nice product good quality 👌👍</td>\n",
       "    </tr>\n",
       "    <tr>\n",
       "      <th>947</th>\n",
       "      <td></td>\n",
       "      <td>The build quality is nice. The RGB lights also...</td>\n",
       "    </tr>\n",
       "    <tr>\n",
       "      <th>948</th>\n",
       "      <td></td>\n",
       "      <td>More or less a good product, but can't be call...</td>\n",
       "    </tr>\n",
       "    <tr>\n",
       "      <th>949</th>\n",
       "      <td></td>\n",
       "      <td>Great buy for this price under 1K. Packing was...</td>\n",
       "    </tr>\n",
       "  </tbody>\n",
       "</table>\n",
       "<p>950 rows × 2 columns</p>\n",
       "</div>"
      ],
      "text/plain": [
       "    stars                                    complete_review\n",
       "0          The ENC that they claim is not there. I tested...\n",
       "1          The Bluetooth range is just under 7 to 8 meter...\n",
       "2          Very good sound and specially Bass, Light weig...\n",
       "3           Sounds are good and looks also very nice. Aft...\n",
       "4           value for money under Rs.800/-\\n\\nBattery bac...\n",
       "..    ...                                                ...\n",
       "945        The headphones are amazing . do not cause any ...\n",
       "946                Nice backing nice product good quality 👌👍\n",
       "947        The build quality is nice. The RGB lights also...\n",
       "948        More or less a good product, but can't be call...\n",
       "949        Great buy for this price under 1K. Packing was...\n",
       "\n",
       "[950 rows x 2 columns]"
      ]
     },
     "execution_count": 58,
     "metadata": {},
     "output_type": "execute_result"
    }
   ],
   "source": [
    "df=pd.DataFrame({'stars':stars[0:950],'complete_review':complete_review[0:950]})\n",
    "df"
   ]
  },
  {
   "cell_type": "code",
   "execution_count": 59,
   "id": "8ff22fb0",
   "metadata": {},
   "outputs": [],
   "source": [
    "df.to_csv(r'D:\\I\\02.Flip Robo Assignments\\01.Flip Robo Assignments\\12.Ratings Prediction Project\\Headphones.csv', index=False)"
   ]
  },
  {
   "cell_type": "code",
   "execution_count": null,
   "id": "82e5f355",
   "metadata": {},
   "outputs": [],
   "source": []
  },
  {
   "cell_type": "code",
   "execution_count": null,
   "id": "50b815d5",
   "metadata": {},
   "outputs": [],
   "source": []
  },
  {
   "cell_type": "code",
   "execution_count": 60,
   "id": "490e2696",
   "metadata": {},
   "outputs": [],
   "source": [
    "#For Smart Watches"
   ]
  },
  {
   "cell_type": "code",
   "execution_count": 61,
   "id": "c83c03f3",
   "metadata": {},
   "outputs": [],
   "source": [
    "driver = webdriver.Chrome(r'C:\\Users\\COTMAC\\Downloads\\chromedriver_win32\\chromedriver.exe')"
   ]
  },
  {
   "cell_type": "code",
   "execution_count": 62,
   "id": "f618a893",
   "metadata": {},
   "outputs": [],
   "source": [
    "driver.get(\"https://www.amazon.in/\")\n",
    "time.sleep(2)"
   ]
  },
  {
   "cell_type": "code",
   "execution_count": 63,
   "id": "65fb8a0c",
   "metadata": {},
   "outputs": [
    {
     "data": {
      "text/plain": [
       "<selenium.webdriver.remote.webelement.WebElement (session=\"499916693a259cdcc377e7ee44c3f948\", element=\"47a95585-d24a-484d-9172-1b0be6d645ec\")>"
      ]
     },
     "execution_count": 63,
     "metadata": {},
     "output_type": "execute_result"
    }
   ],
   "source": [
    "search_name=driver.find_element(By.XPATH,\"/html/body/div[1]/header/div/div[1]/div[2]/div/form/div[2]/div[1]/input\")\n",
    "search_name"
   ]
  },
  {
   "cell_type": "code",
   "execution_count": 64,
   "id": "7c02d6f5",
   "metadata": {},
   "outputs": [],
   "source": [
    "search_name.send_keys(\"Smart Watches\")"
   ]
  },
  {
   "cell_type": "code",
   "execution_count": 65,
   "id": "1d78c1a7",
   "metadata": {},
   "outputs": [
    {
     "data": {
      "text/plain": [
       "<selenium.webdriver.remote.webelement.WebElement (session=\"499916693a259cdcc377e7ee44c3f948\", element=\"4877f816-36af-410f-a8e0-a55c72181705\")>"
      ]
     },
     "execution_count": 65,
     "metadata": {},
     "output_type": "execute_result"
    }
   ],
   "source": [
    "search1=driver.find_element(By.XPATH,\"/html/body/div[1]/header/div/div[1]/div[2]/div/form/div[3]/div/span/input\")\n",
    "search1"
   ]
  },
  {
   "cell_type": "code",
   "execution_count": 66,
   "id": "3b4cc5cb",
   "metadata": {},
   "outputs": [],
   "source": [
    "search1.click()"
   ]
  },
  {
   "cell_type": "code",
   "execution_count": 67,
   "id": "89602d5b",
   "metadata": {},
   "outputs": [],
   "source": [
    "# scrape all product urls\n",
    "product_urls = []\n",
    "start=0\n",
    "end=9\n",
    "for page in range(start,end):#for loop for scrapping 3 page\n",
    "    url=driver.find_elements(By.XPATH,'//a[@class = \"a-link-normal s-underline-text s-underline-link-text s-link-style a-text-normal\"]')       #scraping urls\n",
    "    for i in url:\n",
    "        product_urls.append(i.get_attribute(\"href\"))                        #appending the urls in product_urls list\n",
    "    nxt_button=driver.find_element(By.XPATH,'//a[@class=\"s-pagination-item s-pagination-next s-pagination-button s-pagination-separator\"]')     #scraping the list of buttons from the page\n",
    "    nxt_button.click()\n",
    "    time.sleep(2)"
   ]
  },
  {
   "cell_type": "code",
   "execution_count": 68,
   "id": "31e095e2",
   "metadata": {},
   "outputs": [
    {
     "data": {
      "text/plain": [
       "202"
      ]
     },
     "execution_count": 68,
     "metadata": {},
     "output_type": "execute_result"
    }
   ],
   "source": [
    "len(product_urls)"
   ]
  },
  {
   "cell_type": "code",
   "execution_count": 69,
   "id": "dc79a6bc",
   "metadata": {},
   "outputs": [],
   "source": [
    "# blank list variables \n",
    "stars=[]\n",
    "complete_review=[]\n",
    "#time.sleep(2)\n",
    "\n",
    "for i in product_urls:\n",
    "    driver.get(i)\n",
    "    #for scrapping the number of stars\n",
    "    try:\n",
    "        for j in driver.find_elements(By.XPATH,'//span[@class=\"a-icon-alt\"]'):\n",
    "            stars.append(j.text)\n",
    "    except NoSuchElementException:\n",
    "            stars.append('-')\n",
    "    #for scrapping the short review\n",
    "    try:\n",
    "        for k in driver.find_elements(By.XPATH,\"//div[@class='a-row a-spacing-small review-data']/span/div/div[1]/span\"):\n",
    "            complete_review.append(k.text)\n",
    "    except NoSuchElementException:\n",
    "            complete_review.append('-')"
   ]
  },
  {
   "cell_type": "code",
   "execution_count": 70,
   "id": "094d6cdb",
   "metadata": {},
   "outputs": [
    {
     "name": "stdout",
     "output_type": "stream",
     "text": [
      "4529 1444\n"
     ]
    }
   ],
   "source": [
    "print(len(stars),len(complete_review))"
   ]
  },
  {
   "cell_type": "code",
   "execution_count": 71,
   "id": "c8dfbbf2",
   "metadata": {},
   "outputs": [
    {
     "data": {
      "text/html": [
       "<div>\n",
       "<style scoped>\n",
       "    .dataframe tbody tr th:only-of-type {\n",
       "        vertical-align: middle;\n",
       "    }\n",
       "\n",
       "    .dataframe tbody tr th {\n",
       "        vertical-align: top;\n",
       "    }\n",
       "\n",
       "    .dataframe thead th {\n",
       "        text-align: right;\n",
       "    }\n",
       "</style>\n",
       "<table border=\"1\" class=\"dataframe\">\n",
       "  <thead>\n",
       "    <tr style=\"text-align: right;\">\n",
       "      <th></th>\n",
       "      <th>stars</th>\n",
       "      <th>complete_review</th>\n",
       "    </tr>\n",
       "  </thead>\n",
       "  <tbody>\n",
       "    <tr>\n",
       "      <th>0</th>\n",
       "      <td></td>\n",
       "      <td>The watch is very much accurate, its more like...</td>\n",
       "    </tr>\n",
       "    <tr>\n",
       "      <th>1</th>\n",
       "      <td></td>\n",
       "      <td>Decent watch...... value for money..... if we ...</td>\n",
       "    </tr>\n",
       "    <tr>\n",
       "      <th>2</th>\n",
       "      <td></td>\n",
       "      <td>Nicely and safely packed\\nAll items was there ...</td>\n",
       "    </tr>\n",
       "    <tr>\n",
       "      <th>3</th>\n",
       "      <td></td>\n",
       "      <td>Good but if you want speaker and calling syste...</td>\n",
       "    </tr>\n",
       "    <tr>\n",
       "      <th>4</th>\n",
       "      <td></td>\n",
       "      <td>Best in class priced for the product, dial siz...</td>\n",
       "    </tr>\n",
       "    <tr>\n",
       "      <th>...</th>\n",
       "      <td>...</td>\n",
       "      <td>...</td>\n",
       "    </tr>\n",
       "    <tr>\n",
       "      <th>1439</th>\n",
       "      <td></td>\n",
       "      <td>Very handy watch, smart looking and with all f...</td>\n",
       "    </tr>\n",
       "    <tr>\n",
       "      <th>1440</th>\n",
       "      <td></td>\n",
       "      <td>Nice product with good feature.. Bluetooth cal...</td>\n",
       "    </tr>\n",
       "    <tr>\n",
       "      <th>1441</th>\n",
       "      <td></td>\n",
       "      <td>I really like this SmartWatch Because I get c...</td>\n",
       "    </tr>\n",
       "    <tr>\n",
       "      <th>1442</th>\n",
       "      <td></td>\n",
       "      <td>one the best smart watches I have ever bought....</td>\n",
       "    </tr>\n",
       "    <tr>\n",
       "      <th>1443</th>\n",
       "      <td></td>\n",
       "      <td>Awesome watch worth each and every penny… love...</td>\n",
       "    </tr>\n",
       "  </tbody>\n",
       "</table>\n",
       "<p>1444 rows × 2 columns</p>\n",
       "</div>"
      ],
      "text/plain": [
       "     stars                                    complete_review\n",
       "0           The watch is very much accurate, its more like...\n",
       "1           Decent watch...... value for money..... if we ...\n",
       "2           Nicely and safely packed\\nAll items was there ...\n",
       "3           Good but if you want speaker and calling syste...\n",
       "4           Best in class priced for the product, dial siz...\n",
       "...    ...                                                ...\n",
       "1439        Very handy watch, smart looking and with all f...\n",
       "1440        Nice product with good feature.. Bluetooth cal...\n",
       "1441         I really like this SmartWatch Because I get c...\n",
       "1442        one the best smart watches I have ever bought....\n",
       "1443        Awesome watch worth each and every penny… love...\n",
       "\n",
       "[1444 rows x 2 columns]"
      ]
     },
     "execution_count": 71,
     "metadata": {},
     "output_type": "execute_result"
    }
   ],
   "source": [
    "df=pd.DataFrame({'stars':stars[0:1444],'complete_review':complete_review[0:1444]})\n",
    "df"
   ]
  },
  {
   "cell_type": "code",
   "execution_count": 72,
   "id": "4ca1cb35",
   "metadata": {},
   "outputs": [],
   "source": [
    "df.to_csv(r'D:\\I\\02.Flip Robo Assignments\\01.Flip Robo Assignments\\12.Ratings Prediction Project\\Smart Watches.csv', index=False)"
   ]
  },
  {
   "cell_type": "code",
   "execution_count": null,
   "id": "8917c1ca",
   "metadata": {},
   "outputs": [],
   "source": []
  },
  {
   "cell_type": "code",
   "execution_count": null,
   "id": "3e5628ca",
   "metadata": {},
   "outputs": [],
   "source": []
  },
  {
   "cell_type": "code",
   "execution_count": 81,
   "id": "5174fbd7",
   "metadata": {},
   "outputs": [],
   "source": [
    "#For Monitors"
   ]
  },
  {
   "cell_type": "code",
   "execution_count": 82,
   "id": "e21306ee",
   "metadata": {},
   "outputs": [],
   "source": [
    "driver = webdriver.Chrome(r'C:\\Users\\COTMAC\\Downloads\\chromedriver_win32\\chromedriver.exe')"
   ]
  },
  {
   "cell_type": "code",
   "execution_count": 83,
   "id": "022c42b4",
   "metadata": {},
   "outputs": [],
   "source": [
    "driver.get(\"https://www.amazon.in/\")\n",
    "time.sleep(2)"
   ]
  },
  {
   "cell_type": "code",
   "execution_count": 84,
   "id": "94d9bffd",
   "metadata": {},
   "outputs": [
    {
     "data": {
      "text/plain": [
       "<selenium.webdriver.remote.webelement.WebElement (session=\"698d6b96dabc22c6c88b2b95f7a874c9\", element=\"f087cbc9-09fa-4f3e-a5b9-6cb71f0a629e\")>"
      ]
     },
     "execution_count": 84,
     "metadata": {},
     "output_type": "execute_result"
    }
   ],
   "source": [
    "search_name=driver.find_element(By.XPATH,\"/html/body/div[1]/header/div/div[1]/div[2]/div/form/div[2]/div[1]/input\")\n",
    "search_name"
   ]
  },
  {
   "cell_type": "code",
   "execution_count": 85,
   "id": "2a5473e7",
   "metadata": {},
   "outputs": [],
   "source": [
    "search_name.send_keys(\"Monitors\")"
   ]
  },
  {
   "cell_type": "code",
   "execution_count": 86,
   "id": "edf3a7bb",
   "metadata": {},
   "outputs": [
    {
     "data": {
      "text/plain": [
       "<selenium.webdriver.remote.webelement.WebElement (session=\"698d6b96dabc22c6c88b2b95f7a874c9\", element=\"ec2aaacd-4408-4609-8ebe-4ce039fb2992\")>"
      ]
     },
     "execution_count": 86,
     "metadata": {},
     "output_type": "execute_result"
    }
   ],
   "source": [
    "search1=driver.find_element(By.XPATH,\"/html/body/div[1]/header/div/div[1]/div[2]/div/form/div[3]/div/span/input\")\n",
    "search1"
   ]
  },
  {
   "cell_type": "code",
   "execution_count": 87,
   "id": "a3673060",
   "metadata": {},
   "outputs": [],
   "source": [
    "search1.click()"
   ]
  },
  {
   "cell_type": "code",
   "execution_count": 100,
   "id": "0df1402e",
   "metadata": {},
   "outputs": [],
   "source": [
    "# scrape all product urls\n",
    "product_urls = []\n",
    "start=0\n",
    "end=3\n",
    "for page in range(start,end):#for loop for scrapping 3 page\n",
    "    url=driver.find_elements(By.XPATH,'//a[@class = \"a-link-normal s-underline-text s-underline-link-text s-link-style a-text-normal\"]')       #scraping urls\n",
    "    for i in url:\n",
    "        product_urls.append(i.get_attribute(\"href\"))                        #appending the urls in product_urls list\n",
    "    nxt_button=driver.find_element(By.XPATH,'//a[@class=\"s-pagination-item s-pagination-next s-pagination-button s-pagination-separator\"]')     #scraping the list of buttons from the page\n",
    "    nxt_button.click()\n",
    "    time.sleep(2)"
   ]
  },
  {
   "cell_type": "code",
   "execution_count": 101,
   "id": "044d9c5c",
   "metadata": {},
   "outputs": [
    {
     "data": {
      "text/plain": [
       "55"
      ]
     },
     "execution_count": 101,
     "metadata": {},
     "output_type": "execute_result"
    }
   ],
   "source": [
    "len(product_urls)"
   ]
  },
  {
   "cell_type": "code",
   "execution_count": 102,
   "id": "8848ded2",
   "metadata": {},
   "outputs": [],
   "source": [
    "# blank list variables \n",
    "stars=[]\n",
    "complete_review=[]\n",
    "#time.sleep(2)\n",
    "\n",
    "for i in product_urls:\n",
    "    driver.get(i)\n",
    "    #for scrapping the number of stars\n",
    "    try:\n",
    "        for j in driver.find_elements(By.XPATH,'//span[@class=\"a-icon-alt\"]'):\n",
    "            stars.append(j.text)\n",
    "    except NoSuchElementException:\n",
    "            stars.append('-')\n",
    "    #for scrapping the short review\n",
    "    try:\n",
    "        for k in driver.find_elements(By.XPATH,\"//div[@class='a-row a-spacing-small review-data']/span/div/div[1]/span\"):\n",
    "            complete_review.append(k.text)\n",
    "    except NoSuchElementException:\n",
    "            complete_review.append('-')"
   ]
  },
  {
   "cell_type": "code",
   "execution_count": 103,
   "id": "c63b5f77",
   "metadata": {},
   "outputs": [
    {
     "name": "stdout",
     "output_type": "stream",
     "text": [
      "1196 450\n"
     ]
    }
   ],
   "source": [
    "print(len(stars),len(complete_review))"
   ]
  },
  {
   "cell_type": "code",
   "execution_count": 108,
   "id": "d6bb008c",
   "metadata": {},
   "outputs": [
    {
     "data": {
      "text/html": [
       "<div>\n",
       "<style scoped>\n",
       "    .dataframe tbody tr th:only-of-type {\n",
       "        vertical-align: middle;\n",
       "    }\n",
       "\n",
       "    .dataframe tbody tr th {\n",
       "        vertical-align: top;\n",
       "    }\n",
       "\n",
       "    .dataframe thead th {\n",
       "        text-align: right;\n",
       "    }\n",
       "</style>\n",
       "<table border=\"1\" class=\"dataframe\">\n",
       "  <thead>\n",
       "    <tr style=\"text-align: right;\">\n",
       "      <th></th>\n",
       "      <th>stars</th>\n",
       "      <th>complete_review</th>\n",
       "    </tr>\n",
       "  </thead>\n",
       "  <tbody>\n",
       "    <tr>\n",
       "      <th>0</th>\n",
       "      <td></td>\n",
       "      <td>I got this screen and using it over a week now...</td>\n",
       "    </tr>\n",
       "    <tr>\n",
       "      <th>1</th>\n",
       "      <td></td>\n",
       "      <td>This Product:\\n1. Came in a decent packaging a...</td>\n",
       "    </tr>\n",
       "    <tr>\n",
       "      <th>2</th>\n",
       "      <td></td>\n",
       "      <td>This is a lcd monitor. But there are branded m...</td>\n",
       "    </tr>\n",
       "    <tr>\n",
       "      <th>3</th>\n",
       "      <td></td>\n",
       "      <td>Decent and within budget</td>\n",
       "    </tr>\n",
       "    <tr>\n",
       "      <th>4</th>\n",
       "      <td></td>\n",
       "      <td>I am using a Display Port to HDMI adapter to c...</td>\n",
       "    </tr>\n",
       "    <tr>\n",
       "      <th>...</th>\n",
       "      <td>...</td>\n",
       "      <td>...</td>\n",
       "    </tr>\n",
       "    <tr>\n",
       "      <th>445</th>\n",
       "      <td></td>\n",
       "      <td>PRODUCT IS VERY GOOD</td>\n",
       "    </tr>\n",
       "    <tr>\n",
       "      <th>446</th>\n",
       "      <td></td>\n",
       "      <td>The picture quality is very good. But the whol...</td>\n",
       "    </tr>\n",
       "    <tr>\n",
       "      <th>447</th>\n",
       "      <td></td>\n",
       "      <td>———-Its a 4 days reviewz ———\\n\\nIts a good pur...</td>\n",
       "    </tr>\n",
       "    <tr>\n",
       "      <th>448</th>\n",
       "      <td></td>\n",
       "      <td>The screen was well-packaged, lightweight and ...</td>\n",
       "    </tr>\n",
       "    <tr>\n",
       "      <th>449</th>\n",
       "      <td></td>\n",
       "      <td>Day 1 review: I got this monitor as a second ...</td>\n",
       "    </tr>\n",
       "  </tbody>\n",
       "</table>\n",
       "<p>450 rows × 2 columns</p>\n",
       "</div>"
      ],
      "text/plain": [
       "    stars                                    complete_review\n",
       "0          I got this screen and using it over a week now...\n",
       "1          This Product:\\n1. Came in a decent packaging a...\n",
       "2          This is a lcd monitor. But there are branded m...\n",
       "3                                   Decent and within budget\n",
       "4          I am using a Display Port to HDMI adapter to c...\n",
       "..    ...                                                ...\n",
       "445                                     PRODUCT IS VERY GOOD\n",
       "446        The picture quality is very good. But the whol...\n",
       "447        ———-Its a 4 days reviewz ———\\n\\nIts a good pur...\n",
       "448        The screen was well-packaged, lightweight and ...\n",
       "449         Day 1 review: I got this monitor as a second ...\n",
       "\n",
       "[450 rows x 2 columns]"
      ]
     },
     "execution_count": 108,
     "metadata": {},
     "output_type": "execute_result"
    }
   ],
   "source": [
    "df=pd.DataFrame({'stars':stars[0:450],'complete_review':complete_review[0:450]})\n",
    "df"
   ]
  },
  {
   "cell_type": "code",
   "execution_count": 105,
   "id": "b82bb490",
   "metadata": {},
   "outputs": [],
   "source": [
    "df.to_csv(r'D:\\I\\02.Flip Robo Assignments\\01.Flip Robo Assignments\\12.Ratings Prediction Project\\Monitors.csv', index=False)"
   ]
  },
  {
   "cell_type": "code",
   "execution_count": null,
   "id": "e081e5df",
   "metadata": {},
   "outputs": [],
   "source": []
  },
  {
   "cell_type": "code",
   "execution_count": 106,
   "id": "386a63c5",
   "metadata": {},
   "outputs": [],
   "source": [
    "#For Printers"
   ]
  },
  {
   "cell_type": "code",
   "execution_count": 107,
   "id": "e79fdc4b",
   "metadata": {},
   "outputs": [],
   "source": [
    "driver = webdriver.Chrome(r'C:\\Users\\COTMAC\\Downloads\\chromedriver_win32\\chromedriver.exe')"
   ]
  },
  {
   "cell_type": "code",
   "execution_count": 109,
   "id": "3f1ae8d6",
   "metadata": {},
   "outputs": [],
   "source": [
    "driver.get(\"https://www.amazon.in/\")\n",
    "time.sleep(2)"
   ]
  },
  {
   "cell_type": "code",
   "execution_count": 110,
   "id": "e012b576",
   "metadata": {},
   "outputs": [
    {
     "data": {
      "text/plain": [
       "<selenium.webdriver.remote.webelement.WebElement (session=\"8263020652e1c003ca16544629c1a4ad\", element=\"e37aac7b-6a30-4d45-ae81-295df6e6632a\")>"
      ]
     },
     "execution_count": 110,
     "metadata": {},
     "output_type": "execute_result"
    }
   ],
   "source": [
    "search_name=driver.find_element(By.XPATH,\"/html/body/div[1]/header/div/div[1]/div[2]/div/form/div[2]/div[1]/input\")\n",
    "search_name"
   ]
  },
  {
   "cell_type": "code",
   "execution_count": 111,
   "id": "f25a6561",
   "metadata": {},
   "outputs": [],
   "source": [
    "search_name.send_keys(\"Printers\")"
   ]
  },
  {
   "cell_type": "code",
   "execution_count": 112,
   "id": "3dd00a5e",
   "metadata": {},
   "outputs": [
    {
     "data": {
      "text/plain": [
       "<selenium.webdriver.remote.webelement.WebElement (session=\"8263020652e1c003ca16544629c1a4ad\", element=\"5b4fd783-54ab-4013-8390-2026850dcee2\")>"
      ]
     },
     "execution_count": 112,
     "metadata": {},
     "output_type": "execute_result"
    }
   ],
   "source": [
    "search1=driver.find_element(By.XPATH,\"/html/body/div[1]/header/div/div[1]/div[2]/div/form/div[3]/div/span/input\")\n",
    "search1"
   ]
  },
  {
   "cell_type": "code",
   "execution_count": 113,
   "id": "33f92921",
   "metadata": {},
   "outputs": [],
   "source": [
    "search1.click()"
   ]
  },
  {
   "cell_type": "code",
   "execution_count": 114,
   "id": "9dcdd84a",
   "metadata": {},
   "outputs": [],
   "source": [
    "# scrape all product urls\n",
    "product_urls = []\n",
    "start=0\n",
    "end=10\n",
    "for page in range(start,end):#for loop for scrapping 3 page\n",
    "    url=driver.find_elements(By.XPATH,'//a[@class = \"a-link-normal s-underline-text s-underline-link-text s-link-style a-text-normal\"]')       #scraping urls\n",
    "    for i in url:\n",
    "        product_urls.append(i.get_attribute(\"href\"))                        #appending the urls in product_urls list\n",
    "    nxt_button=driver.find_element(By.XPATH,'//a[@class=\"s-pagination-item s-pagination-next s-pagination-button s-pagination-separator\"]')     #scraping the list of buttons from the page\n",
    "    nxt_button.click()\n",
    "    time.sleep(2)"
   ]
  },
  {
   "cell_type": "code",
   "execution_count": 115,
   "id": "dd7e762d",
   "metadata": {},
   "outputs": [
    {
     "data": {
      "text/plain": [
       "197"
      ]
     },
     "execution_count": 115,
     "metadata": {},
     "output_type": "execute_result"
    }
   ],
   "source": [
    "len(product_urls)"
   ]
  },
  {
   "cell_type": "code",
   "execution_count": 116,
   "id": "3b95e620",
   "metadata": {},
   "outputs": [],
   "source": [
    "# blank list variables \n",
    "stars=[]\n",
    "complete_review=[]\n",
    "#time.sleep(2)\n",
    "\n",
    "for i in product_urls:\n",
    "    driver.get(i)\n",
    "    #for scrapping the number of stars\n",
    "    try:\n",
    "        for j in driver.find_elements(By.XPATH,'//span[@class=\"a-icon-alt\"]'):\n",
    "            stars.append(j.text)\n",
    "    except NoSuchElementException:\n",
    "            stars.append('-')\n",
    "    #for scrapping the short review\n",
    "    try:\n",
    "        for k in driver.find_elements(By.XPATH,\"//div[@class='a-row a-spacing-small review-data']/span/div/div[1]/span\"):\n",
    "            complete_review.append(k.text)\n",
    "    except NoSuchElementException:\n",
    "            complete_review.append('-')"
   ]
  },
  {
   "cell_type": "code",
   "execution_count": 117,
   "id": "f8ec6423",
   "metadata": {},
   "outputs": [
    {
     "name": "stdout",
     "output_type": "stream",
     "text": [
      "3736 1280\n"
     ]
    }
   ],
   "source": [
    "print(len(stars),len(complete_review))"
   ]
  },
  {
   "cell_type": "code",
   "execution_count": 118,
   "id": "17de7a40",
   "metadata": {},
   "outputs": [
    {
     "data": {
      "text/html": [
       "<div>\n",
       "<style scoped>\n",
       "    .dataframe tbody tr th:only-of-type {\n",
       "        vertical-align: middle;\n",
       "    }\n",
       "\n",
       "    .dataframe tbody tr th {\n",
       "        vertical-align: top;\n",
       "    }\n",
       "\n",
       "    .dataframe thead th {\n",
       "        text-align: right;\n",
       "    }\n",
       "</style>\n",
       "<table border=\"1\" class=\"dataframe\">\n",
       "  <thead>\n",
       "    <tr style=\"text-align: right;\">\n",
       "      <th></th>\n",
       "      <th>stars</th>\n",
       "      <th>complete_review</th>\n",
       "    </tr>\n",
       "  </thead>\n",
       "  <tbody>\n",
       "    <tr>\n",
       "      <th>0</th>\n",
       "      <td></td>\n",
       "      <td>Everything is good except the speed of printin...</td>\n",
       "    </tr>\n",
       "    <tr>\n",
       "      <th>1</th>\n",
       "      <td></td>\n",
       "      <td>It is very good printer and print quality is a...</td>\n",
       "    </tr>\n",
       "    <tr>\n",
       "      <th>2</th>\n",
       "      <td></td>\n",
       "      <td>Very poor response from HP after buying this p...</td>\n",
       "    </tr>\n",
       "    <tr>\n",
       "      <th>3</th>\n",
       "      <td></td>\n",
       "      <td>Nice</td>\n",
       "    </tr>\n",
       "    <tr>\n",
       "      <th>4</th>\n",
       "      <td></td>\n",
       "      <td>So far so good. Its just been a week since it ...</td>\n",
       "    </tr>\n",
       "    <tr>\n",
       "      <th>...</th>\n",
       "      <td>...</td>\n",
       "      <td>...</td>\n",
       "    </tr>\n",
       "    <tr>\n",
       "      <th>1275</th>\n",
       "      <td></td>\n",
       "      <td>I have been a Brother printer user for about 1...</td>\n",
       "    </tr>\n",
       "    <tr>\n",
       "      <th>1276</th>\n",
       "      <td></td>\n",
       "      <td>First of all my reasons of buying this printer...</td>\n",
       "    </tr>\n",
       "    <tr>\n",
       "      <th>1277</th>\n",
       "      <td></td>\n",
       "      <td>Nice printing experience..</td>\n",
       "    </tr>\n",
       "    <tr>\n",
       "      <th>1278</th>\n",
       "      <td></td>\n",
       "      <td>I'm a lawyer and it seems perfect for my offic...</td>\n",
       "    </tr>\n",
       "    <tr>\n",
       "      <th>1279</th>\n",
       "      <td></td>\n",
       "      <td>likige proble having 1 month</td>\n",
       "    </tr>\n",
       "  </tbody>\n",
       "</table>\n",
       "<p>1280 rows × 2 columns</p>\n",
       "</div>"
      ],
      "text/plain": [
       "     stars                                    complete_review\n",
       "0           Everything is good except the speed of printin...\n",
       "1           It is very good printer and print quality is a...\n",
       "2           Very poor response from HP after buying this p...\n",
       "3                                                        Nice\n",
       "4           So far so good. Its just been a week since it ...\n",
       "...    ...                                                ...\n",
       "1275        I have been a Brother printer user for about 1...\n",
       "1276        First of all my reasons of buying this printer...\n",
       "1277                               Nice printing experience..\n",
       "1278        I'm a lawyer and it seems perfect for my offic...\n",
       "1279                             likige proble having 1 month\n",
       "\n",
       "[1280 rows x 2 columns]"
      ]
     },
     "execution_count": 118,
     "metadata": {},
     "output_type": "execute_result"
    }
   ],
   "source": [
    "df=pd.DataFrame({'stars':stars[0:1280],'complete_review':complete_review[0:1280]})\n",
    "df"
   ]
  },
  {
   "cell_type": "code",
   "execution_count": 119,
   "id": "752dcbbd",
   "metadata": {},
   "outputs": [],
   "source": [
    "df.to_csv(r'D:\\I\\02.Flip Robo Assignments\\01.Flip Robo Assignments\\12.Ratings Prediction Project\\Printers.csv', index=False)"
   ]
  },
  {
   "cell_type": "code",
   "execution_count": null,
   "id": "fd0165e6",
   "metadata": {},
   "outputs": [],
   "source": []
  },
  {
   "cell_type": "code",
   "execution_count": null,
   "id": "d1a9c951",
   "metadata": {},
   "outputs": [],
   "source": [
    "#For Laptop Flip kart"
   ]
  },
  {
   "cell_type": "code",
   "execution_count": 129,
   "id": "da991ec5",
   "metadata": {},
   "outputs": [],
   "source": [
    "driver = webdriver.Chrome(r'C:\\Users\\COTMAC\\Downloads\\chromedriver_win32\\chromedriver.exe')"
   ]
  },
  {
   "cell_type": "code",
   "execution_count": 130,
   "id": "3015918c",
   "metadata": {},
   "outputs": [],
   "source": [
    "driver.get(\"https://www.flipkart.com/\")\n",
    "time.sleep(2)"
   ]
  },
  {
   "cell_type": "code",
   "execution_count": 131,
   "id": "c3014bcf",
   "metadata": {},
   "outputs": [],
   "source": [
    "Laptop=driver.find_element(By.CLASS_NAME,\"_3704LK\")\n",
    "Laptop.send_keys('Laptop')\n",
    "\n",
    "pop_up=driver.find_element(By.XPATH,\"//button[@class='_2KpZ6l _2doB4z']\")\n",
    "pop_up.click()\n",
    "\n",
    "search=driver.find_element(By.CLASS_NAME,\"L0Z3Pu\")\n",
    "search.click()"
   ]
  },
  {
   "cell_type": "code",
   "execution_count": 132,
   "id": "fbdcd80c",
   "metadata": {},
   "outputs": [],
   "source": [
    "# scrape all product urls\n",
    "product_urls = []\n",
    "start=0\n",
    "end=10\n",
    "for page in range(start,end):#for loop for scrapping 3 page\n",
    "    url=driver.find_elements(By.XPATH,\"//a[@class='_1fQZEK']\")       #scraping urls\n",
    "    for i in url:\n",
    "        product_urls.append(i.get_attribute(\"href\"))                        #appending the urls in product_urls list\n",
    "    nxt_button=driver.find_element(By.XPATH,'//a[@class=\"_1LKTO3\"]')     #scraping the list of buttons from the page\n",
    "    nxt_button.click()\n",
    "    time.sleep(2)"
   ]
  },
  {
   "cell_type": "code",
   "execution_count": 133,
   "id": "829bb70f",
   "metadata": {},
   "outputs": [
    {
     "data": {
      "text/plain": [
       "240"
      ]
     },
     "execution_count": 133,
     "metadata": {},
     "output_type": "execute_result"
    }
   ],
   "source": [
    "len(product_urls)"
   ]
  },
  {
   "cell_type": "code",
   "execution_count": 134,
   "id": "5993a6b3",
   "metadata": {},
   "outputs": [],
   "source": [
    "# blank list variables \n",
    "stars=[]\n",
    "complete_review=[]\n",
    "#time.sleep(2)\n",
    "\n",
    "for i in product_urls:\n",
    "    driver.get(i)\n",
    "    #for scrapping the number of stars\n",
    "    try:\n",
    "        #for j in driver.find_elements(By.XPATH,'//span[@class=\"a-icon-alt\"]'):\n",
    "        for j in driver.find_elements(By.XPATH,'//div[@class=\"_3LWZlK\"]'):    \n",
    "            stars.append(j.text)\n",
    "    except NoSuchElementException:\n",
    "            stars.append('-')\n",
    "    #for scrapping the short review\n",
    "    try:\n",
    "        for k in driver.find_elements(By.XPATH,\"//div[@class='t-ZTKy']/div/div\"):\n",
    "            complete_review.append(k.text)\n",
    "    except NoSuchElementException:\n",
    "            complete_review.append('-')"
   ]
  },
  {
   "cell_type": "code",
   "execution_count": 135,
   "id": "24dff264",
   "metadata": {},
   "outputs": [
    {
     "name": "stdout",
     "output_type": "stream",
     "text": [
      "904 2060\n"
     ]
    }
   ],
   "source": [
    "print(len(stars),len(complete_review))"
   ]
  },
  {
   "cell_type": "code",
   "execution_count": 136,
   "id": "6b4553ab",
   "metadata": {},
   "outputs": [
    {
     "data": {
      "text/html": [
       "<div>\n",
       "<style scoped>\n",
       "    .dataframe tbody tr th:only-of-type {\n",
       "        vertical-align: middle;\n",
       "    }\n",
       "\n",
       "    .dataframe tbody tr th {\n",
       "        vertical-align: top;\n",
       "    }\n",
       "\n",
       "    .dataframe thead th {\n",
       "        text-align: right;\n",
       "    }\n",
       "</style>\n",
       "<table border=\"1\" class=\"dataframe\">\n",
       "  <thead>\n",
       "    <tr style=\"text-align: right;\">\n",
       "      <th></th>\n",
       "      <th>stars</th>\n",
       "      <th>complete_review</th>\n",
       "    </tr>\n",
       "  </thead>\n",
       "  <tbody>\n",
       "    <tr>\n",
       "      <th>0</th>\n",
       "      <td>4.6</td>\n",
       "      <td>Bought this product a couple of days back and ...</td>\n",
       "    </tr>\n",
       "    <tr>\n",
       "      <th>1</th>\n",
       "      <td>4.6</td>\n",
       "      <td>Everything is good as per the specification.\\n...</td>\n",
       "    </tr>\n",
       "    <tr>\n",
       "      <th>2</th>\n",
       "      <td>4</td>\n",
       "      <td>Mine gives 5-6hrs of battery backup under norm...</td>\n",
       "    </tr>\n",
       "    <tr>\n",
       "      <th>3</th>\n",
       "      <td>4.3</td>\n",
       "      <td></td>\n",
       "    </tr>\n",
       "    <tr>\n",
       "      <th>4</th>\n",
       "      <td>4.3</td>\n",
       "      <td></td>\n",
       "    </tr>\n",
       "    <tr>\n",
       "      <th>...</th>\n",
       "      <td>...</td>\n",
       "      <td>...</td>\n",
       "    </tr>\n",
       "    <tr>\n",
       "      <th>895</th>\n",
       "      <td>4</td>\n",
       "      <td>Very nice product</td>\n",
       "    </tr>\n",
       "    <tr>\n",
       "      <th>896</th>\n",
       "      <td>4.2</td>\n",
       "      <td></td>\n",
       "    </tr>\n",
       "    <tr>\n",
       "      <th>897</th>\n",
       "      <td>4.2</td>\n",
       "      <td></td>\n",
       "    </tr>\n",
       "    <tr>\n",
       "      <th>898</th>\n",
       "      <td>4.1</td>\n",
       "      <td></td>\n",
       "    </tr>\n",
       "    <tr>\n",
       "      <th>899</th>\n",
       "      <td>4.2</td>\n",
       "      <td></td>\n",
       "    </tr>\n",
       "  </tbody>\n",
       "</table>\n",
       "<p>900 rows × 2 columns</p>\n",
       "</div>"
      ],
      "text/plain": [
       "    stars                                    complete_review\n",
       "0     4.6  Bought this product a couple of days back and ...\n",
       "1     4.6  Everything is good as per the specification.\\n...\n",
       "2       4  Mine gives 5-6hrs of battery backup under norm...\n",
       "3     4.3                                                   \n",
       "4     4.3                                                   \n",
       "..    ...                                                ...\n",
       "895     4                                  Very nice product\n",
       "896   4.2                                                   \n",
       "897   4.2                                                   \n",
       "898   4.1                                                   \n",
       "899   4.2                                                   \n",
       "\n",
       "[900 rows x 2 columns]"
      ]
     },
     "execution_count": 136,
     "metadata": {},
     "output_type": "execute_result"
    }
   ],
   "source": [
    "df=pd.DataFrame({'stars':stars[0:900],'complete_review':complete_review[0:900]})\n",
    "df"
   ]
  },
  {
   "cell_type": "code",
   "execution_count": 137,
   "id": "9bec66a3",
   "metadata": {},
   "outputs": [],
   "source": [
    "df.to_csv(r'D:\\I\\02.Flip Robo Assignments\\01.Flip Robo Assignments\\12.Ratings Prediction Project\\Flipkart_Laptop.csv', index=False)"
   ]
  },
  {
   "cell_type": "code",
   "execution_count": null,
   "id": "b502f26b",
   "metadata": {},
   "outputs": [],
   "source": []
  },
  {
   "cell_type": "code",
   "execution_count": 138,
   "id": "fb0de0e4",
   "metadata": {},
   "outputs": [],
   "source": [
    "#FlipKart Phones"
   ]
  },
  {
   "cell_type": "code",
   "execution_count": 139,
   "id": "230e1638",
   "metadata": {},
   "outputs": [],
   "source": [
    "driver = webdriver.Chrome(r'C:\\Users\\COTMAC\\Downloads\\chromedriver_win32\\chromedriver.exe')"
   ]
  },
  {
   "cell_type": "code",
   "execution_count": 140,
   "id": "a6cd28c7",
   "metadata": {},
   "outputs": [],
   "source": [
    "driver.get(\"https://www.flipkart.com/\")\n",
    "time.sleep(2)"
   ]
  },
  {
   "cell_type": "code",
   "execution_count": 141,
   "id": "4f4fb5c2",
   "metadata": {},
   "outputs": [],
   "source": [
    "Laptop=driver.find_element(By.CLASS_NAME,\"_3704LK\")\n",
    "Laptop.send_keys('Phones')\n",
    "\n",
    "pop_up=driver.find_element(By.XPATH,\"//button[@class='_2KpZ6l _2doB4z']\")\n",
    "pop_up.click()\n",
    "\n",
    "search=driver.find_element(By.CLASS_NAME,\"L0Z3Pu\")\n",
    "search.click()"
   ]
  },
  {
   "cell_type": "code",
   "execution_count": 142,
   "id": "8ceb2547",
   "metadata": {},
   "outputs": [],
   "source": [
    "# scrape all product urls\n",
    "product_urls = []\n",
    "start=0\n",
    "end=10\n",
    "for page in range(start,end):#for loop for scrapping 3 page\n",
    "    url=driver.find_elements(By.XPATH,\"//a[@class='_1fQZEK']\")       #scraping urls\n",
    "    for i in url:\n",
    "        product_urls.append(i.get_attribute(\"href\"))                        #appending the urls in product_urls list\n",
    "    nxt_button=driver.find_element(By.XPATH,'//a[@class=\"_1LKTO3\"]')     #scraping the list of buttons from the page\n",
    "    nxt_button.click()\n",
    "    time.sleep(2)"
   ]
  },
  {
   "cell_type": "code",
   "execution_count": 143,
   "id": "9002fe4b",
   "metadata": {},
   "outputs": [
    {
     "data": {
      "text/plain": [
       "240"
      ]
     },
     "execution_count": 143,
     "metadata": {},
     "output_type": "execute_result"
    }
   ],
   "source": [
    "len(product_urls)"
   ]
  },
  {
   "cell_type": "code",
   "execution_count": 144,
   "id": "dc8a3579",
   "metadata": {},
   "outputs": [],
   "source": [
    "# blank list variables \n",
    "stars=[]\n",
    "complete_review=[]\n",
    "#time.sleep(2)\n",
    "\n",
    "for i in product_urls:\n",
    "    driver.get(i)\n",
    "    #for scrapping the number of stars\n",
    "    try:\n",
    "        #for j in driver.find_elements(By.XPATH,'//span[@class=\"a-icon-alt\"]'):\n",
    "        for j in driver.find_elements(By.XPATH,'//div[@class=\"_3LWZlK\"]'):    \n",
    "            stars.append(j.text)\n",
    "    except NoSuchElementException:\n",
    "            stars.append('-')\n",
    "    #for scrapping the short review\n",
    "    try:\n",
    "        for k in driver.find_elements(By.XPATH,\"//div[@class='t-ZTKy']/div/div\"):\n",
    "            complete_review.append(k.text)\n",
    "    except NoSuchElementException:\n",
    "            complete_review.append('-')"
   ]
  },
  {
   "cell_type": "code",
   "execution_count": 145,
   "id": "a21e6821",
   "metadata": {},
   "outputs": [
    {
     "name": "stdout",
     "output_type": "stream",
     "text": [
      "929 2395\n"
     ]
    }
   ],
   "source": [
    "print(len(stars),len(complete_review))"
   ]
  },
  {
   "cell_type": "code",
   "execution_count": 146,
   "id": "741b454e",
   "metadata": {},
   "outputs": [
    {
     "data": {
      "text/html": [
       "<div>\n",
       "<style scoped>\n",
       "    .dataframe tbody tr th:only-of-type {\n",
       "        vertical-align: middle;\n",
       "    }\n",
       "\n",
       "    .dataframe tbody tr th {\n",
       "        vertical-align: top;\n",
       "    }\n",
       "\n",
       "    .dataframe thead th {\n",
       "        text-align: right;\n",
       "    }\n",
       "</style>\n",
       "<table border=\"1\" class=\"dataframe\">\n",
       "  <thead>\n",
       "    <tr style=\"text-align: right;\">\n",
       "      <th></th>\n",
       "      <th>stars</th>\n",
       "      <th>complete_review</th>\n",
       "    </tr>\n",
       "  </thead>\n",
       "  <tbody>\n",
       "    <tr>\n",
       "      <th>0</th>\n",
       "      <td>4.4</td>\n",
       "      <td>Mobile is fine and satisfied for all but i thi...</td>\n",
       "    </tr>\n",
       "    <tr>\n",
       "      <th>1</th>\n",
       "      <td>4.4</td>\n",
       "      <td>Good phone for the price\\nDisplay is average\\n...</td>\n",
       "    </tr>\n",
       "    <tr>\n",
       "      <th>2</th>\n",
       "      <td>4.4</td>\n",
       "      <td>Very fast delivery battery backup is good came...</td>\n",
       "    </tr>\n",
       "    <tr>\n",
       "      <th>3</th>\n",
       "      <td>4.1</td>\n",
       "      <td></td>\n",
       "    </tr>\n",
       "    <tr>\n",
       "      <th>4</th>\n",
       "      <td>4.4</td>\n",
       "      <td></td>\n",
       "    </tr>\n",
       "    <tr>\n",
       "      <th>...</th>\n",
       "      <td>...</td>\n",
       "      <td>...</td>\n",
       "    </tr>\n",
       "    <tr>\n",
       "      <th>895</th>\n",
       "      <td>3.3</td>\n",
       "      <td></td>\n",
       "    </tr>\n",
       "    <tr>\n",
       "      <th>896</th>\n",
       "      <td>4.5</td>\n",
       "      <td></td>\n",
       "    </tr>\n",
       "    <tr>\n",
       "      <th>897</th>\n",
       "      <td>4.5</td>\n",
       "      <td></td>\n",
       "    </tr>\n",
       "    <tr>\n",
       "      <th>898</th>\n",
       "      <td>4.5</td>\n",
       "      <td>Balanced Phone!\\nNot so good not so bad!\\nBatt...</td>\n",
       "    </tr>\n",
       "    <tr>\n",
       "      <th>899</th>\n",
       "      <td>3.9</td>\n",
       "      <td>Very much attractive at this price... love to ...</td>\n",
       "    </tr>\n",
       "  </tbody>\n",
       "</table>\n",
       "<p>900 rows × 2 columns</p>\n",
       "</div>"
      ],
      "text/plain": [
       "    stars                                    complete_review\n",
       "0     4.4  Mobile is fine and satisfied for all but i thi...\n",
       "1     4.4  Good phone for the price\\nDisplay is average\\n...\n",
       "2     4.4  Very fast delivery battery backup is good came...\n",
       "3     4.1                                                   \n",
       "4     4.4                                                   \n",
       "..    ...                                                ...\n",
       "895   3.3                                                   \n",
       "896   4.5                                                   \n",
       "897   4.5                                                   \n",
       "898   4.5  Balanced Phone!\\nNot so good not so bad!\\nBatt...\n",
       "899   3.9  Very much attractive at this price... love to ...\n",
       "\n",
       "[900 rows x 2 columns]"
      ]
     },
     "execution_count": 146,
     "metadata": {},
     "output_type": "execute_result"
    }
   ],
   "source": [
    "df=pd.DataFrame({'stars':stars[0:900],'complete_review':complete_review[0:900]})\n",
    "df"
   ]
  },
  {
   "cell_type": "code",
   "execution_count": 147,
   "id": "e3476f65",
   "metadata": {},
   "outputs": [],
   "source": [
    "df.to_csv(r'D:\\I\\02.Flip Robo Assignments\\01.Flip Robo Assignments\\12.Ratings Prediction Project\\Flipkart_Phones.csv', index=False)"
   ]
  },
  {
   "cell_type": "code",
   "execution_count": null,
   "id": "4defad98",
   "metadata": {},
   "outputs": [],
   "source": []
  },
  {
   "cell_type": "code",
   "execution_count": 148,
   "id": "c1593e98",
   "metadata": {},
   "outputs": [],
   "source": [
    "#FlipKart Headphones"
   ]
  },
  {
   "cell_type": "code",
   "execution_count": 149,
   "id": "6590b7b0",
   "metadata": {},
   "outputs": [],
   "source": [
    "driver = webdriver.Chrome(r'C:\\Users\\COTMAC\\Downloads\\chromedriver_win32\\chromedriver.exe')"
   ]
  },
  {
   "cell_type": "code",
   "execution_count": 150,
   "id": "7b866fc1",
   "metadata": {},
   "outputs": [],
   "source": [
    "driver.get(\"https://www.flipkart.com/\")\n",
    "time.sleep(2)"
   ]
  },
  {
   "cell_type": "code",
   "execution_count": 151,
   "id": "c4ac4d03",
   "metadata": {},
   "outputs": [],
   "source": [
    "Laptop=driver.find_element(By.CLASS_NAME,\"_3704LK\")\n",
    "Laptop.send_keys('Headphones')\n",
    "\n",
    "pop_up=driver.find_element(By.XPATH,\"//button[@class='_2KpZ6l _2doB4z']\")\n",
    "pop_up.click()\n",
    "\n",
    "search=driver.find_element(By.CLASS_NAME,\"L0Z3Pu\")\n",
    "search.click()"
   ]
  },
  {
   "cell_type": "code",
   "execution_count": 163,
   "id": "b975939f",
   "metadata": {},
   "outputs": [],
   "source": [
    "# scrape all product urls\n",
    "product_urls = []\n",
    "start=0\n",
    "end=4\n",
    "for page in range(start,end):#for loop for scrapping 3 page\n",
    "    url=driver.find_elements(By.XPATH,\"//a[@class='s1Q9rs']\")       #scraping urls\n",
    "    for i in url:\n",
    "        product_urls.append(i.get_attribute(\"href\"))                        #appending the urls in product_urls list\n",
    "    nxt_button=driver.find_element(By.XPATH,'//a[@class=\"_1LKTO3\"]')     #scraping the list of buttons from the page\n",
    "    nxt_button.click()\n",
    "    time.sleep(2)"
   ]
  },
  {
   "cell_type": "code",
   "execution_count": 165,
   "id": "f0e73559",
   "metadata": {},
   "outputs": [
    {
     "data": {
      "text/plain": [
       "160"
      ]
     },
     "execution_count": 165,
     "metadata": {},
     "output_type": "execute_result"
    }
   ],
   "source": [
    "len(product_urls)"
   ]
  },
  {
   "cell_type": "code",
   "execution_count": 166,
   "id": "0abe1dcd",
   "metadata": {},
   "outputs": [],
   "source": [
    "# blank list variables \n",
    "stars=[]\n",
    "complete_review=[]\n",
    "#time.sleep(2)\n",
    "\n",
    "for i in product_urls:\n",
    "    driver.get(i)\n",
    "    #for scrapping the number of stars\n",
    "    try:\n",
    "        #for j in driver.find_elements(By.XPATH,'//span[@class=\"a-icon-alt\"]'):\n",
    "        for j in driver.find_elements(By.XPATH,'//div[@class=\"_3LWZlK\"]'):    \n",
    "            stars.append(j.text)\n",
    "    except NoSuchElementException:\n",
    "            stars.append('-')\n",
    "    #for scrapping the short review\n",
    "    try:\n",
    "        for k in driver.find_elements(By.XPATH,\"//div[@class='t-ZTKy']/div/div\"):\n",
    "            complete_review.append(k.text)\n",
    "    except NoSuchElementException:\n",
    "            complete_review.append('-')"
   ]
  },
  {
   "cell_type": "code",
   "execution_count": 167,
   "id": "2a64030d",
   "metadata": {},
   "outputs": [
    {
     "name": "stdout",
     "output_type": "stream",
     "text": [
      "539 1550\n"
     ]
    }
   ],
   "source": [
    "print(len(stars),len(complete_review))"
   ]
  },
  {
   "cell_type": "code",
   "execution_count": 168,
   "id": "88b7f296",
   "metadata": {},
   "outputs": [
    {
     "data": {
      "text/html": [
       "<div>\n",
       "<style scoped>\n",
       "    .dataframe tbody tr th:only-of-type {\n",
       "        vertical-align: middle;\n",
       "    }\n",
       "\n",
       "    .dataframe tbody tr th {\n",
       "        vertical-align: top;\n",
       "    }\n",
       "\n",
       "    .dataframe thead th {\n",
       "        text-align: right;\n",
       "    }\n",
       "</style>\n",
       "<table border=\"1\" class=\"dataframe\">\n",
       "  <thead>\n",
       "    <tr style=\"text-align: right;\">\n",
       "      <th></th>\n",
       "      <th>stars</th>\n",
       "      <th>complete_review</th>\n",
       "    </tr>\n",
       "  </thead>\n",
       "  <tbody>\n",
       "    <tr>\n",
       "      <th>0</th>\n",
       "      <td>3.8</td>\n",
       "      <td>Best sound and best quality light weight very ...</td>\n",
       "    </tr>\n",
       "    <tr>\n",
       "      <th>1</th>\n",
       "      <td>3.8</td>\n",
       "      <td>BEST PRICE super good quality very happy 😊😊😊😊 ...</td>\n",
       "    </tr>\n",
       "    <tr>\n",
       "      <th>2</th>\n",
       "      <td>4</td>\n",
       "      <td>The neckband is good for value for money but t...</td>\n",
       "    </tr>\n",
       "    <tr>\n",
       "      <th>3</th>\n",
       "      <td>3.8</td>\n",
       "      <td></td>\n",
       "    </tr>\n",
       "    <tr>\n",
       "      <th>4</th>\n",
       "      <td>3.5</td>\n",
       "      <td></td>\n",
       "    </tr>\n",
       "    <tr>\n",
       "      <th>...</th>\n",
       "      <td>...</td>\n",
       "      <td>...</td>\n",
       "    </tr>\n",
       "    <tr>\n",
       "      <th>534</th>\n",
       "      <td>3.9</td>\n",
       "      <td></td>\n",
       "    </tr>\n",
       "    <tr>\n",
       "      <th>535</th>\n",
       "      <td>3.8</td>\n",
       "      <td></td>\n",
       "    </tr>\n",
       "    <tr>\n",
       "      <th>536</th>\n",
       "      <td>3.9</td>\n",
       "      <td></td>\n",
       "    </tr>\n",
       "    <tr>\n",
       "      <th>537</th>\n",
       "      <td>3.9</td>\n",
       "      <td></td>\n",
       "    </tr>\n",
       "    <tr>\n",
       "      <th>538</th>\n",
       "      <td>3.7</td>\n",
       "      <td></td>\n",
       "    </tr>\n",
       "  </tbody>\n",
       "</table>\n",
       "<p>539 rows × 2 columns</p>\n",
       "</div>"
      ],
      "text/plain": [
       "    stars                                    complete_review\n",
       "0     3.8  Best sound and best quality light weight very ...\n",
       "1     3.8  BEST PRICE super good quality very happy 😊😊😊😊 ...\n",
       "2       4  The neckband is good for value for money but t...\n",
       "3     3.8                                                   \n",
       "4     3.5                                                   \n",
       "..    ...                                                ...\n",
       "534   3.9                                                   \n",
       "535   3.8                                                   \n",
       "536   3.9                                                   \n",
       "537   3.9                                                   \n",
       "538   3.7                                                   \n",
       "\n",
       "[539 rows x 2 columns]"
      ]
     },
     "execution_count": 168,
     "metadata": {},
     "output_type": "execute_result"
    }
   ],
   "source": [
    "df=pd.DataFrame({'stars':stars[0:539],'complete_review':complete_review[0:539]})\n",
    "df"
   ]
  },
  {
   "cell_type": "code",
   "execution_count": 169,
   "id": "766220b8",
   "metadata": {},
   "outputs": [],
   "source": [
    "df.to_csv(r'D:\\I\\02.Flip Robo Assignments\\01.Flip Robo Assignments\\12.Ratings Prediction Project\\Flipkart_Headphones.csv', index=False)"
   ]
  },
  {
   "cell_type": "code",
   "execution_count": null,
   "id": "e517884e",
   "metadata": {},
   "outputs": [],
   "source": []
  },
  {
   "cell_type": "code",
   "execution_count": 170,
   "id": "d5b221d3",
   "metadata": {},
   "outputs": [],
   "source": [
    "#For Smart watches Flip kart"
   ]
  },
  {
   "cell_type": "code",
   "execution_count": 171,
   "id": "a5065e93",
   "metadata": {},
   "outputs": [],
   "source": [
    "driver = webdriver.Chrome(r'C:\\Users\\COTMAC\\Downloads\\chromedriver_win32\\chromedriver.exe')"
   ]
  },
  {
   "cell_type": "code",
   "execution_count": 172,
   "id": "c84ff5bc",
   "metadata": {},
   "outputs": [],
   "source": [
    "driver.get(\"https://www.flipkart.com/\")\n",
    "time.sleep(2)"
   ]
  },
  {
   "cell_type": "code",
   "execution_count": 173,
   "id": "a72f13be",
   "metadata": {},
   "outputs": [],
   "source": [
    "Laptop=driver.find_element(By.CLASS_NAME,\"_3704LK\")\n",
    "Laptop.send_keys('Smart Watches')\n",
    "\n",
    "pop_up=driver.find_element(By.XPATH,\"//button[@class='_2KpZ6l _2doB4z']\")\n",
    "pop_up.click()\n",
    "\n",
    "search=driver.find_element(By.CLASS_NAME,\"L0Z3Pu\")\n",
    "search.click()"
   ]
  },
  {
   "cell_type": "code",
   "execution_count": 174,
   "id": "a2ac6df4",
   "metadata": {},
   "outputs": [],
   "source": [
    "# scrape all product urls\n",
    "product_urls = []\n",
    "start=0\n",
    "end=10\n",
    "for page in range(start,end):#for loop for scrapping 3 page\n",
    "    url=driver.find_elements(By.XPATH,\"//a[@class='_1fQZEK']\")       #scraping urls\n",
    "    for i in url:\n",
    "        product_urls.append(i.get_attribute(\"href\"))                        #appending the urls in product_urls list\n",
    "    nxt_button=driver.find_element(By.XPATH,'//a[@class=\"_1LKTO3\"]')     #scraping the list of buttons from the page\n",
    "    nxt_button.click()\n",
    "    time.sleep(2)"
   ]
  },
  {
   "cell_type": "code",
   "execution_count": 175,
   "id": "e9cb0e31",
   "metadata": {},
   "outputs": [
    {
     "data": {
      "text/plain": [
       "240"
      ]
     },
     "execution_count": 175,
     "metadata": {},
     "output_type": "execute_result"
    }
   ],
   "source": [
    "len(product_urls)"
   ]
  },
  {
   "cell_type": "code",
   "execution_count": 176,
   "id": "48abfff3",
   "metadata": {},
   "outputs": [],
   "source": [
    "# blank list variables \n",
    "stars=[]\n",
    "complete_review=[]\n",
    "#time.sleep(2)\n",
    "\n",
    "for i in product_urls:\n",
    "    driver.get(i)\n",
    "    #for scrapping the number of stars\n",
    "    try:\n",
    "        #for j in driver.find_elements(By.XPATH,'//span[@class=\"a-icon-alt\"]'):\n",
    "        for j in driver.find_elements(By.XPATH,'//div[@class=\"_3LWZlK\"]'):    \n",
    "            stars.append(j.text)\n",
    "    except NoSuchElementException:\n",
    "            stars.append('-')\n",
    "    #for scrapping the short review\n",
    "    try:\n",
    "        for k in driver.find_elements(By.XPATH,\"//div[@class='t-ZTKy']/div/div\"):\n",
    "            complete_review.append(k.text)\n",
    "    except NoSuchElementException:\n",
    "            complete_review.append('-')"
   ]
  },
  {
   "cell_type": "code",
   "execution_count": 177,
   "id": "626a6a2d",
   "metadata": {},
   "outputs": [
    {
     "name": "stdout",
     "output_type": "stream",
     "text": [
      "740 1750\n"
     ]
    }
   ],
   "source": [
    "print(len(stars),len(complete_review))"
   ]
  },
  {
   "cell_type": "code",
   "execution_count": 178,
   "id": "3d648310",
   "metadata": {},
   "outputs": [
    {
     "data": {
      "text/html": [
       "<div>\n",
       "<style scoped>\n",
       "    .dataframe tbody tr th:only-of-type {\n",
       "        vertical-align: middle;\n",
       "    }\n",
       "\n",
       "    .dataframe tbody tr th {\n",
       "        vertical-align: top;\n",
       "    }\n",
       "\n",
       "    .dataframe thead th {\n",
       "        text-align: right;\n",
       "    }\n",
       "</style>\n",
       "<table border=\"1\" class=\"dataframe\">\n",
       "  <thead>\n",
       "    <tr style=\"text-align: right;\">\n",
       "      <th></th>\n",
       "      <th>stars</th>\n",
       "      <th>complete_review</th>\n",
       "    </tr>\n",
       "  </thead>\n",
       "  <tbody>\n",
       "    <tr>\n",
       "      <th>0</th>\n",
       "      <td>3.6</td>\n",
       "      <td>Watch not working on the next day of delivery,...</td>\n",
       "    </tr>\n",
       "    <tr>\n",
       "      <th>1</th>\n",
       "      <td>3.6</td>\n",
       "      <td>Good quality.. And comfortable</td>\n",
       "    </tr>\n",
       "    <tr>\n",
       "      <th>2</th>\n",
       "      <td>3.9</td>\n",
       "      <td>very good</td>\n",
       "    </tr>\n",
       "    <tr>\n",
       "      <th>3</th>\n",
       "      <td>4.1</td>\n",
       "      <td></td>\n",
       "    </tr>\n",
       "    <tr>\n",
       "      <th>4</th>\n",
       "      <td>4.1</td>\n",
       "      <td></td>\n",
       "    </tr>\n",
       "    <tr>\n",
       "      <th>...</th>\n",
       "      <td>...</td>\n",
       "      <td>...</td>\n",
       "    </tr>\n",
       "    <tr>\n",
       "      <th>735</th>\n",
       "      <td>3.9</td>\n",
       "      <td></td>\n",
       "    </tr>\n",
       "    <tr>\n",
       "      <th>736</th>\n",
       "      <td>3</td>\n",
       "      <td></td>\n",
       "    </tr>\n",
       "    <tr>\n",
       "      <th>737</th>\n",
       "      <td>3.3</td>\n",
       "      <td></td>\n",
       "    </tr>\n",
       "    <tr>\n",
       "      <th>738</th>\n",
       "      <td>3.3</td>\n",
       "      <td></td>\n",
       "    </tr>\n",
       "    <tr>\n",
       "      <th>739</th>\n",
       "      <td>3.9</td>\n",
       "      <td></td>\n",
       "    </tr>\n",
       "  </tbody>\n",
       "</table>\n",
       "<p>740 rows × 2 columns</p>\n",
       "</div>"
      ],
      "text/plain": [
       "    stars                                    complete_review\n",
       "0     3.6  Watch not working on the next day of delivery,...\n",
       "1     3.6                     Good quality.. And comfortable\n",
       "2     3.9                                          very good\n",
       "3     4.1                                                   \n",
       "4     4.1                                                   \n",
       "..    ...                                                ...\n",
       "735   3.9                                                   \n",
       "736     3                                                   \n",
       "737   3.3                                                   \n",
       "738   3.3                                                   \n",
       "739   3.9                                                   \n",
       "\n",
       "[740 rows x 2 columns]"
      ]
     },
     "execution_count": 178,
     "metadata": {},
     "output_type": "execute_result"
    }
   ],
   "source": [
    "df=pd.DataFrame({'stars':stars[0:740],'complete_review':complete_review[0:740]})\n",
    "df"
   ]
  },
  {
   "cell_type": "code",
   "execution_count": 179,
   "id": "0c4d3c96",
   "metadata": {},
   "outputs": [],
   "source": [
    "df.to_csv(r'D:\\I\\02.Flip Robo Assignments\\01.Flip Robo Assignments\\12.Ratings Prediction Project\\Flipkart_Smart_Watches.csv', index=False)"
   ]
  },
  {
   "cell_type": "code",
   "execution_count": null,
   "id": "1ccc1dc5",
   "metadata": {},
   "outputs": [],
   "source": []
  },
  {
   "cell_type": "code",
   "execution_count": null,
   "id": "154c5cdb",
   "metadata": {},
   "outputs": [],
   "source": [
    "#Flipkart Monitors, Printers"
   ]
  },
  {
   "cell_type": "code",
   "execution_count": 180,
   "id": "00b93f71",
   "metadata": {},
   "outputs": [],
   "source": [
    "driver = webdriver.Chrome(r'C:\\Users\\COTMAC\\Downloads\\chromedriver_win32\\chromedriver.exe')"
   ]
  },
  {
   "cell_type": "code",
   "execution_count": 181,
   "id": "743c47d9",
   "metadata": {},
   "outputs": [],
   "source": [
    "driver.get(\"https://www.flipkart.com/\")\n",
    "time.sleep(2)"
   ]
  },
  {
   "cell_type": "code",
   "execution_count": 182,
   "id": "e2e7c33a",
   "metadata": {},
   "outputs": [],
   "source": [
    "Laptop=driver.find_element(By.CLASS_NAME,\"_3704LK\")\n",
    "Laptop.send_keys('Monitors')\n",
    "\n",
    "pop_up=driver.find_element(By.XPATH,\"//button[@class='_2KpZ6l _2doB4z']\")\n",
    "pop_up.click()\n",
    "\n",
    "search=driver.find_element(By.CLASS_NAME,\"L0Z3Pu\")\n",
    "search.click()"
   ]
  },
  {
   "cell_type": "code",
   "execution_count": 183,
   "id": "8389f774",
   "metadata": {},
   "outputs": [],
   "source": [
    "# scrape all product urls\n",
    "product_urls = []\n",
    "start=0\n",
    "end=10\n",
    "for page in range(start,end):#for loop for scrapping 3 page\n",
    "    url=driver.find_elements(By.XPATH,\"//a[@class='_1fQZEK']\")       #scraping urls\n",
    "    for i in url:\n",
    "        product_urls.append(i.get_attribute(\"href\"))                        #appending the urls in product_urls list\n",
    "    nxt_button=driver.find_element(By.XPATH,'//a[@class=\"_1LKTO3\"]')     #scraping the list of buttons from the page\n",
    "    nxt_button.click()\n",
    "    time.sleep(2)"
   ]
  },
  {
   "cell_type": "code",
   "execution_count": 184,
   "id": "b80165fc",
   "metadata": {},
   "outputs": [
    {
     "data": {
      "text/plain": [
       "240"
      ]
     },
     "execution_count": 184,
     "metadata": {},
     "output_type": "execute_result"
    }
   ],
   "source": [
    "len(product_urls)"
   ]
  },
  {
   "cell_type": "code",
   "execution_count": 185,
   "id": "ec5b2236",
   "metadata": {},
   "outputs": [
    {
     "data": {
      "text/plain": [
       "240"
      ]
     },
     "execution_count": 185,
     "metadata": {},
     "output_type": "execute_result"
    }
   ],
   "source": [
    "len(product_urls)"
   ]
  },
  {
   "cell_type": "code",
   "execution_count": 186,
   "id": "9b3dc750",
   "metadata": {},
   "outputs": [],
   "source": [
    "# blank list variables \n",
    "stars=[]\n",
    "complete_review=[]\n",
    "#time.sleep(2)\n",
    "\n",
    "for i in product_urls:\n",
    "    driver.get(i)\n",
    "    #for scrapping the number of stars\n",
    "    try:\n",
    "        #for j in driver.find_elements(By.XPATH,'//span[@class=\"a-icon-alt\"]'):\n",
    "        for j in driver.find_elements(By.XPATH,'//div[@class=\"_3LWZlK\"]'):    \n",
    "            stars.append(j.text)\n",
    "    except NoSuchElementException:\n",
    "            stars.append('-')\n",
    "    #for scrapping the short review\n",
    "    try:\n",
    "        for k in driver.find_elements(By.XPATH,\"//div[@class='t-ZTKy']/div/div\"):\n",
    "            complete_review.append(k.text)\n",
    "    except NoSuchElementException:\n",
    "            complete_review.append('-')"
   ]
  },
  {
   "cell_type": "code",
   "execution_count": 187,
   "id": "0f151469",
   "metadata": {},
   "outputs": [
    {
     "name": "stdout",
     "output_type": "stream",
     "text": [
      "873 1851\n"
     ]
    }
   ],
   "source": [
    "print(len(stars),len(complete_review))"
   ]
  },
  {
   "cell_type": "code",
   "execution_count": 188,
   "id": "bbd9a0ce",
   "metadata": {},
   "outputs": [
    {
     "data": {
      "text/html": [
       "<div>\n",
       "<style scoped>\n",
       "    .dataframe tbody tr th:only-of-type {\n",
       "        vertical-align: middle;\n",
       "    }\n",
       "\n",
       "    .dataframe tbody tr th {\n",
       "        vertical-align: top;\n",
       "    }\n",
       "\n",
       "    .dataframe thead th {\n",
       "        text-align: right;\n",
       "    }\n",
       "</style>\n",
       "<table border=\"1\" class=\"dataframe\">\n",
       "  <thead>\n",
       "    <tr style=\"text-align: right;\">\n",
       "      <th></th>\n",
       "      <th>stars</th>\n",
       "      <th>complete_review</th>\n",
       "    </tr>\n",
       "  </thead>\n",
       "  <tbody>\n",
       "    <tr>\n",
       "      <th>0</th>\n",
       "      <td>4.1</td>\n",
       "      <td>Worth it ,Good HD monitor fully happy satisfie...</td>\n",
       "    </tr>\n",
       "    <tr>\n",
       "      <th>1</th>\n",
       "      <td>4.1</td>\n",
       "      <td>Good-quality at affordable price. Excellent pi...</td>\n",
       "    </tr>\n",
       "    <tr>\n",
       "      <th>2</th>\n",
       "      <td>3.6</td>\n",
       "      <td>The product is really good at this price. The ...</td>\n",
       "    </tr>\n",
       "    <tr>\n",
       "      <th>3</th>\n",
       "      <td>4</td>\n",
       "      <td></td>\n",
       "    </tr>\n",
       "    <tr>\n",
       "      <th>4</th>\n",
       "      <td>4.4</td>\n",
       "      <td></td>\n",
       "    </tr>\n",
       "    <tr>\n",
       "      <th>...</th>\n",
       "      <td>...</td>\n",
       "      <td>...</td>\n",
       "    </tr>\n",
       "    <tr>\n",
       "      <th>865</th>\n",
       "      <td>4.6</td>\n",
       "      <td></td>\n",
       "    </tr>\n",
       "    <tr>\n",
       "      <th>866</th>\n",
       "      <td>4.6</td>\n",
       "      <td></td>\n",
       "    </tr>\n",
       "    <tr>\n",
       "      <th>867</th>\n",
       "      <td>4</td>\n",
       "      <td></td>\n",
       "    </tr>\n",
       "    <tr>\n",
       "      <th>868</th>\n",
       "      <td>4.4</td>\n",
       "      <td></td>\n",
       "    </tr>\n",
       "    <tr>\n",
       "      <th>869</th>\n",
       "      <td>4.1</td>\n",
       "      <td>Amazing product with great picture quality .. ...</td>\n",
       "    </tr>\n",
       "  </tbody>\n",
       "</table>\n",
       "<p>870 rows × 2 columns</p>\n",
       "</div>"
      ],
      "text/plain": [
       "    stars                                    complete_review\n",
       "0     4.1  Worth it ,Good HD monitor fully happy satisfie...\n",
       "1     4.1  Good-quality at affordable price. Excellent pi...\n",
       "2     3.6  The product is really good at this price. The ...\n",
       "3       4                                                   \n",
       "4     4.4                                                   \n",
       "..    ...                                                ...\n",
       "865   4.6                                                   \n",
       "866   4.6                                                   \n",
       "867     4                                                   \n",
       "868   4.4                                                   \n",
       "869   4.1  Amazing product with great picture quality .. ...\n",
       "\n",
       "[870 rows x 2 columns]"
      ]
     },
     "execution_count": 188,
     "metadata": {},
     "output_type": "execute_result"
    }
   ],
   "source": [
    "df=pd.DataFrame({'stars':stars[0:870],'complete_review':complete_review[0:870]})\n",
    "df"
   ]
  },
  {
   "cell_type": "code",
   "execution_count": 189,
   "id": "c97683ae",
   "metadata": {},
   "outputs": [],
   "source": [
    "df.to_csv(r'D:\\I\\02.Flip Robo Assignments\\01.Flip Robo Assignments\\12.Ratings Prediction Project\\Flipkart_Monitor.csv', index=False)"
   ]
  },
  {
   "cell_type": "code",
   "execution_count": 190,
   "id": "da38b828",
   "metadata": {},
   "outputs": [],
   "source": [
    "#For Flipkart Printers"
   ]
  },
  {
   "cell_type": "code",
   "execution_count": 191,
   "id": "f2d65339",
   "metadata": {},
   "outputs": [],
   "source": [
    "driver = webdriver.Chrome(r'C:\\Users\\COTMAC\\Downloads\\chromedriver_win32\\chromedriver.exe')"
   ]
  },
  {
   "cell_type": "code",
   "execution_count": 192,
   "id": "f8024cfc",
   "metadata": {},
   "outputs": [],
   "source": [
    "driver.get(\"https://www.flipkart.com/\")\n",
    "time.sleep(2)"
   ]
  },
  {
   "cell_type": "code",
   "execution_count": 193,
   "id": "cd536a24",
   "metadata": {},
   "outputs": [],
   "source": [
    "Laptop=driver.find_element(By.CLASS_NAME,\"_3704LK\")\n",
    "Laptop.send_keys('Printers')\n",
    "\n",
    "pop_up=driver.find_element(By.XPATH,\"//button[@class='_2KpZ6l _2doB4z']\")\n",
    "pop_up.click()\n",
    "\n",
    "search=driver.find_element(By.CLASS_NAME,\"L0Z3Pu\")\n",
    "search.click()"
   ]
  },
  {
   "cell_type": "code",
   "execution_count": 197,
   "id": "3b0ff35c",
   "metadata": {},
   "outputs": [],
   "source": [
    "# scrape all product urls\n",
    "product_urls = []\n",
    "start=0\n",
    "end=6\n",
    "for page in range(start,end):#for loop for scrapping 3 page\n",
    "    url=driver.find_elements(By.XPATH,\"//a[@class='s1Q9rs']\")       #scraping urls\n",
    "    for i in url:\n",
    "        product_urls.append(i.get_attribute(\"href\"))                        #appending the urls in product_urls list\n",
    "    nxt_button=driver.find_element(By.XPATH,'//a[@class=\"_1LKTO3\"]')     #scraping the list of buttons from the page\n",
    "    nxt_button.click()\n",
    "    time.sleep(2)"
   ]
  },
  {
   "cell_type": "code",
   "execution_count": 198,
   "id": "fb4ecafa",
   "metadata": {},
   "outputs": [
    {
     "data": {
      "text/plain": [
       "240"
      ]
     },
     "execution_count": 198,
     "metadata": {},
     "output_type": "execute_result"
    }
   ],
   "source": [
    "len(product_urls)"
   ]
  },
  {
   "cell_type": "code",
   "execution_count": 199,
   "id": "ca9e1311",
   "metadata": {},
   "outputs": [],
   "source": [
    "# blank list variables \n",
    "stars=[]\n",
    "complete_review=[]\n",
    "#time.sleep(2)\n",
    "\n",
    "for i in product_urls:\n",
    "    driver.get(i)\n",
    "    #for scrapping the number of stars\n",
    "    try:\n",
    "        #for j in driver.find_elements(By.XPATH,'//span[@class=\"a-icon-alt\"]'):\n",
    "        for j in driver.find_elements(By.XPATH,'//div[@class=\"_3LWZlK\"]'):    \n",
    "            stars.append(j.text)\n",
    "    except NoSuchElementException:\n",
    "            stars.append('-')\n",
    "    #for scrapping the short review\n",
    "    try:\n",
    "        for k in driver.find_elements(By.XPATH,\"//div[@class='t-ZTKy']/div/div\"):\n",
    "            complete_review.append(k.text)\n",
    "    except NoSuchElementException:\n",
    "            complete_review.append('-')"
   ]
  },
  {
   "cell_type": "code",
   "execution_count": 200,
   "id": "7d1034b4",
   "metadata": {},
   "outputs": [
    {
     "name": "stdout",
     "output_type": "stream",
     "text": [
      "848 1875\n"
     ]
    }
   ],
   "source": [
    "print(len(stars),len(complete_review))"
   ]
  },
  {
   "cell_type": "code",
   "execution_count": 201,
   "id": "3619181e",
   "metadata": {},
   "outputs": [
    {
     "data": {
      "text/html": [
       "<div>\n",
       "<style scoped>\n",
       "    .dataframe tbody tr th:only-of-type {\n",
       "        vertical-align: middle;\n",
       "    }\n",
       "\n",
       "    .dataframe tbody tr th {\n",
       "        vertical-align: top;\n",
       "    }\n",
       "\n",
       "    .dataframe thead th {\n",
       "        text-align: right;\n",
       "    }\n",
       "</style>\n",
       "<table border=\"1\" class=\"dataframe\">\n",
       "  <thead>\n",
       "    <tr style=\"text-align: right;\">\n",
       "      <th></th>\n",
       "      <th>stars</th>\n",
       "      <th>complete_review</th>\n",
       "    </tr>\n",
       "  </thead>\n",
       "  <tbody>\n",
       "    <tr>\n",
       "      <th>0</th>\n",
       "      <td>3.9</td>\n",
       "      <td>Well product is good as we all know canon prin...</td>\n",
       "    </tr>\n",
       "    <tr>\n",
       "      <th>1</th>\n",
       "      <td>3.9</td>\n",
       "      <td>Purchased this canon E-3370 printer a couple o...</td>\n",
       "    </tr>\n",
       "    <tr>\n",
       "      <th>2</th>\n",
       "      <td>4.3</td>\n",
       "      <td>Okay for general home use. Set up and usage is...</td>\n",
       "    </tr>\n",
       "    <tr>\n",
       "      <th>3</th>\n",
       "      <td>4</td>\n",
       "      <td></td>\n",
       "    </tr>\n",
       "    <tr>\n",
       "      <th>4</th>\n",
       "      <td>3.6</td>\n",
       "      <td></td>\n",
       "    </tr>\n",
       "    <tr>\n",
       "      <th>...</th>\n",
       "      <td>...</td>\n",
       "      <td>...</td>\n",
       "    </tr>\n",
       "    <tr>\n",
       "      <th>835</th>\n",
       "      <td>4.3</td>\n",
       "      <td>Product is not good. It doesn't print page as ...</td>\n",
       "    </tr>\n",
       "    <tr>\n",
       "      <th>836</th>\n",
       "      <td>4.5</td>\n",
       "      <td>Overall nice printer for less usage work</td>\n",
       "    </tr>\n",
       "    <tr>\n",
       "      <th>837</th>\n",
       "      <td>4.5</td>\n",
       "      <td>Very beautiful and workable printer love it....</td>\n",
       "    </tr>\n",
       "    <tr>\n",
       "      <th>838</th>\n",
       "      <td>3.7</td>\n",
       "      <td></td>\n",
       "    </tr>\n",
       "    <tr>\n",
       "      <th>839</th>\n",
       "      <td>4.3</td>\n",
       "      <td></td>\n",
       "    </tr>\n",
       "  </tbody>\n",
       "</table>\n",
       "<p>840 rows × 2 columns</p>\n",
       "</div>"
      ],
      "text/plain": [
       "    stars                                    complete_review\n",
       "0     3.9  Well product is good as we all know canon prin...\n",
       "1     3.9  Purchased this canon E-3370 printer a couple o...\n",
       "2     4.3  Okay for general home use. Set up and usage is...\n",
       "3       4                                                   \n",
       "4     3.6                                                   \n",
       "..    ...                                                ...\n",
       "835   4.3  Product is not good. It doesn't print page as ...\n",
       "836   4.5           Overall nice printer for less usage work\n",
       "837   4.5    Very beautiful and workable printer love it....\n",
       "838   3.7                                                   \n",
       "839   4.3                                                   \n",
       "\n",
       "[840 rows x 2 columns]"
      ]
     },
     "execution_count": 201,
     "metadata": {},
     "output_type": "execute_result"
    }
   ],
   "source": [
    "df=pd.DataFrame({'stars':stars[0:840],'complete_review':complete_review[0:840]})\n",
    "df"
   ]
  },
  {
   "cell_type": "code",
   "execution_count": 202,
   "id": "a59d2f72",
   "metadata": {},
   "outputs": [],
   "source": [
    "df.to_csv(r'D:\\I\\02.Flip Robo Assignments\\01.Flip Robo Assignments\\12.Ratings Prediction Project\\Flipkart_Printers.csv', index=False)"
   ]
  },
  {
   "cell_type": "code",
   "execution_count": 203,
   "id": "f25eaf23",
   "metadata": {},
   "outputs": [],
   "source": [
    "#For Home theater Flip kart"
   ]
  },
  {
   "cell_type": "code",
   "execution_count": 204,
   "id": "67783a76",
   "metadata": {},
   "outputs": [],
   "source": [
    "driver = webdriver.Chrome(r'C:\\Users\\COTMAC\\Downloads\\chromedriver_win32\\chromedriver.exe')"
   ]
  },
  {
   "cell_type": "code",
   "execution_count": 205,
   "id": "6682920f",
   "metadata": {},
   "outputs": [],
   "source": [
    "driver.get(\"https://www.flipkart.com/\")\n",
    "time.sleep(2)"
   ]
  },
  {
   "cell_type": "code",
   "execution_count": 206,
   "id": "d78025eb",
   "metadata": {},
   "outputs": [],
   "source": [
    "Laptop=driver.find_element(By.CLASS_NAME,\"_3704LK\")\n",
    "Laptop.send_keys('Home theater')\n",
    "\n",
    "pop_up=driver.find_element(By.XPATH,\"//button[@class='_2KpZ6l _2doB4z']\")\n",
    "pop_up.click()\n",
    "\n",
    "search=driver.find_element(By.CLASS_NAME,\"L0Z3Pu\")\n",
    "search.click()"
   ]
  },
  {
   "cell_type": "code",
   "execution_count": 209,
   "id": "8dcd8ef8",
   "metadata": {},
   "outputs": [],
   "source": [
    "# scrape all product urls\n",
    "product_urls = []\n",
    "start=0\n",
    "end=15\n",
    "for page in range(start,end):#for loop for scrapping 3 page\n",
    "    url=driver.find_elements(By.XPATH,\"//a[@class='s1Q9rs']\")       #scraping urls\n",
    "    for i in url:\n",
    "        product_urls.append(i.get_attribute(\"href\"))                        #appending the urls in product_urls list\n",
    "    nxt_button=driver.find_element(By.XPATH,'//a[@class=\"_1LKTO3\"]')     #scraping the list of buttons from the page\n",
    "    nxt_button.click()\n",
    "    time.sleep(2)"
   ]
  },
  {
   "cell_type": "code",
   "execution_count": 210,
   "id": "8bd4b95d",
   "metadata": {},
   "outputs": [
    {
     "data": {
      "text/plain": [
       "600"
      ]
     },
     "execution_count": 210,
     "metadata": {},
     "output_type": "execute_result"
    }
   ],
   "source": [
    "len(product_urls)"
   ]
  },
  {
   "cell_type": "code",
   "execution_count": 211,
   "id": "4a8303fb",
   "metadata": {},
   "outputs": [],
   "source": [
    "# blank list variables \n",
    "stars=[]\n",
    "complete_review=[]\n",
    "#time.sleep(2)\n",
    "\n",
    "for i in product_urls:\n",
    "    driver.get(i)\n",
    "    #for scrapping the number of stars\n",
    "    try:\n",
    "        #for j in driver.find_elements(By.XPATH,'//span[@class=\"a-icon-alt\"]'):\n",
    "        for j in driver.find_elements(By.XPATH,'//div[@class=\"_3LWZlK\"]'):    \n",
    "            stars.append(j.text)\n",
    "    except NoSuchElementException:\n",
    "            stars.append('-')\n",
    "    #for scrapping the short review\n",
    "    try:\n",
    "        for k in driver.find_elements(By.XPATH,\"//div[@class='t-ZTKy']/div/div\"):\n",
    "            complete_review.append(k.text)\n",
    "    except NoSuchElementException:\n",
    "            complete_review.append('-')"
   ]
  },
  {
   "cell_type": "code",
   "execution_count": 212,
   "id": "45083bcc",
   "metadata": {},
   "outputs": [
    {
     "name": "stdout",
     "output_type": "stream",
     "text": [
      "2149 4224\n"
     ]
    }
   ],
   "source": [
    "print(len(stars),len(complete_review))"
   ]
  },
  {
   "cell_type": "code",
   "execution_count": 213,
   "id": "9e9eac43",
   "metadata": {},
   "outputs": [
    {
     "data": {
      "text/html": [
       "<div>\n",
       "<style scoped>\n",
       "    .dataframe tbody tr th:only-of-type {\n",
       "        vertical-align: middle;\n",
       "    }\n",
       "\n",
       "    .dataframe tbody tr th {\n",
       "        vertical-align: top;\n",
       "    }\n",
       "\n",
       "    .dataframe thead th {\n",
       "        text-align: right;\n",
       "    }\n",
       "</style>\n",
       "<table border=\"1\" class=\"dataframe\">\n",
       "  <thead>\n",
       "    <tr style=\"text-align: right;\">\n",
       "      <th></th>\n",
       "      <th>stars</th>\n",
       "      <th>complete_review</th>\n",
       "    </tr>\n",
       "  </thead>\n",
       "  <tbody>\n",
       "    <tr>\n",
       "      <th>0</th>\n",
       "      <td>3.7</td>\n",
       "      <td>Bass is good bass is good sound quality is goo...</td>\n",
       "    </tr>\n",
       "    <tr>\n",
       "      <th>1</th>\n",
       "      <td>3.7</td>\n",
       "      <td>This is a very good hometator, its sound and b...</td>\n",
       "    </tr>\n",
       "    <tr>\n",
       "      <th>2</th>\n",
       "      <td>3.8</td>\n",
       "      <td>Op sound very pure sound but in full sound bas...</td>\n",
       "    </tr>\n",
       "    <tr>\n",
       "      <th>3</th>\n",
       "      <td>3.2</td>\n",
       "      <td></td>\n",
       "    </tr>\n",
       "    <tr>\n",
       "      <th>4</th>\n",
       "      <td>4.1</td>\n",
       "      <td></td>\n",
       "    </tr>\n",
       "    <tr>\n",
       "      <th>...</th>\n",
       "      <td>...</td>\n",
       "      <td>...</td>\n",
       "    </tr>\n",
       "    <tr>\n",
       "      <th>2144</th>\n",
       "      <td>4.1</td>\n",
       "      <td></td>\n",
       "    </tr>\n",
       "    <tr>\n",
       "      <th>2145</th>\n",
       "      <td>3.8</td>\n",
       "      <td></td>\n",
       "    </tr>\n",
       "    <tr>\n",
       "      <th>2146</th>\n",
       "      <td>3.8</td>\n",
       "      <td></td>\n",
       "    </tr>\n",
       "    <tr>\n",
       "      <th>2147</th>\n",
       "      <td>3.9</td>\n",
       "      <td></td>\n",
       "    </tr>\n",
       "    <tr>\n",
       "      <th>2148</th>\n",
       "      <td>3.2</td>\n",
       "      <td>bass like boom boom is very good sound I like it</td>\n",
       "    </tr>\n",
       "  </tbody>\n",
       "</table>\n",
       "<p>2149 rows × 2 columns</p>\n",
       "</div>"
      ],
      "text/plain": [
       "     stars                                    complete_review\n",
       "0      3.7  Bass is good bass is good sound quality is goo...\n",
       "1      3.7  This is a very good hometator, its sound and b...\n",
       "2      3.8  Op sound very pure sound but in full sound bas...\n",
       "3      3.2                                                   \n",
       "4      4.1                                                   \n",
       "...    ...                                                ...\n",
       "2144   4.1                                                   \n",
       "2145   3.8                                                   \n",
       "2146   3.8                                                   \n",
       "2147   3.9                                                   \n",
       "2148   3.2   bass like boom boom is very good sound I like it\n",
       "\n",
       "[2149 rows x 2 columns]"
      ]
     },
     "execution_count": 213,
     "metadata": {},
     "output_type": "execute_result"
    }
   ],
   "source": [
    "df=pd.DataFrame({'stars':stars[0:2149],'complete_review':complete_review[0:2149]})\n",
    "df"
   ]
  },
  {
   "cell_type": "code",
   "execution_count": 214,
   "id": "866c8d01",
   "metadata": {},
   "outputs": [],
   "source": [
    "df.to_csv(r'D:\\I\\02.Flip Robo Assignments\\01.Flip Robo Assignments\\12.Ratings Prediction Project\\Flipkart_Home_Theater.csv', index=False)"
   ]
  },
  {
   "cell_type": "code",
   "execution_count": null,
   "id": "dbd30b7d",
   "metadata": {},
   "outputs": [],
   "source": []
  },
  {
   "cell_type": "code",
   "execution_count": 215,
   "id": "75a98968",
   "metadata": {},
   "outputs": [],
   "source": [
    "#For Router Flip kart"
   ]
  },
  {
   "cell_type": "code",
   "execution_count": 216,
   "id": "108fe013",
   "metadata": {},
   "outputs": [],
   "source": [
    "driver = webdriver.Chrome(r'C:\\Users\\COTMAC\\Downloads\\chromedriver_win32\\chromedriver.exe')"
   ]
  },
  {
   "cell_type": "code",
   "execution_count": 217,
   "id": "327a4781",
   "metadata": {},
   "outputs": [],
   "source": [
    "driver.get(\"https://www.flipkart.com/\")\n",
    "time.sleep(2)"
   ]
  },
  {
   "cell_type": "code",
   "execution_count": 218,
   "id": "0ecb6ccc",
   "metadata": {},
   "outputs": [],
   "source": [
    "Laptop=driver.find_element(By.CLASS_NAME,\"_3704LK\")\n",
    "Laptop.send_keys('Router')\n",
    "\n",
    "pop_up=driver.find_element(By.XPATH,\"//button[@class='_2KpZ6l _2doB4z']\")\n",
    "pop_up.click()\n",
    "\n",
    "search=driver.find_element(By.CLASS_NAME,\"L0Z3Pu\")\n",
    "search.click()"
   ]
  },
  {
   "cell_type": "code",
   "execution_count": 220,
   "id": "c9cd8715",
   "metadata": {},
   "outputs": [],
   "source": [
    "# scrape all product urls\n",
    "product_urls = []\n",
    "start=0\n",
    "end=15\n",
    "for page in range(start,end):#for loop for scrapping 3 page\n",
    "    url=driver.find_elements(By.XPATH,\"//a[@class='s1Q9rs']\")       #scraping urls\n",
    "    for i in url:\n",
    "        product_urls.append(i.get_attribute(\"href\"))                        #appending the urls in product_urls list\n",
    "    nxt_button=driver.find_element(By.XPATH,'//a[@class=\"_1LKTO3\"]')     #scraping the list of buttons from the page\n",
    "    nxt_button.click()\n",
    "    time.sleep(2)"
   ]
  },
  {
   "cell_type": "code",
   "execution_count": 221,
   "id": "41f5476d",
   "metadata": {},
   "outputs": [
    {
     "data": {
      "text/plain": [
       "600"
      ]
     },
     "execution_count": 221,
     "metadata": {},
     "output_type": "execute_result"
    }
   ],
   "source": [
    "len(product_urls)"
   ]
  },
  {
   "cell_type": "code",
   "execution_count": 222,
   "id": "a15d3200",
   "metadata": {},
   "outputs": [],
   "source": [
    "# blank list variables \n",
    "stars=[]\n",
    "complete_review=[]\n",
    "#time.sleep(2)\n",
    "\n",
    "for i in product_urls:\n",
    "    driver.get(i)\n",
    "    #for scrapping the number of stars\n",
    "    try:\n",
    "        #for j in driver.find_elements(By.XPATH,'//span[@class=\"a-icon-alt\"]'):\n",
    "        for j in driver.find_elements(By.XPATH,'//div[@class=\"_3LWZlK\"]'):    \n",
    "            stars.append(j.text)\n",
    "    except NoSuchElementException:\n",
    "            stars.append('-')\n",
    "    #for scrapping the short review\n",
    "    try:\n",
    "        for k in driver.find_elements(By.XPATH,\"//div[@class='t-ZTKy']/div/div\"):\n",
    "            complete_review.append(k.text)\n",
    "    except NoSuchElementException:\n",
    "            complete_review.append('-')"
   ]
  },
  {
   "cell_type": "code",
   "execution_count": 223,
   "id": "4bf7cf4b",
   "metadata": {},
   "outputs": [
    {
     "name": "stdout",
     "output_type": "stream",
     "text": [
      "2256 4446\n"
     ]
    }
   ],
   "source": [
    "print(len(stars),len(complete_review))"
   ]
  },
  {
   "cell_type": "code",
   "execution_count": 224,
   "id": "1df40e0d",
   "metadata": {},
   "outputs": [
    {
     "data": {
      "text/html": [
       "<div>\n",
       "<style scoped>\n",
       "    .dataframe tbody tr th:only-of-type {\n",
       "        vertical-align: middle;\n",
       "    }\n",
       "\n",
       "    .dataframe tbody tr th {\n",
       "        vertical-align: top;\n",
       "    }\n",
       "\n",
       "    .dataframe thead th {\n",
       "        text-align: right;\n",
       "    }\n",
       "</style>\n",
       "<table border=\"1\" class=\"dataframe\">\n",
       "  <thead>\n",
       "    <tr style=\"text-align: right;\">\n",
       "      <th></th>\n",
       "      <th>stars</th>\n",
       "      <th>complete_review</th>\n",
       "    </tr>\n",
       "  </thead>\n",
       "  <tbody>\n",
       "    <tr>\n",
       "      <th>0</th>\n",
       "      <td>4.2</td>\n",
       "      <td>I have bought this product in a hurry since I ...</td>\n",
       "    </tr>\n",
       "    <tr>\n",
       "      <th>1</th>\n",
       "      <td>4.4</td>\n",
       "      <td>Good product delivered on time A real gem for ...</td>\n",
       "    </tr>\n",
       "    <tr>\n",
       "      <th>2</th>\n",
       "      <td>4.4</td>\n",
       "      <td>Hi..\\nI ordered the product and got it deliver...</td>\n",
       "    </tr>\n",
       "    <tr>\n",
       "      <th>3</th>\n",
       "      <td>4.5</td>\n",
       "      <td></td>\n",
       "    </tr>\n",
       "    <tr>\n",
       "      <th>4</th>\n",
       "      <td>4.4</td>\n",
       "      <td></td>\n",
       "    </tr>\n",
       "    <tr>\n",
       "      <th>...</th>\n",
       "      <td>...</td>\n",
       "      <td>...</td>\n",
       "    </tr>\n",
       "    <tr>\n",
       "      <th>2251</th>\n",
       "      <td>4.5</td>\n",
       "      <td>good</td>\n",
       "    </tr>\n",
       "    <tr>\n",
       "      <th>2252</th>\n",
       "      <td>3.9</td>\n",
       "      <td></td>\n",
       "    </tr>\n",
       "    <tr>\n",
       "      <th>2253</th>\n",
       "      <td>3.9</td>\n",
       "      <td></td>\n",
       "    </tr>\n",
       "    <tr>\n",
       "      <th>2254</th>\n",
       "      <td>4.5</td>\n",
       "      <td></td>\n",
       "    </tr>\n",
       "    <tr>\n",
       "      <th>2255</th>\n",
       "      <td>3.8</td>\n",
       "      <td></td>\n",
       "    </tr>\n",
       "  </tbody>\n",
       "</table>\n",
       "<p>2256 rows × 2 columns</p>\n",
       "</div>"
      ],
      "text/plain": [
       "     stars                                    complete_review\n",
       "0      4.2  I have bought this product in a hurry since I ...\n",
       "1      4.4  Good product delivered on time A real gem for ...\n",
       "2      4.4  Hi..\\nI ordered the product and got it deliver...\n",
       "3      4.5                                                   \n",
       "4      4.4                                                   \n",
       "...    ...                                                ...\n",
       "2251   4.5                                               good\n",
       "2252   3.9                                                   \n",
       "2253   3.9                                                   \n",
       "2254   4.5                                                   \n",
       "2255   3.8                                                   \n",
       "\n",
       "[2256 rows x 2 columns]"
      ]
     },
     "execution_count": 224,
     "metadata": {},
     "output_type": "execute_result"
    }
   ],
   "source": [
    "df=pd.DataFrame({'stars':stars[0:2256],'complete_review':complete_review[0:2256]})\n",
    "df"
   ]
  },
  {
   "cell_type": "code",
   "execution_count": 225,
   "id": "7f89b32d",
   "metadata": {},
   "outputs": [],
   "source": [
    "df.to_csv(r'D:\\I\\02.Flip Robo Assignments\\01.Flip Robo Assignments\\12.Ratings Prediction Project\\Flipkart_Router.csv', index=False)"
   ]
  },
  {
   "cell_type": "code",
   "execution_count": null,
   "id": "21f3f2b7",
   "metadata": {},
   "outputs": [],
   "source": []
  },
  {
   "cell_type": "code",
   "execution_count": null,
   "id": "102acc25",
   "metadata": {},
   "outputs": [],
   "source": []
  }
 ],
 "metadata": {
  "kernelspec": {
   "display_name": "Python 3 (ipykernel)",
   "language": "python",
   "name": "python3"
  },
  "language_info": {
   "codemirror_mode": {
    "name": "ipython",
    "version": 3
   },
   "file_extension": ".py",
   "mimetype": "text/x-python",
   "name": "python",
   "nbconvert_exporter": "python",
   "pygments_lexer": "ipython3",
   "version": "3.9.7"
  }
 },
 "nbformat": 4,
 "nbformat_minor": 5
}
